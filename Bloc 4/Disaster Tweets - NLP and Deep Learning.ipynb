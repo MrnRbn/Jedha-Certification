{
 "cells": [
  {
   "cell_type": "code",
   "execution_count": null,
   "id": "567797c0-28c6-4bed-99f5-f394b875e2ae",
   "metadata": {},
   "outputs": [],
   "source": [
    "!pip install kaggle"
   ]
  },
  {
   "cell_type": "code",
   "execution_count": 7,
   "id": "9e69bbfb-be49-47f1-a421-719994e30803",
   "metadata": {},
   "outputs": [
    {
     "name": "stdout",
     "output_type": "stream",
     "text": [
      "Downloading nlp-getting-started.zip to /Users/marion/Documents/Jedha/Deep Learning/NLP-with-disaster-tweets\n",
      "  0%|                                                | 0.00/593k [00:00<?, ?B/s]\n",
      "100%|████████████████████████████████████████| 593k/593k [00:00<00:00, 10.2MB/s]\n"
     ]
    }
   ],
   "source": [
    "!kaggle competitions download -c nlp-getting-started"
   ]
  },
  {
   "cell_type": "code",
   "execution_count": 28,
   "id": "ad199cb3-8c70-470c-8868-42a61aa52765",
   "metadata": {},
   "outputs": [
    {
     "name": "stdout",
     "output_type": "stream",
     "text": [
      "Collecting nltk\n",
      "  Downloading nltk-3.7-py3-none-any.whl (1.5 MB)\n",
      "\u001b[2K     \u001b[90m━━━━━━━━━━━━━━━━━━━━━━━━━━━━━━━━━━━━━━━━\u001b[0m \u001b[32m1.5/1.5 MB\u001b[0m \u001b[31m17.1 MB/s\u001b[0m eta \u001b[36m0:00:00\u001b[0m00:01\u001b[0m00:01\u001b[0m\n",
      "\u001b[?25hRequirement already satisfied: joblib in /Users/marion/miniforge3/lib/python3.9/site-packages (from nltk) (1.1.0)\n",
      "Collecting regex>=2021.8.3\n",
      "  Downloading regex-2022.9.13-cp39-cp39-macosx_11_0_arm64.whl (287 kB)\n",
      "\u001b[2K     \u001b[90m━━━━━━━━━━━━━━━━━━━━━━━━━━━━━━━━━━━━━━\u001b[0m \u001b[32m287.2/287.2 kB\u001b[0m \u001b[31m12.3 MB/s\u001b[0m eta \u001b[36m0:00:00\u001b[0m\n",
      "\u001b[?25hRequirement already satisfied: tqdm in /Users/marion/miniforge3/lib/python3.9/site-packages (from nltk) (4.64.0)\n",
      "Requirement already satisfied: click in /Users/marion/miniforge3/lib/python3.9/site-packages (from nltk) (8.1.3)\n",
      "Installing collected packages: regex, nltk\n",
      "Successfully installed nltk-3.7 regex-2022.9.13\n"
     ]
    }
   ],
   "source": [
    "!pip install nltk"
   ]
  },
  {
   "cell_type": "code",
   "execution_count": 81,
   "id": "2a78510e-66c2-472d-892f-99eee7b6152f",
   "metadata": {},
   "outputs": [],
   "source": [
    "!pip install spacy -q"
   ]
  },
  {
   "cell_type": "code",
   "execution_count": 83,
   "id": "c64491a0-0409-4ab8-a463-c2a8edf6e5ba",
   "metadata": {},
   "outputs": [
    {
     "name": "stdout",
     "output_type": "stream",
     "text": [
      "\u001b[38;5;2m✔ Download and installation successful\u001b[0m\n",
      "You can now load the package via spacy.load('en_core_web_sm')\n"
     ]
    }
   ],
   "source": [
    "!python -m spacy download en_core_web_sm -q"
   ]
  },
  {
   "cell_type": "markdown",
   "id": "e2c5292d-b587-40d1-93c7-8da276e04d85",
   "metadata": {},
   "source": [
    "# Libraries"
   ]
  },
  {
   "cell_type": "code",
   "execution_count": null,
   "id": "89487add-ff39-445a-a4af-d8372eb86d2c",
   "metadata": {},
   "outputs": [],
   "source": [
    "import pandas as pd\n",
    "import numpy as np\n",
    "import matplotlib.pyplot as plt\n",
    "import matplotlib.lines as mlines\n",
    "import seaborn as sns\n",
    "from zipfile import ZipFile\n",
    "import nltk\n",
    "from nltk.tokenize import sent_tokenize\n",
    "from nltk.tokenize import word_tokenize\n",
    "import spacy\n",
    "import tensorflow as tf\n",
    "from tensorflow.keras.layers import Embedding, SimpleRNN, Dense, GRU, LSTM, Dropout, Bidirectional, SpatialDropout1D\n",
    "import json\n",
    "import re"
   ]
  },
  {
   "cell_type": "code",
   "execution_count": null,
   "id": "63437dd7-ab21-436d-8432-8cf55d6faaed",
   "metadata": {},
   "outputs": [],
   "source": [
    "sns.set_style(\"darkgrid\")\n",
    "nltk.download('punkt')"
   ]
  },
  {
   "cell_type": "markdown",
   "id": "95c89f43-ebb4-42ca-9621-2ed4013edf5b",
   "metadata": {},
   "source": [
    "# EDA"
   ]
  },
  {
   "cell_type": "code",
   "execution_count": 3,
   "id": "8a025887-4920-44e4-9230-fe77b10a7e5b",
   "metadata": {},
   "outputs": [],
   "source": [
    "tweets_zip = ZipFile('nlp-getting-started.zip', 'r')\n",
    "tweets_zip.extractall('data')"
   ]
  },
  {
   "cell_type": "code",
   "execution_count": null,
   "id": "736bf9e9-6c8f-4154-a248-824624911bcf",
   "metadata": {},
   "outputs": [],
   "source": [
    "train = pd.read_csv('data/train.csv')\n",
    "test = pd.read_csv('data/test.csv')\n",
    "submission = pd.read_csv('data/sample_submission.csv')"
   ]
  },
  {
   "cell_type": "code",
   "execution_count": null,
   "id": "f9f36f90-f5ec-4818-8a19-e3985bab7071",
   "metadata": {},
   "outputs": [],
   "source": [
    "train.head()"
   ]
  },
  {
   "cell_type": "code",
   "execution_count": 6,
   "id": "7316d817-44b4-4ee8-9c80-4a1cb8a8c46c",
   "metadata": {},
   "outputs": [
    {
     "name": "stdout",
     "output_type": "stream",
     "text": [
      "There are 7613 rows in the train set and 3263 rows in the test set\n"
     ]
    }
   ],
   "source": [
    "print(f'There are {train.shape[0]} rows in the train set and {test.shape[0]} rows in the test set')"
   ]
  },
  {
   "cell_type": "code",
   "execution_count": 7,
   "id": "d3bd1a02-4feb-4e97-95c2-de2d32c2518e",
   "metadata": {},
   "outputs": [
    {
     "name": "stdout",
     "output_type": "stream",
     "text": [
      "<class 'pandas.core.frame.DataFrame'>\n",
      "RangeIndex: 7613 entries, 0 to 7612\n",
      "Data columns (total 5 columns):\n",
      " #   Column    Non-Null Count  Dtype \n",
      "---  ------    --------------  ----- \n",
      " 0   id        7613 non-null   int64 \n",
      " 1   keyword   7552 non-null   object\n",
      " 2   location  5080 non-null   object\n",
      " 3   text      7613 non-null   object\n",
      " 4   target    7613 non-null   int64 \n",
      "dtypes: int64(2), object(3)\n",
      "memory usage: 297.5+ KB\n"
     ]
    }
   ],
   "source": [
    "train.info()"
   ]
  },
  {
   "cell_type": "code",
   "execution_count": 8,
   "id": "51e38e33-5c07-42db-9987-6107a84a77e3",
   "metadata": {},
   "outputs": [
    {
     "name": "stdout",
     "output_type": "stream",
     "text": [
      "<class 'pandas.core.frame.DataFrame'>\n",
      "RangeIndex: 3263 entries, 0 to 3262\n",
      "Data columns (total 4 columns):\n",
      " #   Column    Non-Null Count  Dtype \n",
      "---  ------    --------------  ----- \n",
      " 0   id        3263 non-null   int64 \n",
      " 1   keyword   3237 non-null   object\n",
      " 2   location  2158 non-null   object\n",
      " 3   text      3263 non-null   object\n",
      "dtypes: int64(1), object(3)\n",
      "memory usage: 102.1+ KB\n"
     ]
    }
   ],
   "source": [
    "test.info()"
   ]
  },
  {
   "cell_type": "code",
   "execution_count": 268,
   "id": "52c80321-f61e-4700-9108-3308d12dc785",
   "metadata": {},
   "outputs": [],
   "source": [
    "train.drop(columns=['keyword', 'location', 'id'], inplace=True)\n",
    "test.drop(columns=['keyword', 'location', 'id'], inplace=True)"
   ]
  },
  {
   "cell_type": "code",
   "execution_count": 10,
   "id": "3d16e97c-cff3-42c3-ab16-80e6bdfc2a4e",
   "metadata": {},
   "outputs": [
    {
     "data": {
      "image/png": "[encoded data removed]",
      "text/plain": [
       "<Figure size 432x288 with 1 Axes>"
      ]
     },
     "metadata": {
      "needs_background": "light"
     },
     "output_type": "display_data"
    }
   ],
   "source": [
    "ax = sns.barplot(x='target', y='target', data=train, estimator=lambda x: len(x) / len(train) * 100)\n",
    "ax.set(ylabel='Percent', title='Target distributon in the train set');"
   ]
  },
  {
   "cell_type": "code",
   "execution_count": 269,
   "id": "e0e549b4-8065-44a8-ba71-30931ec6a9cd",
   "metadata": {},
   "outputs": [
    {
     "data": {
      "text/html": [
       "<div>\n",
       "<style scoped>\n",
       "    .dataframe tbody tr th:only-of-type {\n",
       "        vertical-align: middle;\n",
       "    }\n",
       "\n",
       "    .dataframe tbody tr th {\n",
       "        vertical-align: top;\n",
       "    }\n",
       "\n",
       "    .dataframe thead th {\n",
       "        text-align: right;\n",
       "    }\n",
       "</style>\n",
       "<table border=\"1\" class=\"dataframe\">\n",
       "  <thead>\n",
       "    <tr style=\"text-align: right;\">\n",
       "      <th></th>\n",
       "      <th>text</th>\n",
       "      <th>target</th>\n",
       "    </tr>\n",
       "  </thead>\n",
       "  <tbody>\n",
       "    <tr>\n",
       "      <th>0</th>\n",
       "      <td>Our Deeds are the Reason of this #earthquake M...</td>\n",
       "      <td>1</td>\n",
       "    </tr>\n",
       "    <tr>\n",
       "      <th>1</th>\n",
       "      <td>Forest fire near La Ronge Sask. Canada</td>\n",
       "      <td>1</td>\n",
       "    </tr>\n",
       "    <tr>\n",
       "      <th>2</th>\n",
       "      <td>All residents asked to 'shelter in place' are ...</td>\n",
       "      <td>1</td>\n",
       "    </tr>\n",
       "    <tr>\n",
       "      <th>3</th>\n",
       "      <td>13,000 people receive #wildfires evacuation or...</td>\n",
       "      <td>1</td>\n",
       "    </tr>\n",
       "    <tr>\n",
       "      <th>4</th>\n",
       "      <td>Just got sent this photo from Ruby #Alaska as ...</td>\n",
       "      <td>1</td>\n",
       "    </tr>\n",
       "  </tbody>\n",
       "</table>\n",
       "</div>"
      ],
      "text/plain": [
       "                                                text  target\n",
       "0  Our Deeds are the Reason of this #earthquake M...       1\n",
       "1             Forest fire near La Ronge Sask. Canada       1\n",
       "2  All residents asked to 'shelter in place' are ...       1\n",
       "3  13,000 people receive #wildfires evacuation or...       1\n",
       "4  Just got sent this photo from Ruby #Alaska as ...       1"
      ]
     },
     "execution_count": 269,
     "metadata": {},
     "output_type": "execute_result"
    }
   ],
   "source": [
    "train.head()"
   ]
  },
  {
   "cell_type": "code",
   "execution_count": 270,
   "id": "f66a4157-732d-4d4b-bdde-e1f1ce6c2054",
   "metadata": {},
   "outputs": [],
   "source": [
    "tokenizer = nltk.data.load('tokenizers/punkt/PY3/english.pickle')"
   ]
  },
  {
   "cell_type": "code",
   "execution_count": 14,
   "id": "fc42e5a0-af53-4075-81e0-1f5313753ee2",
   "metadata": {},
   "outputs": [
    {
     "data": {
      "text/html": [
       "<div>\n",
       "<style scoped>\n",
       "    .dataframe tbody tr th:only-of-type {\n",
       "        vertical-align: middle;\n",
       "    }\n",
       "\n",
       "    .dataframe tbody tr th {\n",
       "        vertical-align: top;\n",
       "    }\n",
       "\n",
       "    .dataframe thead th {\n",
       "        text-align: right;\n",
       "    }\n",
       "</style>\n",
       "<table border=\"1\" class=\"dataframe\">\n",
       "  <thead>\n",
       "    <tr style=\"text-align: right;\">\n",
       "      <th></th>\n",
       "      <th>id</th>\n",
       "      <th>text</th>\n",
       "      <th>target</th>\n",
       "      <th>count_sentences</th>\n",
       "      <th>count_words</th>\n",
       "    </tr>\n",
       "  </thead>\n",
       "  <tbody>\n",
       "    <tr>\n",
       "      <th>0</th>\n",
       "      <td>1</td>\n",
       "      <td>Our Deeds are the Reason of this #earthquake M...</td>\n",
       "      <td>1</td>\n",
       "      <td>1</td>\n",
       "      <td>14</td>\n",
       "    </tr>\n",
       "    <tr>\n",
       "      <th>1</th>\n",
       "      <td>4</td>\n",
       "      <td>Forest fire near La Ronge Sask. Canada</td>\n",
       "      <td>1</td>\n",
       "      <td>2</td>\n",
       "      <td>8</td>\n",
       "    </tr>\n",
       "    <tr>\n",
       "      <th>2</th>\n",
       "      <td>5</td>\n",
       "      <td>All residents asked to 'shelter in place' are ...</td>\n",
       "      <td>1</td>\n",
       "      <td>2</td>\n",
       "      <td>24</td>\n",
       "    </tr>\n",
       "    <tr>\n",
       "      <th>3</th>\n",
       "      <td>6</td>\n",
       "      <td>13,000 people receive #wildfires evacuation or...</td>\n",
       "      <td>1</td>\n",
       "      <td>1</td>\n",
       "      <td>9</td>\n",
       "    </tr>\n",
       "    <tr>\n",
       "      <th>4</th>\n",
       "      <td>7</td>\n",
       "      <td>Just got sent this photo from Ruby #Alaska as ...</td>\n",
       "      <td>1</td>\n",
       "      <td>1</td>\n",
       "      <td>18</td>\n",
       "    </tr>\n",
       "    <tr>\n",
       "      <th>5</th>\n",
       "      <td>8</td>\n",
       "      <td>#RockyFire Update =&gt; California Hwy. 20 closed...</td>\n",
       "      <td>1</td>\n",
       "      <td>2</td>\n",
       "      <td>23</td>\n",
       "    </tr>\n",
       "    <tr>\n",
       "      <th>6</th>\n",
       "      <td>10</td>\n",
       "      <td>#flood #disaster Heavy rain causes flash flood...</td>\n",
       "      <td>1</td>\n",
       "      <td>1</td>\n",
       "      <td>17</td>\n",
       "    </tr>\n",
       "    <tr>\n",
       "      <th>7</th>\n",
       "      <td>13</td>\n",
       "      <td>I'm on top of the hill and I can see a fire in...</td>\n",
       "      <td>1</td>\n",
       "      <td>1</td>\n",
       "      <td>17</td>\n",
       "    </tr>\n",
       "    <tr>\n",
       "      <th>8</th>\n",
       "      <td>14</td>\n",
       "      <td>There's an emergency evacuation happening now ...</td>\n",
       "      <td>1</td>\n",
       "      <td>1</td>\n",
       "      <td>13</td>\n",
       "    </tr>\n",
       "    <tr>\n",
       "      <th>9</th>\n",
       "      <td>15</td>\n",
       "      <td>I'm afraid that the tornado is coming to our a...</td>\n",
       "      <td>1</td>\n",
       "      <td>1</td>\n",
       "      <td>12</td>\n",
       "    </tr>\n",
       "  </tbody>\n",
       "</table>\n",
       "</div>"
      ],
      "text/plain": [
       "   id                                               text  target  \\\n",
       "0   1  Our Deeds are the Reason of this #earthquake M...       1   \n",
       "1   4             Forest fire near La Ronge Sask. Canada       1   \n",
       "2   5  All residents asked to 'shelter in place' are ...       1   \n",
       "3   6  13,000 people receive #wildfires evacuation or...       1   \n",
       "4   7  Just got sent this photo from Ruby #Alaska as ...       1   \n",
       "5   8  #RockyFire Update => California Hwy. 20 closed...       1   \n",
       "6  10  #flood #disaster Heavy rain causes flash flood...       1   \n",
       "7  13  I'm on top of the hill and I can see a fire in...       1   \n",
       "8  14  There's an emergency evacuation happening now ...       1   \n",
       "9  15  I'm afraid that the tornado is coming to our a...       1   \n",
       "\n",
       "   count_sentences  count_words  \n",
       "0                1           14  \n",
       "1                2            8  \n",
       "2                2           24  \n",
       "3                1            9  \n",
       "4                1           18  \n",
       "5                2           23  \n",
       "6                1           17  \n",
       "7                1           17  \n",
       "8                1           13  \n",
       "9                1           12  "
      ]
     },
     "execution_count": 14,
     "metadata": {},
     "output_type": "execute_result"
    }
   ],
   "source": [
    "train['count_sentences'] = train['text'].apply(lambda x : len(sent_tokenize(x)))\n",
    "train['count_words'] = train['text'].apply(lambda x : len(word_tokenize(x)))\n",
    "train.head(10)"
   ]
  },
  {
   "cell_type": "code",
   "execution_count": 15,
   "id": "d4b7c78e-43c7-4740-9d59-35c80f3578a6",
   "metadata": {},
   "outputs": [
    {
     "data": {
      "text/plain": [
       "<seaborn.axisgrid.FacetGrid at 0x294284190>"
      ]
     },
     "execution_count": 15,
     "metadata": {},
     "output_type": "execute_result"
    },
    {
     "data": {
      "image/png": "[encoded data removed]",
      "text/plain": [
       "<Figure size 576x288 with 2 Axes>"
      ]
     },
     "metadata": {
      "needs_background": "light"
     },
     "output_type": "display_data"
    }
   ],
   "source": [
    "g = sns.FacetGrid(train, col='target', height=4)\n",
    "g.map(sns.histplot,'count_sentences', bins=12, stat='percent')"
   ]
  },
  {
   "cell_type": "code",
   "execution_count": 16,
   "id": "d0b06d66-de36-43d5-8fde-1b2a2ad86336",
   "metadata": {},
   "outputs": [
    {
     "data": {
      "text/plain": [
       "<seaborn.axisgrid.FacetGrid at 0x2b9d34e50>"
      ]
     },
     "execution_count": 16,
     "metadata": {},
     "output_type": "execute_result"
    },
    {
     "data": {
      "image/png": "[encoded data removed]",
      "text/plain": [
       "<Figure size 576x288 with 2 Axes>"
      ]
     },
     "metadata": {
      "needs_background": "light"
     },
     "output_type": "display_data"
    }
   ],
   "source": [
    "g = sns.FacetGrid(train, col='target', height=4)\n",
    "g.map(sns.histplot,'count_words', stat='percent')"
   ]
  },
  {
   "cell_type": "code",
   "execution_count": 17,
   "id": "3bd20f3b-16b0-46de-b446-907cebf76513",
   "metadata": {},
   "outputs": [
    {
     "name": "stdout",
     "output_type": "stream",
     "text": [
      "For distaster tweets:\n",
      "The mean number of sentences is 1.4 and the median is 1.0\n",
      "The mean number of words is 19.26 and the median is 20.0\n",
      "For non distaster tweets:\n",
      "The mean number of sentences is 1.6 and the median is 1.0\n",
      "The mean number of words is 18.66 and the median is 19.0\n"
     ]
    }
   ],
   "source": [
    "train_disasters = train[train['target'] == 1]\n",
    "train_not_disasters = train[train['target'] == 0]\n",
    "\n",
    "print('For distaster tweets:')\n",
    "print(f'The mean number of sentences is {round(train_disasters[\"count_sentences\"].mean(),2)} and the median is {train_disasters[\"count_sentences\"].median()}')\n",
    "print(f'The mean number of words is {round(train_disasters[\"count_words\"].mean(),2)} and the median is {train_disasters[\"count_words\"].median()}')\n",
    "\n",
    "print('For non distaster tweets:')\n",
    "print(f'The mean number of sentences is {round(train_not_disasters[\"count_sentences\"].mean(),2)} and the median is {train_not_disasters[\"count_sentences\"].median()}')\n",
    "print(f'The mean number of words is {round(train_not_disasters[\"count_words\"].mean(),2)} and the median is {train_not_disasters[\"count_words\"].median()}')"
   ]
  },
  {
   "cell_type": "markdown",
   "id": "56fe0839-6958-46a9-a7cd-316dd3727172",
   "metadata": {},
   "source": [
    "Disaster tweets are slightly longer"
   ]
  },
  {
   "cell_type": "markdown",
   "id": "02880959-ac02-402b-8c3e-a90944163d15",
   "metadata": {},
   "source": [
    "# Preprocessing"
   ]
  },
  {
   "cell_type": "code",
   "execution_count": 271,
   "id": "472c6169-9b3d-46d1-9f7d-7bdccdbef9eb",
   "metadata": {},
   "outputs": [],
   "source": [
    "import en_core_web_sm\n",
    "nlp = en_core_web_sm.load()\n",
    "from spacy.lang.en.stop_words import STOP_WORDS\n",
    "from nltk.tokenize import TweetTokenizer"
   ]
  },
  {
   "cell_type": "code",
   "execution_count": 272,
   "id": "45cbdc38-eed3-4fa3-89f3-5f0e4fb37fae",
   "metadata": {},
   "outputs": [],
   "source": [
    "def preprocess(text):\n",
    "    text = re.sub('(http|https|ftp)\\:\\/\\/[a-zA-Z0-9\\-\\.]+\\.[a-zA-Z]{2,3}(\\/\\S*)?', '', text)\n",
    "    text = re.sub(\"@[A-Za-z0-9_]+\",\"\", text)\n",
    "    text = ''.join(ch for ch in text if ch.isalnum() or ch==' ')\n",
    "    text = text.lower().strip()\n",
    "    text = ' '.join([token.lemma_ for token in nlp(text) if (token.lemma_ not in STOP_WORDS) and (token.text not in STOP_WORDS)])\n",
    "    return text"
   ]
  },
  {
   "cell_type": "code",
   "execution_count": 273,
   "id": "ebaab8a4-8007-4fa0-b23a-25890d16f730",
   "metadata": {},
   "outputs": [],
   "source": [
    "train['text_clean'] = train['text'].apply(lambda x: preprocess(x))\n",
    "test['text_clean'] = test['text'].apply(lambda x: preprocess(x))"
   ]
  },
  {
   "cell_type": "code",
   "execution_count": 276,
   "id": "b30f9dee-dc3d-4a14-a8d6-b8794054bd26",
   "metadata": {},
   "outputs": [
    {
     "data": {
      "text/plain": [
       "text            On plus side LOOK AT THE SKY LAST NIGHT IT WAS...\n",
       "target                                                          0\n",
       "text_clean                             plus look sky night ablaze\n",
       "text_encoded                                  [22, 706, 185, 462]\n",
       "len_text                                                       26\n",
       "Name: 35, dtype: object"
      ]
     },
     "execution_count": 276,
     "metadata": {},
     "output_type": "execute_result"
    }
   ],
   "source": [
    "train.loc[35]"
   ]
  },
  {
   "cell_type": "code",
   "execution_count": 208,
   "id": "f5b11c79-e290-4a6e-96dd-65ef0edf7a2b",
   "metadata": {},
   "outputs": [],
   "source": [
    "# Using TweetTokenizer from NLTK instead of TF Tokenizer as it handles better casual language\n",
    "#tknzr = TweetTokenizer(strip_handles=True, reduce_len=True)\n",
    "#train['text_tokenize'] = train['text_clean'].apply(lambda x : tknzr.tokenize(x))"
   ]
  },
  {
   "cell_type": "code",
   "execution_count": 277,
   "id": "1a159a05-6178-4529-9eaa-48306f8b0289",
   "metadata": {},
   "outputs": [],
   "source": [
    "tokenizer = tf.keras.preprocessing.text.Tokenizer(num_words=1000) # instanciate the tokenizer\n",
    "tokenizer.fit_on_texts(train['text_clean'])\n",
    "train['text_encoded'] = tokenizer.texts_to_sequences(train['text_clean'])\n",
    "test['text_encoded'] = tokenizer.texts_to_sequences(test['text_clean'])\n",
    "train['len_text'] = train['text_encoded'].apply(lambda x: len(x))\n",
    "train = train[train['len_text']!=0]"
   ]
  },
  {
   "cell_type": "code",
   "execution_count": 279,
   "id": "d9e2ac29-8084-4938-99b7-a5060f1583e6",
   "metadata": {},
   "outputs": [
    {
     "data": {
      "text/plain": [
       "array([[408, 169,   0, ...,   0,   0,   0],\n",
       "       [117,   2, 159, ...,   0,   0,   0],\n",
       "       [441, 320, 290, ...,   0,   0,   0],\n",
       "       ...,\n",
       "       [437,   5, 389, ...,   0,   0,   0],\n",
       "       [ 23, 734,  88, ...,   0,   0,   0],\n",
       "       [107,  25, 357, ...,   0,   0,   0]], dtype=int32)"
      ]
     },
     "execution_count": 279,
     "metadata": {},
     "output_type": "execute_result"
    }
   ],
   "source": [
    "text_pad = tf.keras.preprocessing.sequence.pad_sequences(train['text_encoded'], padding=\"post\")\n",
    "text_pad"
   ]
  },
  {
   "cell_type": "code",
   "execution_count": 280,
   "id": "55711b00-6c86-4cef-90e5-49ea09bd6844",
   "metadata": {},
   "outputs": [],
   "source": [
    "full_ds = tf.data.Dataset.from_tensor_slices((text_pad, train['target']))"
   ]
  },
  {
   "cell_type": "code",
   "execution_count": 281,
   "id": "3a958046-cc74-4f2c-a46a-0d1a00bffefa",
   "metadata": {},
   "outputs": [],
   "source": [
    "# Train Test Split\n",
    "TAKE_SIZE = int(0.7*train.shape[0])\n",
    "\n",
    "train_data = full_ds.take(TAKE_SIZE).shuffle(TAKE_SIZE)\n",
    "train_data = train_data.batch(100)\n",
    "\n",
    "val_data = full_ds.skip(TAKE_SIZE)\n",
    "val_data = val_data.batch(100)"
   ]
  },
  {
   "cell_type": "code",
   "execution_count": 248,
   "id": "90423b1b-9222-4ec1-ba1e-b1f01c49ebed",
   "metadata": {},
   "outputs": [
    {
     "name": "stdout",
     "output_type": "stream",
     "text": [
      "tf.Tensor(\n",
      "[[172 717 351 ...   0   0   0]\n",
      " [ 35 774 323 ...   0   0   0]\n",
      " [269 886 963 ...   0   0   0]\n",
      " ...\n",
      " [  9  30 119 ...   0   0   0]\n",
      " [245   0   0 ...   0   0   0]\n",
      " [884 235   0 ...   0   0   0]], shape=(100, 18), dtype=int32) tf.Tensor(\n",
      "[0 1 0 0 1 1 0 0 0 1 1 1 1 1 0 0 1 0 0 0 1 1 0 0 0 0 0 1 0 0 1 0 0 1 0 1 0\n",
      " 1 1 1 0 0 0 0 0 0 0 0 1 0 0 0 0 0 1 0 1 1 0 0 1 1 0 0 0 0 1 0 1 1 0 0 1 0\n",
      " 0 1 1 1 1 0 1 1 1 0 0 0 0 0 0 1 1 0 1 0 0 0 0 0 0 1], shape=(100,), dtype=int64)\n"
     ]
    }
   ],
   "source": [
    "for tweet, target in train_data.take(1):\n",
    "    print(tweet, target)"
   ]
  },
  {
   "cell_type": "markdown",
   "id": "b60d0a6b-5db6-43f9-9d53-d648aaace911",
   "metadata": {},
   "source": [
    "# Model selection"
   ]
  },
  {
   "cell_type": "markdown",
   "id": "64aec3b3-b9cf-4961-bd83-b0e1e31f23bb",
   "metadata": {},
   "source": [
    "## Baseline - SimpleRNN \n",
    "### Model"
   ]
  },
  {
   "cell_type": "code",
   "execution_count": 335,
   "id": "0a8945b5-5437-4786-b8be-f1ea6bc4caaa",
   "metadata": {},
   "outputs": [],
   "source": [
    "vocab_size = tokenizer.num_words \n",
    "model_srnn_baseline = tf.keras.Sequential([       \n",
    "                  Embedding(vocab_size, 32, input_shape=[tweet.shape[1],],name=\"embedding\"),\n",
    "                  SimpleRNN(units=16, return_sequences=False), # returns the last output\n",
    "                  Dropout(0.3),\n",
    "                  Dense(1, activation=\"sigmoid\")\n",
    "])"
   ]
  },
  {
   "cell_type": "code",
   "execution_count": 336,
   "id": "30e9de10-1b29-4817-bd3a-b83e6989a6b9",
   "metadata": {},
   "outputs": [
    {
     "name": "stdout",
     "output_type": "stream",
     "text": [
      "Model: \"sequential_40\"\n",
      "_________________________________________________________________\n",
      " Layer (type)                Output Shape              Param #   \n",
      "=================================================================\n",
      " embedding (Embedding)       (None, 18, 32)            32000     \n",
      "                                                                 \n",
      " simple_rnn_48 (SimpleRNN)   (None, 16)                784       \n",
      "                                                                 \n",
      " dropout_33 (Dropout)        (None, 16)                0         \n",
      "                                                                 \n",
      " dense_75 (Dense)            (None, 1)                 17        \n",
      "                                                                 \n",
      "=================================================================\n",
      "Total params: 32,801\n",
      "Trainable params: 32,801\n",
      "Non-trainable params: 0\n",
      "_________________________________________________________________\n"
     ]
    }
   ],
   "source": [
    "model_srnn_baseline.summary()"
   ]
  },
  {
   "cell_type": "code",
   "execution_count": 337,
   "id": "03f2a847-092e-4737-9882-86060e260311",
   "metadata": {},
   "outputs": [],
   "source": [
    "optimizer= tf.keras.optimizers.Adam(0.0001)\n",
    "\n",
    "model_srnn_baseline.compile(optimizer=optimizer,\n",
    "              loss=tf.keras.losses.BinaryCrossentropy(),\n",
    "              metrics=['accuracy'])"
   ]
  },
  {
   "cell_type": "code",
   "execution_count": 338,
   "id": "9926d8c8-ff05-4cb1-8826-f83d7dfa73a1",
   "metadata": {},
   "outputs": [
    {
     "data": {
      "text/plain": [
       "{0: 0.8789890519450269, 1: 1.1596496619545174}"
      ]
     },
     "execution_count": 338,
     "metadata": {},
     "output_type": "execute_result"
    }
   ],
   "source": [
    "weights = 1/(train['target']).value_counts()\n",
    "weights = weights * len(train)/2\n",
    "weights = {index : values for index , values in zip(weights.index,weights.values)}\n",
    "weights"
   ]
  },
  {
   "cell_type": "code",
   "execution_count": 339,
   "id": "b029ae40-6c55-4534-b748-56501e219160",
   "metadata": {},
   "outputs": [
    {
     "name": "stdout",
     "output_type": "stream",
     "text": [
      "Epoch 1/20\n"
     ]
    },
    {
     "name": "stderr",
     "output_type": "stream",
     "text": [
      "2022-11-16 16:19:22.573331: I tensorflow/core/grappler/optimizers/custom_graph_optimizer_registry.cc:113] Plugin optimizer for device_type GPU is enabled.\n"
     ]
    },
    {
     "name": "stdout",
     "output_type": "stream",
     "text": [
      "53/53 [==============================] - ETA: 0s - loss: 0.6946 - accuracy: 0.5409"
     ]
    },
    {
     "name": "stderr",
     "output_type": "stream",
     "text": [
      "2022-11-16 16:19:39.950744: I tensorflow/core/grappler/optimizers/custom_graph_optimizer_registry.cc:113] Plugin optimizer for device_type GPU is enabled.\n"
     ]
    },
    {
     "name": "stdout",
     "output_type": "stream",
     "text": [
      "53/53 [==============================] - 20s 335ms/step - loss: 0.6946 - accuracy: 0.5409 - val_loss: 0.6894 - val_accuracy: 0.5656\n",
      "Epoch 2/20\n",
      "53/53 [==============================] - 12s 226ms/step - loss: 0.6856 - accuracy: 0.5693 - val_loss: 0.6860 - val_accuracy: 0.5753\n",
      "Epoch 3/20\n",
      "53/53 [==============================] - 12s 219ms/step - loss: 0.6787 - accuracy: 0.6030 - val_loss: 0.6837 - val_accuracy: 0.5801\n",
      "Epoch 4/20\n",
      "53/53 [==============================] - 12s 220ms/step - loss: 0.6650 - accuracy: 0.6454 - val_loss: 0.6711 - val_accuracy: 0.6057\n",
      "Epoch 5/20\n",
      "53/53 [==============================] - 11s 212ms/step - loss: 0.6349 - accuracy: 0.6924 - val_loss: 0.6491 - val_accuracy: 0.6402\n",
      "Epoch 6/20\n",
      "53/53 [==============================] - 12s 221ms/step - loss: 0.5849 - accuracy: 0.7336 - val_loss: 0.6247 - val_accuracy: 0.6658\n",
      "Epoch 7/20\n",
      "53/53 [==============================] - 12s 221ms/step - loss: 0.5293 - accuracy: 0.7741 - val_loss: 0.6132 - val_accuracy: 0.6706\n",
      "Epoch 8/20\n",
      "53/53 [==============================] - 11s 211ms/step - loss: 0.4865 - accuracy: 0.8039 - val_loss: 0.6071 - val_accuracy: 0.6808\n",
      "Epoch 9/20\n",
      "53/53 [==============================] - 11s 208ms/step - loss: 0.4589 - accuracy: 0.8217 - val_loss: 0.6091 - val_accuracy: 0.6843\n",
      "Epoch 10/20\n",
      "53/53 [==============================] - 11s 210ms/step - loss: 0.4355 - accuracy: 0.8357 - val_loss: 0.6140 - val_accuracy: 0.6821\n",
      "Epoch 11/20\n",
      "53/53 [==============================] - 11s 216ms/step - loss: 0.4190 - accuracy: 0.8457 - val_loss: 0.6308 - val_accuracy: 0.6720\n"
     ]
    },
    {
     "data": {
      "text/plain": [
       "<keras.callbacks.History at 0x706d2a760>"
      ]
     },
     "execution_count": 339,
     "metadata": {},
     "output_type": "execute_result"
    }
   ],
   "source": [
    "es_callback = tf.keras.callbacks.EarlyStopping(monitor='val_loss', patience=3)\n",
    "model_srnn_baseline.fit(train_data, epochs=20, validation_data=val_data, callbacks=[es_callback], class_weight=weights)"
   ]
  },
  {
   "cell_type": "code",
   "execution_count": 341,
   "id": "90eb6419-2b9e-4788-982e-d2d97f91cc61",
   "metadata": {},
   "outputs": [],
   "source": [
    "model_srnn_baseline.save('models/model_simpleRNN_baseline.h5')\n",
    "json.dump(model_srnn_baseline.history.history, open('models/simpleRNN_baseline_history.json', 'w'))"
   ]
  },
  {
   "cell_type": "markdown",
   "id": "442cb980-e221-4187-a0d5-b5ffa5c2673f",
   "metadata": {},
   "source": [
    "### Evaluation"
   ]
  },
  {
   "cell_type": "code",
   "execution_count": 342,
   "id": "992e2baf-bfde-41a5-aa74-e385a79020ae",
   "metadata": {},
   "outputs": [],
   "source": [
    "simpleRNN_baseline_history = json.load(open('models/simpleRNN_baseline_history.json', 'r'))"
   ]
  },
  {
   "cell_type": "code",
   "execution_count": 343,
   "id": "3586e7a2-15e8-4a12-9b7a-a83fa29988d2",
   "metadata": {},
   "outputs": [],
   "source": [
    "def plot_history(history):\n",
    "\n",
    "    fig, axes = plt.subplots(1, 2, figsize=(20, 5))\n",
    "\n",
    "    x_lim = len(history['loss']) + 1\n",
    "\n",
    "    # legend \n",
    "    train_line = mlines.Line2D([], [], color='blue', label='Train set')\n",
    "    val_line = mlines.Line2D([], [], color='red', label='Validation set')\n",
    "\n",
    "    # Loss\n",
    "    sns.lineplot(x = range(1,x_lim), y=history['loss'], ax=axes[0], color='blue')\n",
    "    sns.lineplot(x = range(1,x_lim), y=history['val_loss'], ax=axes[0], color='red')\n",
    "    axes[0].legend(handles=[train_line, val_line], loc='upper left')\n",
    "    axes[0].set(xlabel='Epochs', title='Loss')\n",
    "    axes[0].set_xticks(range(x_lim), labels=range(0,x_lim))\n",
    "\n",
    "    # Accuracy\n",
    "    sns.lineplot(x = range(1,x_lim), y=history['accuracy'], ax=axes[1], color='blue')\n",
    "    sns.lineplot(x = range(1,x_lim), y=history['val_accuracy'], ax=axes[1], color='red')\n",
    "    axes[1].legend(handles=[train_line, val_line], loc='upper left')\n",
    "    axes[1].set(xlabel='Epochs', title='Accuracy')\n",
    "    axes[1].set_xticks(range(x_lim), labels=range(0,x_lim));\n"
   ]
  },
  {
   "cell_type": "code",
   "execution_count": 344,
   "id": "cc81f77d-b470-4829-91d0-4c20b3fae2e6",
   "metadata": {},
   "outputs": [
    {
     "data": {
      "image/png": "[encoded data removed]",
      "text/plain": [
       "<Figure size 1440x360 with 2 Axes>"
      ]
     },
     "metadata": {},
     "output_type": "display_data"
    }
   ],
   "source": [
    "plot_history(simpleRNN_baseline_history)"
   ]
  },
  {
   "cell_type": "markdown",
   "id": "c9a0a241-25fd-45f9-9036-93f2e20d913b",
   "metadata": {},
   "source": [
    "## GRU\n",
    "### Model"
   ]
  },
  {
   "cell_type": "code",
   "execution_count": 348,
   "id": "7ab69f84-0b37-43b3-99c3-fdc981d2ef9d",
   "metadata": {},
   "outputs": [],
   "source": [
    "model_gru = tf.keras.Sequential([\n",
    "                  Embedding(vocab_size, 32, input_shape=[tweet.shape[1],],name=\"embedding\"),\n",
    "                  GRU(units=16, return_sequences=False), # returns the last output\n",
    "                  Dropout(0.3),\n",
    "                  Dense(1, activation=\"sigmoid\")\n",
    "])"
   ]
  },
  {
   "cell_type": "code",
   "execution_count": 349,
   "id": "7ddb72c8-64db-4a6c-b96e-bbdb3dc9d558",
   "metadata": {},
   "outputs": [
    {
     "name": "stdout",
     "output_type": "stream",
     "text": [
      "Model: \"sequential_42\"\n",
      "_________________________________________________________________\n",
      " Layer (type)                Output Shape              Param #   \n",
      "=================================================================\n",
      " embedding (Embedding)       (None, 18, 32)            32000     \n",
      "                                                                 \n",
      " gru_5 (GRU)                 (None, 16)                2400      \n",
      "                                                                 \n",
      " dropout_35 (Dropout)        (None, 16)                0         \n",
      "                                                                 \n",
      " dense_77 (Dense)            (None, 1)                 17        \n",
      "                                                                 \n",
      "=================================================================\n",
      "Total params: 34,417\n",
      "Trainable params: 34,417\n",
      "Non-trainable params: 0\n",
      "_________________________________________________________________\n"
     ]
    }
   ],
   "source": [
    "model_gru.summary()"
   ]
  },
  {
   "cell_type": "code",
   "execution_count": 355,
   "id": "9f57575b-3be6-4b14-b8b1-aefe19edbf1f",
   "metadata": {},
   "outputs": [],
   "source": [
    "optimizer= tf.keras.optimizers.Adam(0.0001)\n",
    "\n",
    "model_gru.compile(optimizer=optimizer,\n",
    "              loss=tf.keras.losses.BinaryCrossentropy(),\n",
    "              metrics=['accuracy'])"
   ]
  },
  {
   "cell_type": "code",
   "execution_count": 356,
   "id": "d3f6d983-1942-475d-900a-701ac607d9ab",
   "metadata": {},
   "outputs": [
    {
     "name": "stdout",
     "output_type": "stream",
     "text": [
      "Epoch 1/20\n"
     ]
    },
    {
     "name": "stderr",
     "output_type": "stream",
     "text": [
      "2022-11-16 20:58:03.865299: I tensorflow/core/grappler/optimizers/custom_graph_optimizer_registry.cc:113] Plugin optimizer for device_type GPU is enabled.\n",
      "2022-11-16 20:58:04.145904: I tensorflow/core/grappler/optimizers/custom_graph_optimizer_registry.cc:113] Plugin optimizer for device_type GPU is enabled.\n",
      "2022-11-16 20:58:05.351110: I tensorflow/core/grappler/optimizers/custom_graph_optimizer_registry.cc:113] Plugin optimizer for device_type GPU is enabled.\n"
     ]
    },
    {
     "name": "stdout",
     "output_type": "stream",
     "text": [
      "53/53 [==============================] - ETA: 0s - loss: 0.3801 - accuracy: 0.8444"
     ]
    },
    {
     "name": "stderr",
     "output_type": "stream",
     "text": [
      "2022-11-16 20:58:12.087063: I tensorflow/core/grappler/optimizers/custom_graph_optimizer_registry.cc:113] Plugin optimizer for device_type GPU is enabled.\n",
      "2022-11-16 20:58:12.209017: I tensorflow/core/grappler/optimizers/custom_graph_optimizer_registry.cc:113] Plugin optimizer for device_type GPU is enabled.\n"
     ]
    },
    {
     "name": "stdout",
     "output_type": "stream",
     "text": [
      "53/53 [==============================] - 10s 145ms/step - loss: 0.3801 - accuracy: 0.8444 - val_loss: 0.5643 - val_accuracy: 0.7214\n",
      "Epoch 2/20\n",
      "53/53 [==============================] - 4s 66ms/step - loss: 0.3750 - accuracy: 0.8482 - val_loss: 0.5751 - val_accuracy: 0.7135\n",
      "Epoch 3/20\n",
      "53/53 [==============================] - 3s 49ms/step - loss: 0.3733 - accuracy: 0.8501 - val_loss: 0.5775 - val_accuracy: 0.7152\n",
      "Epoch 4/20\n",
      "53/53 [==============================] - 2s 38ms/step - loss: 0.3717 - accuracy: 0.8478 - val_loss: 0.5747 - val_accuracy: 0.7188\n"
     ]
    },
    {
     "data": {
      "text/plain": [
       "<keras.callbacks.History at 0x64fb287f0>"
      ]
     },
     "execution_count": 356,
     "metadata": {},
     "output_type": "execute_result"
    }
   ],
   "source": [
    "es_callback = tf.keras.callbacks.EarlyStopping(monitor='val_loss', patience=3)\n",
    "model_gru.fit(train_data, epochs=20, validation_data=val_data, callbacks=[es_callback], class_weight=weights)"
   ]
  },
  {
   "cell_type": "code",
   "execution_count": 359,
   "id": "c0a2ce4a-39bd-43f8-891f-3910c8bf1804",
   "metadata": {},
   "outputs": [],
   "source": [
    "model_gru.save('models/model_GRU.h5')\n",
    "json.dump(model_gru.history.history, open('models/GRU_history.json', 'w'))"
   ]
  },
  {
   "cell_type": "markdown",
   "id": "3d703d8b-8dfe-4b0c-99ca-4cf61c046077",
   "metadata": {},
   "source": [
    "### Evaluation"
   ]
  },
  {
   "cell_type": "code",
   "execution_count": 361,
   "id": "04185658-9a78-4575-8e9e-a1bfd51091ab",
   "metadata": {},
   "outputs": [
    {
     "data": {
      "image/png": "[encoded data removed]",
      "text/plain": [
       "<Figure size 1440x360 with 2 Axes>"
      ]
     },
     "metadata": {},
     "output_type": "display_data"
    }
   ],
   "source": [
    "GRU_history = json.load(open('models/GRU_history.json', 'r'))\n",
    "plot_history(GRU_history)"
   ]
  },
  {
   "cell_type": "markdown",
   "id": "2fe1606a-3cc2-4d87-a2f5-81c94da20221",
   "metadata": {},
   "source": [
    "## LSTM\n",
    "### Model"
   ]
  },
  {
   "cell_type": "code",
   "execution_count": 365,
   "id": "e95e98e0-db30-4451-99e5-35027b296c1f",
   "metadata": {},
   "outputs": [],
   "source": [
    "model_lstm = tf.keras.Sequential([\n",
    "                  Embedding(vocab_size, 32, input_shape=[tweet.shape[1],],name=\"embedding\"),\n",
    "                  LSTM(units=16, return_sequences=False), # returns the last output\n",
    "                  Dropout(0.3),\n",
    "                  Dense(1, activation=\"sigmoid\")\n",
    "])"
   ]
  },
  {
   "cell_type": "code",
   "execution_count": 366,
   "id": "2a6d3b79-0cf7-4a3b-8b1f-873cae9f8b1e",
   "metadata": {},
   "outputs": [
    {
     "name": "stdout",
     "output_type": "stream",
     "text": [
      "Model: \"sequential_44\"\n",
      "_________________________________________________________________\n",
      " Layer (type)                Output Shape              Param #   \n",
      "=================================================================\n",
      " embedding (Embedding)       (None, 18, 32)            32000     \n",
      "                                                                 \n",
      " lstm_2 (LSTM)               (None, 16)                3136      \n",
      "                                                                 \n",
      " dropout_37 (Dropout)        (None, 16)                0         \n",
      "                                                                 \n",
      " dense_79 (Dense)            (None, 1)                 17        \n",
      "                                                                 \n",
      "=================================================================\n",
      "Total params: 35,153\n",
      "Trainable params: 35,153\n",
      "Non-trainable params: 0\n",
      "_________________________________________________________________\n"
     ]
    }
   ],
   "source": [
    "model_lstm.summary()"
   ]
  },
  {
   "cell_type": "code",
   "execution_count": 367,
   "id": "20044c1e-d87f-460a-9fdc-729b291b5621",
   "metadata": {},
   "outputs": [],
   "source": [
    "optimizer= tf.keras.optimizers.Adam(0.0001)\n",
    "\n",
    "model_lstm.compile(optimizer=optimizer,\n",
    "              loss=tf.keras.losses.BinaryCrossentropy(),\n",
    "              metrics=['accuracy'])"
   ]
  },
  {
   "cell_type": "code",
   "execution_count": 368,
   "id": "53527dfe-fc5a-4fad-8aff-ccf3933aafd0",
   "metadata": {},
   "outputs": [
    {
     "name": "stdout",
     "output_type": "stream",
     "text": [
      "Epoch 1/20\n"
     ]
    },
    {
     "name": "stderr",
     "output_type": "stream",
     "text": [
      "2022-11-16 21:03:24.966244: I tensorflow/core/grappler/optimizers/custom_graph_optimizer_registry.cc:113] Plugin optimizer for device_type GPU is enabled.\n",
      "2022-11-16 21:03:25.304145: I tensorflow/core/grappler/optimizers/custom_graph_optimizer_registry.cc:113] Plugin optimizer for device_type GPU is enabled.\n",
      "2022-11-16 21:03:26.670086: I tensorflow/core/grappler/optimizers/custom_graph_optimizer_registry.cc:113] Plugin optimizer for device_type GPU is enabled.\n"
     ]
    },
    {
     "name": "stdout",
     "output_type": "stream",
     "text": [
      "53/53 [==============================] - ETA: 0s - loss: 0.6921 - accuracy: 0.5148"
     ]
    },
    {
     "name": "stderr",
     "output_type": "stream",
     "text": [
      "2022-11-16 21:03:34.267345: I tensorflow/core/grappler/optimizers/custom_graph_optimizer_registry.cc:113] Plugin optimizer for device_type GPU is enabled.\n",
      "2022-11-16 21:03:34.413216: I tensorflow/core/grappler/optimizers/custom_graph_optimizer_registry.cc:113] Plugin optimizer for device_type GPU is enabled.\n"
     ]
    },
    {
     "name": "stdout",
     "output_type": "stream",
     "text": [
      "53/53 [==============================] - 13s 161ms/step - loss: 0.6921 - accuracy: 0.5148 - val_loss: 0.6921 - val_accuracy: 0.5673\n",
      "Epoch 2/20\n",
      "53/53 [==============================] - 3s 62ms/step - loss: 0.6908 - accuracy: 0.5757 - val_loss: 0.6903 - val_accuracy: 0.5638\n",
      "Epoch 3/20\n",
      "53/53 [==============================] - 2s 41ms/step - loss: 0.6891 - accuracy: 0.6062 - val_loss: 0.6873 - val_accuracy: 0.5762\n",
      "Epoch 4/20\n",
      "53/53 [==============================] - 2s 41ms/step - loss: 0.6844 - accuracy: 0.6246 - val_loss: 0.6786 - val_accuracy: 0.6084\n",
      "Epoch 5/20\n",
      "53/53 [==============================] - 2s 38ms/step - loss: 0.6697 - accuracy: 0.6666 - val_loss: 0.6578 - val_accuracy: 0.6848\n",
      "Epoch 6/20\n",
      "53/53 [==============================] - 2s 36ms/step - loss: 0.6221 - accuracy: 0.7501 - val_loss: 0.6018 - val_accuracy: 0.7479\n",
      "Epoch 7/20\n",
      "53/53 [==============================] - 2s 34ms/step - loss: 0.5294 - accuracy: 0.8056 - val_loss: 0.5493 - val_accuracy: 0.7479\n",
      "Epoch 8/20\n",
      "53/53 [==============================] - 2s 35ms/step - loss: 0.4669 - accuracy: 0.8078 - val_loss: 0.5203 - val_accuracy: 0.7545\n",
      "Epoch 9/20\n",
      "53/53 [==============================] - 2s 33ms/step - loss: 0.4456 - accuracy: 0.8162 - val_loss: 0.5186 - val_accuracy: 0.7492\n",
      "Epoch 10/20\n",
      "53/53 [==============================] - 2s 33ms/step - loss: 0.4279 - accuracy: 0.8234 - val_loss: 0.5288 - val_accuracy: 0.7417\n",
      "Epoch 11/20\n",
      "53/53 [==============================] - 1s 27ms/step - loss: 0.4192 - accuracy: 0.8300 - val_loss: 0.5312 - val_accuracy: 0.7413\n",
      "Epoch 12/20\n",
      "53/53 [==============================] - 2s 30ms/step - loss: 0.4081 - accuracy: 0.8383 - val_loss: 0.5337 - val_accuracy: 0.7395\n"
     ]
    },
    {
     "data": {
      "text/plain": [
       "<keras.callbacks.History at 0x86697c040>"
      ]
     },
     "execution_count": 368,
     "metadata": {},
     "output_type": "execute_result"
    }
   ],
   "source": [
    "es_callback = tf.keras.callbacks.EarlyStopping(monitor='val_loss', patience=3)\n",
    "model_lstm.fit(train_data, epochs=20, validation_data=val_data, callbacks=[es_callback], class_weight=weights)"
   ]
  },
  {
   "cell_type": "code",
   "execution_count": 369,
   "id": "65433b82-2144-4470-a89c-50ba95288981",
   "metadata": {},
   "outputs": [],
   "source": [
    "model_lstm.save('models/model_LSTM.h5')\n",
    "json.dump(model_lstm.history.history, open('models/LSTM_history.json', 'w'))"
   ]
  },
  {
   "cell_type": "markdown",
   "id": "c6303e85-bca7-4a6e-98c1-fa92818ab4c8",
   "metadata": {},
   "source": [
    "### Evaluation"
   ]
  },
  {
   "cell_type": "code",
   "execution_count": 370,
   "id": "f48928c1-c7f1-492e-8ecd-45a9620eaf2d",
   "metadata": {},
   "outputs": [
    {
     "data": {
      "image/png": "[encoded data removed]",
      "text/plain": [
       "<Figure size 1440x360 with 2 Axes>"
      ]
     },
     "metadata": {},
     "output_type": "display_data"
    }
   ],
   "source": [
    "LSTM_history = json.load(open('models/LSTM_history.json', 'r'))\n",
    "plot_history(LSTM_history)"
   ]
  },
  {
   "cell_type": "markdown",
   "id": "26e9b9cc-f823-483a-aa18-6d1288ec4c01",
   "metadata": {},
   "source": [
    "# LSTM enhancement"
   ]
  },
  {
   "cell_type": "code",
   "execution_count": 408,
   "id": "cc8b8ce8-e98c-4440-b377-8c9e56aa0bc1",
   "metadata": {},
   "outputs": [],
   "source": [
    "model_lstm_2 = tf.keras.Sequential([\n",
    "                  Embedding(vocab_size, 32, input_shape=[tweet.shape[1],],name=\"embedding\"),\n",
    "                  LSTM(units=16, return_sequences=False), # returns the last output\n",
    "                  #Dense(16, activation='relu'),\n",
    "                  Dropout(0.3),\n",
    "                  Dense(8, activation='relu'),\n",
    "                  Dropout(0.3),\n",
    "                  Dense(1, activation=\"sigmoid\")\n",
    "])"
   ]
  },
  {
   "cell_type": "code",
   "execution_count": 409,
   "id": "4bbae2e0-0159-4dcc-b188-f91fce37f110",
   "metadata": {},
   "outputs": [
    {
     "name": "stdout",
     "output_type": "stream",
     "text": [
      "Epoch 1/20\n"
     ]
    },
    {
     "name": "stderr",
     "output_type": "stream",
     "text": [
      "2022-11-16 22:04:26.347615: I tensorflow/core/grappler/optimizers/custom_graph_optimizer_registry.cc:113] Plugin optimizer for device_type GPU is enabled.\n",
      "2022-11-16 22:04:26.645508: I tensorflow/core/grappler/optimizers/custom_graph_optimizer_registry.cc:113] Plugin optimizer for device_type GPU is enabled.\n",
      "2022-11-16 22:04:28.488097: I tensorflow/core/grappler/optimizers/custom_graph_optimizer_registry.cc:113] Plugin optimizer for device_type GPU is enabled.\n"
     ]
    },
    {
     "name": "stdout",
     "output_type": "stream",
     "text": [
      "53/53 [==============================] - ETA: 0s - loss: 0.6926 - accuracy: 0.4477"
     ]
    },
    {
     "name": "stderr",
     "output_type": "stream",
     "text": [
      "2022-11-16 22:04:38.618368: I tensorflow/core/grappler/optimizers/custom_graph_optimizer_registry.cc:113] Plugin optimizer for device_type GPU is enabled.\n",
      "2022-11-16 22:04:38.777574: I tensorflow/core/grappler/optimizers/custom_graph_optimizer_registry.cc:113] Plugin optimizer for device_type GPU is enabled.\n"
     ]
    },
    {
     "name": "stdout",
     "output_type": "stream",
     "text": [
      "53/53 [==============================] - 15s 215ms/step - loss: 0.6926 - accuracy: 0.4477 - val_loss: 0.6938 - val_accuracy: 0.4437\n",
      "Epoch 2/20\n",
      "53/53 [==============================] - 4s 73ms/step - loss: 0.6922 - accuracy: 0.4977 - val_loss: 0.6926 - val_accuracy: 0.5563\n",
      "Epoch 3/20\n",
      "53/53 [==============================] - 3s 61ms/step - loss: 0.6921 - accuracy: 0.5320 - val_loss: 0.6920 - val_accuracy: 0.5563\n",
      "Epoch 4/20\n",
      "53/53 [==============================] - 3s 58ms/step - loss: 0.6916 - accuracy: 0.5638 - val_loss: 0.6920 - val_accuracy: 0.5567\n",
      "Epoch 5/20\n",
      "53/53 [==============================] - 2s 41ms/step - loss: 0.6916 - accuracy: 0.5483 - val_loss: 0.6918 - val_accuracy: 0.5634\n",
      "Epoch 6/20\n",
      "53/53 [==============================] - 2s 35ms/step - loss: 0.6914 - accuracy: 0.5570 - val_loss: 0.6917 - val_accuracy: 0.6013\n",
      "Epoch 7/20\n",
      "53/53 [==============================] - 2s 33ms/step - loss: 0.6906 - accuracy: 0.5789 - val_loss: 0.6912 - val_accuracy: 0.6852\n",
      "Epoch 8/20\n",
      "53/53 [==============================] - 2s 36ms/step - loss: 0.6885 - accuracy: 0.6032 - val_loss: 0.6888 - val_accuracy: 0.7161\n",
      "Epoch 9/20\n",
      "53/53 [==============================] - 2s 40ms/step - loss: 0.6822 - accuracy: 0.6339 - val_loss: 0.6787 - val_accuracy: 0.7373\n",
      "Epoch 10/20\n",
      "53/53 [==============================] - 2s 31ms/step - loss: 0.6578 - accuracy: 0.6649 - val_loss: 0.6463 - val_accuracy: 0.7325\n",
      "Epoch 11/20\n",
      "53/53 [==============================] - 2s 36ms/step - loss: 0.5896 - accuracy: 0.7368 - val_loss: 0.5734 - val_accuracy: 0.7611\n",
      "Epoch 12/20\n",
      "53/53 [==============================] - 2s 32ms/step - loss: 0.5213 - accuracy: 0.7819 - val_loss: 0.5318 - val_accuracy: 0.7585\n",
      "Epoch 13/20\n",
      "53/53 [==============================] - 2s 29ms/step - loss: 0.4890 - accuracy: 0.8065 - val_loss: 0.5214 - val_accuracy: 0.7585\n",
      "Epoch 14/20\n",
      "53/53 [==============================] - 2s 30ms/step - loss: 0.4721 - accuracy: 0.8203 - val_loss: 0.5171 - val_accuracy: 0.7581\n",
      "Epoch 15/20\n",
      "53/53 [==============================] - 1s 28ms/step - loss: 0.4634 - accuracy: 0.8336 - val_loss: 0.5192 - val_accuracy: 0.7594\n",
      "Epoch 16/20\n",
      "53/53 [==============================] - 2s 33ms/step - loss: 0.4538 - accuracy: 0.8343 - val_loss: 0.5156 - val_accuracy: 0.7501\n",
      "Epoch 17/20\n",
      "53/53 [==============================] - 2s 29ms/step - loss: 0.4545 - accuracy: 0.8396 - val_loss: 0.5193 - val_accuracy: 0.7466\n",
      "Epoch 18/20\n",
      "53/53 [==============================] - 2s 30ms/step - loss: 0.4359 - accuracy: 0.8449 - val_loss: 0.5258 - val_accuracy: 0.7461\n",
      "Epoch 19/20\n",
      "53/53 [==============================] - 2s 29ms/step - loss: 0.4354 - accuracy: 0.8449 - val_loss: 0.5271 - val_accuracy: 0.7483\n"
     ]
    },
    {
     "data": {
      "text/plain": [
       "<keras.callbacks.History at 0x9ce0fea90>"
      ]
     },
     "execution_count": 409,
     "metadata": {},
     "output_type": "execute_result"
    }
   ],
   "source": [
    "optimizer= tf.keras.optimizers.Adam(0.0001)\n",
    "\n",
    "model_lstm_2.compile(optimizer=optimizer,\n",
    "              loss=tf.keras.losses.BinaryCrossentropy(),\n",
    "              metrics=['accuracy'])\n",
    "\n",
    "es_callback = tf.keras.callbacks.EarlyStopping(monitor='val_loss', patience=3)\n",
    "model_lstm_2.fit(train_data, epochs=20, validation_data=val_data, callbacks=[es_callback], class_weight=weights)"
   ]
  },
  {
   "cell_type": "code",
   "execution_count": 407,
   "id": "de0615f0-8f63-4016-84d1-f55dcd4a176f",
   "metadata": {},
   "outputs": [
    {
     "data": {
      "image/png": "[encoded data removed]",
      "text/plain": [
       "<Figure size 1440x360 with 2 Axes>"
      ]
     },
     "metadata": {},
     "output_type": "display_data"
    }
   ],
   "source": [
    "plot_history(model_lstm_2.history.history)"
   ]
  },
  {
   "cell_type": "code",
   "execution_count": 413,
   "id": "47bbe652-8136-4abb-9248-4ec1e1e24766",
   "metadata": {},
   "outputs": [
    {
     "name": "stdout",
     "output_type": "stream",
     "text": [
      "WARNING:tensorflow:Layer lstm_19 will not use cuDNN kernels since it doesn't meet the criteria. It will use a generic GPU kernel as fallback when running on GPU.\n"
     ]
    }
   ],
   "source": [
    "model_lstm_3 = tf.keras.Sequential([\n",
    "                  Embedding(vocab_size, 128, input_shape=[tweet.shape[1],],name=\"embedding\"),\n",
    "                  Dropout(0.3),\n",
    "                  LSTM(units=256, return_sequences=False, dropout=0.5, recurrent_dropout=0.5), # returns the last output\n",
    "                  Dense(1, activation=\"sigmoid\")\n",
    "])"
   ]
  },
  {
   "cell_type": "code",
   "execution_count": null,
   "id": "3e8a4e70-689a-49e6-ab7f-ef9cfc628590",
   "metadata": {},
   "outputs": [
    {
     "name": "stdout",
     "output_type": "stream",
     "text": [
      "Epoch 1/20\n"
     ]
    },
    {
     "name": "stderr",
     "output_type": "stream",
     "text": [
      "2022-11-16 22:17:16.597200: I tensorflow/core/grappler/optimizers/custom_graph_optimizer_registry.cc:113] Plugin optimizer for device_type GPU is enabled.\n"
     ]
    },
    {
     "name": "stdout",
     "output_type": "stream",
     "text": [
      "53/53 [==============================] - ETA: 0s - loss: 0.6671 - accuracy: 0.5846"
     ]
    },
    {
     "name": "stderr",
     "output_type": "stream",
     "text": [
      "2022-11-16 22:18:16.007061: I tensorflow/core/grappler/optimizers/custom_graph_optimizer_registry.cc:113] Plugin optimizer for device_type GPU is enabled.\n"
     ]
    },
    {
     "name": "stdout",
     "output_type": "stream",
     "text": [
      "53/53 [==============================] - 64s 1s/step - loss: 0.6671 - accuracy: 0.5846 - val_loss: 0.5692 - val_accuracy: 0.7108\n",
      "Epoch 2/20\n",
      "53/53 [==============================] - 47s 893ms/step - loss: 0.5071 - accuracy: 0.7823 - val_loss: 0.5241 - val_accuracy: 0.7488\n",
      "Epoch 3/20\n",
      "21/53 [==========>...................] - ETA: 28s - loss: 0.4452 - accuracy: 0.8171"
     ]
    }
   ],
   "source": [
    "optimizer= tf.keras.optimizers.Adam()\n",
    "\n",
    "model_lstm_3.compile(optimizer=optimizer,\n",
    "              loss=tf.keras.losses.BinaryCrossentropy(),\n",
    "              metrics=['accuracy'])\n",
    "\n",
    "es_callback = tf.keras.callbacks.EarlyStopping(monitor='val_loss', patience=3)\n",
    "model_lstm_3.fit(train_data, epochs=20, validation_data=val_data, callbacks=[es_callback], class_weight=weights)"
   ]
  },
  {
   "cell_type": "code",
   "execution_count": null,
   "id": "3b922eca-3a6b-47d5-936e-2d9a0782a018",
   "metadata": {},
   "outputs": [],
   "source": [
    "plot_history(model_lstm_3.history.history)"
   ]
  },
  {
   "cell_type": "code",
   "execution_count": null,
   "id": "8a4d9436-3832-429c-949c-04f283392fc6",
   "metadata": {},
   "outputs": [],
   "source": []
  },
  {
   "cell_type": "code",
   "execution_count": null,
   "id": "e5545a15-5755-4787-b460-629b3a272086",
   "metadata": {},
   "outputs": [],
   "source": []
  },
  {
   "cell_type": "code",
   "execution_count": null,
   "id": "f5374802-d9bd-4062-b0b6-0783ce08f85d",
   "metadata": {},
   "outputs": [],
   "source": []
  },
  {
   "cell_type": "code",
   "execution_count": null,
   "id": "13b1bc08-c9e9-4f6c-8227-90c293996d30",
   "metadata": {},
   "outputs": [],
   "source": []
  },
  {
   "cell_type": "code",
   "execution_count": null,
   "id": "5241723f-bc1d-4299-b646-60ffecafef97",
   "metadata": {},
   "outputs": [],
   "source": []
  },
  {
   "cell_type": "code",
   "execution_count": null,
   "id": "5bebed21-c73b-483b-abd4-c2785c4db188",
   "metadata": {},
   "outputs": [],
   "source": []
  },
  {
   "cell_type": "code",
   "execution_count": null,
   "id": "7dd0d17e-e98b-4bca-9cb8-0aae81241903",
   "metadata": {},
   "outputs": [],
   "source": []
  },
  {
   "cell_type": "code",
   "execution_count": null,
   "id": "cd4dcc65-abe4-413d-9d93-78029d3c2ca3",
   "metadata": {},
   "outputs": [],
   "source": []
  },
  {
   "cell_type": "code",
   "execution_count": null,
   "id": "fa086eb9-e12f-4044-a434-9e5699cd82a3",
   "metadata": {},
   "outputs": [],
   "source": []
  },
  {
   "cell_type": "code",
   "execution_count": null,
   "id": "c0a8de8f-fb99-48a3-999a-0b3980b0a3ca",
   "metadata": {},
   "outputs": [],
   "source": []
  },
  {
   "cell_type": "markdown",
   "id": "bac6efa3-38e8-4097-a5d9-ab5d4fd1adcf",
   "metadata": {},
   "source": [
    "# Prediction"
   ]
  },
  {
   "cell_type": "code",
   "execution_count": 224,
   "id": "2badfc24-ef27-4bf9-9318-903b1a361049",
   "metadata": {},
   "outputs": [
    {
     "name": "stdout",
     "output_type": "stream",
     "text": [
      "102/102 [==============================] - 0s 2ms/step\n"
     ]
    }
   ],
   "source": [
    "text_pad_test = tf.keras.preprocessing.sequence.pad_sequences(test['text_encoded'], padding=\"post\", maxlen=tweet.shape[1])\n",
    "test['prediction'] = model.predict(text_pad_test)\n",
    "test['prediction'] = test['prediction'].apply(lambda x: 1 if x>0.5 else 0)"
   ]
  },
  {
   "cell_type": "code",
   "execution_count": 228,
   "id": "b33c4c09-3f62-46c1-8185-fb6379b5a096",
   "metadata": {},
   "outputs": [
    {
     "data": {
      "text/html": [
       "<div>\n",
       "<style scoped>\n",
       "    .dataframe tbody tr th:only-of-type {\n",
       "        vertical-align: middle;\n",
       "    }\n",
       "\n",
       "    .dataframe tbody tr th {\n",
       "        vertical-align: top;\n",
       "    }\n",
       "\n",
       "    .dataframe thead th {\n",
       "        text-align: right;\n",
       "    }\n",
       "</style>\n",
       "<table border=\"1\" class=\"dataframe\">\n",
       "  <thead>\n",
       "    <tr style=\"text-align: right;\">\n",
       "      <th></th>\n",
       "      <th>id</th>\n",
       "      <th>text</th>\n",
       "      <th>text_clean</th>\n",
       "      <th>text_encoded</th>\n",
       "      <th>prediction</th>\n",
       "    </tr>\n",
       "  </thead>\n",
       "  <tbody>\n",
       "    <tr>\n",
       "      <th>0</th>\n",
       "      <td>0</td>\n",
       "      <td>Just happened a terrible car crash</td>\n",
       "      <td>happen terrible car crash</td>\n",
       "      <td>[175, 1541, 45, 14]</td>\n",
       "      <td>0</td>\n",
       "    </tr>\n",
       "    <tr>\n",
       "      <th>1</th>\n",
       "      <td>2</td>\n",
       "      <td>Heard about #earthquake is different cities, s...</td>\n",
       "      <td>hear earthquake different city stay safe</td>\n",
       "      <td>[126, 173, 935, 121, 369, 1121]</td>\n",
       "      <td>1</td>\n",
       "    </tr>\n",
       "    <tr>\n",
       "      <th>2</th>\n",
       "      <td>3</td>\n",
       "      <td>there is a forest fire at spot pond, geese are...</td>\n",
       "      <td>forest fire spot pond geese flee street save</td>\n",
       "      <td>[119, 4, 524, 2805, 1, 2096, 381, 98]</td>\n",
       "      <td>1</td>\n",
       "    </tr>\n",
       "    <tr>\n",
       "      <th>3</th>\n",
       "      <td>9</td>\n",
       "      <td>Apocalypse lighting. #Spokane #wildfires</td>\n",
       "      <td>apocalypse lighting spokane wildfire</td>\n",
       "      <td>[388, 3111, 6224, 69]</td>\n",
       "      <td>1</td>\n",
       "    </tr>\n",
       "    <tr>\n",
       "      <th>4</th>\n",
       "      <td>11</td>\n",
       "      <td>Typhoon Soudelor kills 28 in China and Taiwan</td>\n",
       "      <td>typhoon soudelor kill 28 china taiwan</td>\n",
       "      <td>[395, 526, 12, 4189, 340, 939]</td>\n",
       "      <td>1</td>\n",
       "    </tr>\n",
       "    <tr>\n",
       "      <th>5</th>\n",
       "      <td>12</td>\n",
       "      <td>We're shaking...It's an earthquake</td>\n",
       "      <td>shakingit earthquake</td>\n",
       "      <td>[1, 173]</td>\n",
       "      <td>1</td>\n",
       "    </tr>\n",
       "    <tr>\n",
       "      <th>6</th>\n",
       "      <td>21</td>\n",
       "      <td>They'd probably still show more life than Arse...</td>\n",
       "      <td>d probably life arsenal yesterday eh eh</td>\n",
       "      <td>[85, 570, 43, 2131, 1188, 2898, 2898]</td>\n",
       "      <td>0</td>\n",
       "    </tr>\n",
       "    <tr>\n",
       "      <th>7</th>\n",
       "      <td>22</td>\n",
       "      <td>Hey! How are you?</td>\n",
       "      <td>hey</td>\n",
       "      <td>[556]</td>\n",
       "      <td>0</td>\n",
       "    </tr>\n",
       "    <tr>\n",
       "      <th>8</th>\n",
       "      <td>27</td>\n",
       "      <td>What a nice hat?</td>\n",
       "      <td>nice hat</td>\n",
       "      <td>[971, 598]</td>\n",
       "      <td>0</td>\n",
       "    </tr>\n",
       "    <tr>\n",
       "      <th>9</th>\n",
       "      <td>29</td>\n",
       "      <td>Fuck off!</td>\n",
       "      <td>fuck</td>\n",
       "      <td>[139]</td>\n",
       "      <td>0</td>\n",
       "    </tr>\n",
       "    <tr>\n",
       "      <th>10</th>\n",
       "      <td>30</td>\n",
       "      <td>No I don't like cold!</td>\n",
       "      <td>like cold</td>\n",
       "      <td>[2, 871]</td>\n",
       "      <td>0</td>\n",
       "    </tr>\n",
       "    <tr>\n",
       "      <th>11</th>\n",
       "      <td>35</td>\n",
       "      <td>NOOOOOOOOO! Don't do that!</td>\n",
       "      <td>nooooooooo</td>\n",
       "      <td>[1]</td>\n",
       "      <td>0</td>\n",
       "    </tr>\n",
       "    <tr>\n",
       "      <th>12</th>\n",
       "      <td>42</td>\n",
       "      <td>No don't tell me that!</td>\n",
       "      <td>tell</td>\n",
       "      <td>[190]</td>\n",
       "      <td>0</td>\n",
       "    </tr>\n",
       "    <tr>\n",
       "      <th>13</th>\n",
       "      <td>43</td>\n",
       "      <td>What if?!</td>\n",
       "      <td></td>\n",
       "      <td>[]</td>\n",
       "      <td>0</td>\n",
       "    </tr>\n",
       "    <tr>\n",
       "      <th>14</th>\n",
       "      <td>45</td>\n",
       "      <td>Awesome!</td>\n",
       "      <td>awesome</td>\n",
       "      <td>[790]</td>\n",
       "      <td>0</td>\n",
       "    </tr>\n",
       "    <tr>\n",
       "      <th>15</th>\n",
       "      <td>46</td>\n",
       "      <td>Birmingham Wholesale Market is ablaze BBC News...</td>\n",
       "      <td>birmingham wholesale market ablaze bbc news   ...</td>\n",
       "      <td>[3304, 2305, 270, 447, 1067, 9, 4, 84, 1, 2305...</td>\n",
       "      <td>1</td>\n",
       "    </tr>\n",
       "    <tr>\n",
       "      <th>16</th>\n",
       "      <td>47</td>\n",
       "      <td>@sunkxssedharry will you wear shorts for race ...</td>\n",
       "      <td>sunkxssedharry wear short race ablaze</td>\n",
       "      <td>[1, 1091, 1030, 2053, 447]</td>\n",
       "      <td>1</td>\n",
       "    </tr>\n",
       "    <tr>\n",
       "      <th>17</th>\n",
       "      <td>51</td>\n",
       "      <td>#PreviouslyOnDoyinTv: Toke MakinwaÛªs marriag...</td>\n",
       "      <td>previouslyondoyintv toke makinwaûªs marriage c...</td>\n",
       "      <td>[1, 8157, 1, 1, 587, 136, 835, 347, 447, 1]</td>\n",
       "      <td>1</td>\n",
       "    </tr>\n",
       "    <tr>\n",
       "      <th>18</th>\n",
       "      <td>58</td>\n",
       "      <td>Check these out: http://t.co/rOI2NSmEJJ http:/...</td>\n",
       "      <td>check httptcoroi2nsmejj httptco3tj8zjin21 http...</td>\n",
       "      <td>[214, 3665, 3666, 3667, 3668, 3669]</td>\n",
       "      <td>0</td>\n",
       "    </tr>\n",
       "    <tr>\n",
       "      <th>19</th>\n",
       "      <td>60</td>\n",
       "      <td>PSA: IÛªm splitting my personalities.\\n\\n?? t...</td>\n",
       "      <td>psa iûªm split personality techie follow ablaz...</td>\n",
       "      <td>[4521, 1889, 2830, 1, 1, 286, 1, 1, 286, 447]</td>\n",
       "      <td>0</td>\n",
       "    </tr>\n",
       "    <tr>\n",
       "      <th>20</th>\n",
       "      <td>69</td>\n",
       "      <td>beware world ablaze sierra leone &amp;amp; guap.</td>\n",
       "      <td>beware world ablaze sierra leone amp guap</td>\n",
       "      <td>[3523, 42, 447, 1, 1, 5, 1]</td>\n",
       "      <td>0</td>\n",
       "    </tr>\n",
       "    <tr>\n",
       "      <th>21</th>\n",
       "      <td>70</td>\n",
       "      <td>Burning Man Ablaze! by Turban Diva http://t.co...</td>\n",
       "      <td>burn man ablaze turban diva httptcohodwosamws ...</td>\n",
       "      <td>[10, 25, 447, 1, 1, 1, 1]</td>\n",
       "      <td>0</td>\n",
       "    </tr>\n",
       "    <tr>\n",
       "      <th>22</th>\n",
       "      <td>72</td>\n",
       "      <td>Not a diss song. People will take 1 thing and ...</td>\n",
       "      <td>diss song people 1 thing run smh eye opener 2 ...</td>\n",
       "      <td>[2471, 348, 8, 127, 100, 89, 1439, 275, 1, 13,...</td>\n",
       "      <td>0</td>\n",
       "    </tr>\n",
       "    <tr>\n",
       "      <th>23</th>\n",
       "      <td>75</td>\n",
       "      <td>Rape victim dies as she sets herself ablaze: A...</td>\n",
       "      <td>rape victim die set ablaze 16yearold girl die ...</td>\n",
       "      <td>[1760, 471, 91, 136, 447, 1, 195, 91, 10, 76, ...</td>\n",
       "      <td>0</td>\n",
       "    </tr>\n",
       "    <tr>\n",
       "      <th>24</th>\n",
       "      <td>84</td>\n",
       "      <td>SETTING MYSELF ABLAZE http://t.co/6vMe7P5XhC</td>\n",
       "      <td>set ablaze httptco6vme7p5xhc</td>\n",
       "      <td>[136, 447, 1]</td>\n",
       "      <td>0</td>\n",
       "    </tr>\n",
       "  </tbody>\n",
       "</table>\n",
       "</div>"
      ],
      "text/plain": [
       "    id                                               text  \\\n",
       "0    0                 Just happened a terrible car crash   \n",
       "1    2  Heard about #earthquake is different cities, s...   \n",
       "2    3  there is a forest fire at spot pond, geese are...   \n",
       "3    9           Apocalypse lighting. #Spokane #wildfires   \n",
       "4   11      Typhoon Soudelor kills 28 in China and Taiwan   \n",
       "5   12                 We're shaking...It's an earthquake   \n",
       "6   21  They'd probably still show more life than Arse...   \n",
       "7   22                                  Hey! How are you?   \n",
       "8   27                                   What a nice hat?   \n",
       "9   29                                          Fuck off!   \n",
       "10  30                              No I don't like cold!   \n",
       "11  35                         NOOOOOOOOO! Don't do that!   \n",
       "12  42                             No don't tell me that!   \n",
       "13  43                                          What if?!   \n",
       "14  45                                           Awesome!   \n",
       "15  46  Birmingham Wholesale Market is ablaze BBC News...   \n",
       "16  47  @sunkxssedharry will you wear shorts for race ...   \n",
       "17  51  #PreviouslyOnDoyinTv: Toke MakinwaÛªs marriag...   \n",
       "18  58  Check these out: http://t.co/rOI2NSmEJJ http:/...   \n",
       "19  60  PSA: IÛªm splitting my personalities.\\n\\n?? t...   \n",
       "20  69       beware world ablaze sierra leone &amp; guap.   \n",
       "21  70  Burning Man Ablaze! by Turban Diva http://t.co...   \n",
       "22  72  Not a diss song. People will take 1 thing and ...   \n",
       "23  75  Rape victim dies as she sets herself ablaze: A...   \n",
       "24  84       SETTING MYSELF ABLAZE http://t.co/6vMe7P5XhC   \n",
       "\n",
       "                                           text_clean  \\\n",
       "0                           happen terrible car crash   \n",
       "1            hear earthquake different city stay safe   \n",
       "2        forest fire spot pond geese flee street save   \n",
       "3                apocalypse lighting spokane wildfire   \n",
       "4               typhoon soudelor kill 28 china taiwan   \n",
       "5                                shakingit earthquake   \n",
       "6             d probably life arsenal yesterday eh eh   \n",
       "7                                                 hey   \n",
       "8                                            nice hat   \n",
       "9                                                fuck   \n",
       "10                                          like cold   \n",
       "11                                         nooooooooo   \n",
       "12                                               tell   \n",
       "13                                                      \n",
       "14                                            awesome   \n",
       "15  birmingham wholesale market ablaze bbc news   ...   \n",
       "16              sunkxssedharry wear short race ablaze   \n",
       "17  previouslyondoyintv toke makinwaûªs marriage c...   \n",
       "18  check httptcoroi2nsmejj httptco3tj8zjin21 http...   \n",
       "19  psa iûªm split personality techie follow ablaz...   \n",
       "20          beware world ablaze sierra leone amp guap   \n",
       "21  burn man ablaze turban diva httptcohodwosamws ...   \n",
       "22  diss song people 1 thing run smh eye opener 2 ...   \n",
       "23  rape victim die set ablaze 16yearold girl die ...   \n",
       "24                       set ablaze httptco6vme7p5xhc   \n",
       "\n",
       "                                         text_encoded  prediction  \n",
       "0                                 [175, 1541, 45, 14]           0  \n",
       "1                     [126, 173, 935, 121, 369, 1121]           1  \n",
       "2               [119, 4, 524, 2805, 1, 2096, 381, 98]           1  \n",
       "3                               [388, 3111, 6224, 69]           1  \n",
       "4                      [395, 526, 12, 4189, 340, 939]           1  \n",
       "5                                            [1, 173]           1  \n",
       "6               [85, 570, 43, 2131, 1188, 2898, 2898]           0  \n",
       "7                                               [556]           0  \n",
       "8                                          [971, 598]           0  \n",
       "9                                               [139]           0  \n",
       "10                                           [2, 871]           0  \n",
       "11                                                [1]           0  \n",
       "12                                              [190]           0  \n",
       "13                                                 []           0  \n",
       "14                                              [790]           0  \n",
       "15  [3304, 2305, 270, 447, 1067, 9, 4, 84, 1, 2305...           1  \n",
       "16                         [1, 1091, 1030, 2053, 447]           1  \n",
       "17        [1, 8157, 1, 1, 587, 136, 835, 347, 447, 1]           1  \n",
       "18                [214, 3665, 3666, 3667, 3668, 3669]           0  \n",
       "19      [4521, 1889, 2830, 1, 1, 286, 1, 1, 286, 447]           0  \n",
       "20                        [3523, 42, 447, 1, 1, 5, 1]           0  \n",
       "21                          [10, 25, 447, 1, 1, 1, 1]           0  \n",
       "22  [2471, 348, 8, 127, 100, 89, 1439, 275, 1, 13,...           0  \n",
       "23  [1760, 471, 91, 136, 447, 1, 195, 91, 10, 76, ...           0  \n",
       "24                                      [136, 447, 1]           0  "
      ]
     },
     "execution_count": 228,
     "metadata": {},
     "output_type": "execute_result"
    }
   ],
   "source": [
    "test.head(25)"
   ]
  },
  {
   "cell_type": "code",
   "execution_count": null,
   "id": "cc9ba883-58e0-4391-b8e9-40521ab7da03",
   "metadata": {},
   "outputs": [],
   "source": []
  }
 ],
 "metadata": {
  "kernelspec": {
   "display_name": "Python 3 (ipykernel)",
   "language": "python",
   "name": "python3"
  },
  "language_info": {
   "codemirror_mode": {
    "name": "ipython",
    "version": 3
   },
   "file_extension": ".py",
   "mimetype": "text/x-python",
   "name": "python",
   "nbconvert_exporter": "python",
   "pygments_lexer": "ipython3",
   "version": "3.9.13"
  },
  "toc-autonumbering": true
 },
 "nbformat": 4,
 "nbformat_minor": 5
}
