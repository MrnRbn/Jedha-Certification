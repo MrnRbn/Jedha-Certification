{
 "cells": [
  {
   "cell_type": "markdown",
   "id": "0fd6a83d-268e-40fa-9785-ec2c2fc2278c",
   "metadata": {},
   "source": [
    "The goal of this project is to predict whether a tweet is announcing a disaster using NLP and Deep Learning. The dataset comes from this [Kaggle competition](https://www.kaggle.com/c/nlp-getting-started)."
   ]
  },
  {
   "cell_type": "markdown",
   "id": "8d86a8a5-0801-4969-8490-4096c99d8703",
   "metadata": {},
   "source": [
    "# Import libraries"
   ]
  },
  {
   "cell_type": "code",
   "execution_count": 135,
   "id": "89487add-ff39-445a-a4af-d8372eb86d2c",
   "metadata": {},
   "outputs": [],
   "source": [
    "import pandas as pd\n",
    "import numpy as np\n",
    "import matplotlib.pyplot as plt\n",
    "import matplotlib.lines as mlines\n",
    "import seaborn as sns\n",
    "from zipfile import ZipFile\n",
    "import nltk\n",
    "from nltk.tokenize import sent_tokenize\n",
    "from nltk.tokenize import word_tokenize\n",
    "import spacy\n",
    "import tensorflow as tf\n",
    "import tensorflow_datasets as tfds\n",
    "from tensorflow.keras.layers import Embedding, SimpleRNN, Dense, GRU, LSTM, Dropout, Bidirectional, SpatialDropout1D\n",
    "import json\n",
    "import re\n",
    "from sklearn.metrics import confusion_matrix"
   ]
  },
  {
   "cell_type": "code",
   "execution_count": 2,
   "id": "63437dd7-ab21-436d-8432-8cf55d6faaed",
   "metadata": {},
   "outputs": [
    {
     "name": "stderr",
     "output_type": "stream",
     "text": [
      "[nltk_data] Downloading package punkt to /Users/marion/nltk_data...\n",
      "[nltk_data]   Package punkt is already up-to-date!\n"
     ]
    },
    {
     "data": {
      "text/plain": [
       "True"
      ]
     },
     "execution_count": 2,
     "metadata": {},
     "output_type": "execute_result"
    }
   ],
   "source": [
    "sns.set_style(\"darkgrid\")\n",
    "nltk.download('punkt')"
   ]
  },
  {
   "cell_type": "markdown",
   "id": "95c89f43-ebb4-42ca-9621-2ed4013edf5b",
   "metadata": {},
   "source": [
    "# EDA\n",
    "## Basic statistics\n",
    "\n",
    "There are 7613 rows in the train set and 3263 rows in the test set. "
   ]
  },
  {
   "cell_type": "code",
   "execution_count": 3,
   "id": "8a025887-4920-44e4-9230-fe77b10a7e5b",
   "metadata": {},
   "outputs": [],
   "source": [
    "tweets_zip = ZipFile('nlp-getting-started.zip', 'r')\n",
    "tweets_zip.extractall('data')"
   ]
  },
  {
   "cell_type": "code",
   "execution_count": 209,
   "id": "736bf9e9-6c8f-4154-a248-824624911bcf",
   "metadata": {},
   "outputs": [],
   "source": [
    "train = pd.read_csv('data/train.csv')\n",
    "test = pd.read_csv('data/test.csv')\n",
    "submission = pd.read_csv('data/sample_submission.csv')"
   ]
  },
  {
   "cell_type": "code",
   "execution_count": 192,
   "id": "6d9d237f-2cff-4138-a7b4-085ac4e23700",
   "metadata": {},
   "outputs": [
    {
     "data": {
      "text/html": [
       "<div>\n",
       "<style scoped>\n",
       "    .dataframe tbody tr th:only-of-type {\n",
       "        vertical-align: middle;\n",
       "    }\n",
       "\n",
       "    .dataframe tbody tr th {\n",
       "        vertical-align: top;\n",
       "    }\n",
       "\n",
       "    .dataframe thead th {\n",
       "        text-align: right;\n",
       "    }\n",
       "</style>\n",
       "<table border=\"1\" class=\"dataframe\">\n",
       "  <thead>\n",
       "    <tr style=\"text-align: right;\">\n",
       "      <th></th>\n",
       "      <th>id</th>\n",
       "      <th>keyword</th>\n",
       "      <th>location</th>\n",
       "      <th>text</th>\n",
       "      <th>target</th>\n",
       "    </tr>\n",
       "  </thead>\n",
       "  <tbody>\n",
       "    <tr>\n",
       "      <th>0</th>\n",
       "      <td>1</td>\n",
       "      <td>NaN</td>\n",
       "      <td>NaN</td>\n",
       "      <td>Our Deeds are the Reason of this #earthquake M...</td>\n",
       "      <td>1</td>\n",
       "    </tr>\n",
       "    <tr>\n",
       "      <th>1</th>\n",
       "      <td>4</td>\n",
       "      <td>NaN</td>\n",
       "      <td>NaN</td>\n",
       "      <td>Forest fire near La Ronge Sask. Canada</td>\n",
       "      <td>1</td>\n",
       "    </tr>\n",
       "    <tr>\n",
       "      <th>2</th>\n",
       "      <td>5</td>\n",
       "      <td>NaN</td>\n",
       "      <td>NaN</td>\n",
       "      <td>All residents asked to 'shelter in place' are ...</td>\n",
       "      <td>1</td>\n",
       "    </tr>\n",
       "    <tr>\n",
       "      <th>3</th>\n",
       "      <td>6</td>\n",
       "      <td>NaN</td>\n",
       "      <td>NaN</td>\n",
       "      <td>13,000 people receive #wildfires evacuation or...</td>\n",
       "      <td>1</td>\n",
       "    </tr>\n",
       "    <tr>\n",
       "      <th>4</th>\n",
       "      <td>7</td>\n",
       "      <td>NaN</td>\n",
       "      <td>NaN</td>\n",
       "      <td>Just got sent this photo from Ruby #Alaska as ...</td>\n",
       "      <td>1</td>\n",
       "    </tr>\n",
       "  </tbody>\n",
       "</table>\n",
       "</div>"
      ],
      "text/plain": [
       "   id keyword location                                               text  \\\n",
       "0   1     NaN      NaN  Our Deeds are the Reason of this #earthquake M...   \n",
       "1   4     NaN      NaN             Forest fire near La Ronge Sask. Canada   \n",
       "2   5     NaN      NaN  All residents asked to 'shelter in place' are ...   \n",
       "3   6     NaN      NaN  13,000 people receive #wildfires evacuation or...   \n",
       "4   7     NaN      NaN  Just got sent this photo from Ruby #Alaska as ...   \n",
       "\n",
       "   target  \n",
       "0       1  \n",
       "1       1  \n",
       "2       1  \n",
       "3       1  \n",
       "4       1  "
      ]
     },
     "execution_count": 192,
     "metadata": {},
     "output_type": "execute_result"
    }
   ],
   "source": [
    "train.head()"
   ]
  },
  {
   "cell_type": "code",
   "execution_count": 145,
   "id": "d3bd1a02-4feb-4e97-95c2-de2d32c2518e",
   "metadata": {},
   "outputs": [
    {
     "name": "stdout",
     "output_type": "stream",
     "text": [
      "<class 'pandas.core.frame.DataFrame'>\n",
      "Int64Index: 7547 entries, 0 to 7612\n",
      "Data columns (total 8 columns):\n",
      " #   Column        Non-Null Count  Dtype \n",
      "---  ------        --------------  ----- \n",
      " 0   id            7547 non-null   int64 \n",
      " 1   keyword       7490 non-null   object\n",
      " 2   location      5048 non-null   object\n",
      " 3   text          7547 non-null   object\n",
      " 4   target        7547 non-null   int64 \n",
      " 5   text_clean    7547 non-null   object\n",
      " 6   text_encoded  7547 non-null   object\n",
      " 7   len_text      7547 non-null   int64 \n",
      "dtypes: int64(3), object(5)\n",
      "memory usage: 530.6+ KB\n"
     ]
    }
   ],
   "source": [
    "train.info()"
   ]
  },
  {
   "cell_type": "code",
   "execution_count": 8,
   "id": "51e38e33-5c07-42db-9987-6107a84a77e3",
   "metadata": {},
   "outputs": [
    {
     "name": "stdout",
     "output_type": "stream",
     "text": [
      "<class 'pandas.core.frame.DataFrame'>\n",
      "RangeIndex: 3263 entries, 0 to 3262\n",
      "Data columns (total 4 columns):\n",
      " #   Column    Non-Null Count  Dtype \n",
      "---  ------    --------------  ----- \n",
      " 0   id        3263 non-null   int64 \n",
      " 1   keyword   3237 non-null   object\n",
      " 2   location  2158 non-null   object\n",
      " 3   text      3263 non-null   object\n",
      "dtypes: int64(1), object(3)\n",
      "memory usage: 102.1+ KB\n"
     ]
    }
   ],
   "source": [
    "test.info()"
   ]
  },
  {
   "cell_type": "code",
   "execution_count": 158,
   "id": "da6dc1f7-178f-4b59-97b9-2febeb8548ae",
   "metadata": {},
   "outputs": [
    {
     "data": {
      "text/html": [
       "<div>\n",
       "<style scoped>\n",
       "    .dataframe tbody tr th:only-of-type {\n",
       "        vertical-align: middle;\n",
       "    }\n",
       "\n",
       "    .dataframe tbody tr th {\n",
       "        vertical-align: top;\n",
       "    }\n",
       "\n",
       "    .dataframe thead th {\n",
       "        text-align: right;\n",
       "    }\n",
       "</style>\n",
       "<table border=\"1\" class=\"dataframe\">\n",
       "  <thead>\n",
       "    <tr style=\"text-align: right;\">\n",
       "      <th></th>\n",
       "      <th>feature</th>\n",
       "      <th>perc_missing</th>\n",
       "    </tr>\n",
       "  </thead>\n",
       "  <tbody>\n",
       "    <tr>\n",
       "      <th>2</th>\n",
       "      <td>location</td>\n",
       "      <td>33.449798</td>\n",
       "    </tr>\n",
       "    <tr>\n",
       "      <th>1</th>\n",
       "      <td>keyword</td>\n",
       "      <td>0.799926</td>\n",
       "    </tr>\n",
       "    <tr>\n",
       "      <th>0</th>\n",
       "      <td>id</td>\n",
       "      <td>0.000000</td>\n",
       "    </tr>\n",
       "    <tr>\n",
       "      <th>3</th>\n",
       "      <td>text</td>\n",
       "      <td>0.000000</td>\n",
       "    </tr>\n",
       "  </tbody>\n",
       "</table>\n",
       "</div>"
      ],
      "text/plain": [
       "    feature  perc_missing\n",
       "2  location     33.449798\n",
       "1   keyword      0.799926\n",
       "0        id      0.000000\n",
       "3      text      0.000000"
      ]
     },
     "execution_count": 158,
     "metadata": {},
     "output_type": "execute_result"
    }
   ],
   "source": [
    "def missing_values(dataset):\n",
    "    perc_missing = dataset.isnull().sum() * 100 / dataset.shape[0]\n",
    "    perc_missing_df = pd.DataFrame({'feature' :perc_missing.index, 'perc_missing': perc_missing}).reset_index(drop=True)\n",
    "    perc_missing_df.sort_values(by='perc_missing', ascending=False, inplace=True)\n",
    "    return perc_missing_df \n",
    "\n",
    "\n",
    "perc_missing_df = missing_values(pd.concat([train.iloc[:, :-1], test]))\n",
    "perc_missing_df"
   ]
  },
  {
   "cell_type": "code",
   "execution_count": 210,
   "id": "52c80321-f61e-4700-9108-3308d12dc785",
   "metadata": {},
   "outputs": [],
   "source": [
    "train.drop(columns=['location', 'id', 'keyword'], inplace=True)\n",
    "test.drop(columns=['location', 'id', 'keyword'], inplace=True)"
   ]
  },
  {
   "cell_type": "markdown",
   "id": "0bdbc721-6465-46e0-80cf-4e6f6476bdd2",
   "metadata": {},
   "source": [
    "## Target distribution"
   ]
  },
  {
   "cell_type": "code",
   "execution_count": 10,
   "id": "3d16e97c-cff3-42c3-ab16-80e6bdfc2a4e",
   "metadata": {},
   "outputs": [
    {
     "data": {
      "image/png": "[encoded data removed]",
      "text/plain": [
       "<Figure size 432x288 with 1 Axes>"
      ]
     },
     "metadata": {
      "needs_background": "light"
     },
     "output_type": "display_data"
    }
   ],
   "source": [
    "ax = sns.barplot(x='target', y='target', data=train, estimator=lambda x: len(x) / len(train) * 100)\n",
    "ax.set(ylabel='Percent', title='Target distributon in the train set');"
   ]
  },
  {
   "cell_type": "markdown",
   "id": "f86f03b6-da5b-4221-a793-8a7dba11f012",
   "metadata": {},
   "source": [
    "## Words and sentences analysis"
   ]
  },
  {
   "cell_type": "code",
   "execution_count": 270,
   "id": "f66a4157-732d-4d4b-bdde-e1f1ce6c2054",
   "metadata": {},
   "outputs": [],
   "source": [
    "tokenizer = nltk.data.load('tokenizers/punkt/PY3/english.pickle')"
   ]
  },
  {
   "cell_type": "code",
   "execution_count": 14,
   "id": "fc42e5a0-af53-4075-81e0-1f5313753ee2",
   "metadata": {},
   "outputs": [
    {
     "data": {
      "text/html": [
       "<div>\n",
       "<style scoped>\n",
       "    .dataframe tbody tr th:only-of-type {\n",
       "        vertical-align: middle;\n",
       "    }\n",
       "\n",
       "    .dataframe tbody tr th {\n",
       "        vertical-align: top;\n",
       "    }\n",
       "\n",
       "    .dataframe thead th {\n",
       "        text-align: right;\n",
       "    }\n",
       "</style>\n",
       "<table border=\"1\" class=\"dataframe\">\n",
       "  <thead>\n",
       "    <tr style=\"text-align: right;\">\n",
       "      <th></th>\n",
       "      <th>id</th>\n",
       "      <th>text</th>\n",
       "      <th>target</th>\n",
       "      <th>count_sentences</th>\n",
       "      <th>count_words</th>\n",
       "    </tr>\n",
       "  </thead>\n",
       "  <tbody>\n",
       "    <tr>\n",
       "      <th>0</th>\n",
       "      <td>1</td>\n",
       "      <td>Our Deeds are the Reason of this #earthquake M...</td>\n",
       "      <td>1</td>\n",
       "      <td>1</td>\n",
       "      <td>14</td>\n",
       "    </tr>\n",
       "    <tr>\n",
       "      <th>1</th>\n",
       "      <td>4</td>\n",
       "      <td>Forest fire near La Ronge Sask. Canada</td>\n",
       "      <td>1</td>\n",
       "      <td>2</td>\n",
       "      <td>8</td>\n",
       "    </tr>\n",
       "    <tr>\n",
       "      <th>2</th>\n",
       "      <td>5</td>\n",
       "      <td>All residents asked to 'shelter in place' are ...</td>\n",
       "      <td>1</td>\n",
       "      <td>2</td>\n",
       "      <td>24</td>\n",
       "    </tr>\n",
       "    <tr>\n",
       "      <th>3</th>\n",
       "      <td>6</td>\n",
       "      <td>13,000 people receive #wildfires evacuation or...</td>\n",
       "      <td>1</td>\n",
       "      <td>1</td>\n",
       "      <td>9</td>\n",
       "    </tr>\n",
       "    <tr>\n",
       "      <th>4</th>\n",
       "      <td>7</td>\n",
       "      <td>Just got sent this photo from Ruby #Alaska as ...</td>\n",
       "      <td>1</td>\n",
       "      <td>1</td>\n",
       "      <td>18</td>\n",
       "    </tr>\n",
       "    <tr>\n",
       "      <th>5</th>\n",
       "      <td>8</td>\n",
       "      <td>#RockyFire Update =&gt; California Hwy. 20 closed...</td>\n",
       "      <td>1</td>\n",
       "      <td>2</td>\n",
       "      <td>23</td>\n",
       "    </tr>\n",
       "    <tr>\n",
       "      <th>6</th>\n",
       "      <td>10</td>\n",
       "      <td>#flood #disaster Heavy rain causes flash flood...</td>\n",
       "      <td>1</td>\n",
       "      <td>1</td>\n",
       "      <td>17</td>\n",
       "    </tr>\n",
       "    <tr>\n",
       "      <th>7</th>\n",
       "      <td>13</td>\n",
       "      <td>I'm on top of the hill and I can see a fire in...</td>\n",
       "      <td>1</td>\n",
       "      <td>1</td>\n",
       "      <td>17</td>\n",
       "    </tr>\n",
       "    <tr>\n",
       "      <th>8</th>\n",
       "      <td>14</td>\n",
       "      <td>There's an emergency evacuation happening now ...</td>\n",
       "      <td>1</td>\n",
       "      <td>1</td>\n",
       "      <td>13</td>\n",
       "    </tr>\n",
       "    <tr>\n",
       "      <th>9</th>\n",
       "      <td>15</td>\n",
       "      <td>I'm afraid that the tornado is coming to our a...</td>\n",
       "      <td>1</td>\n",
       "      <td>1</td>\n",
       "      <td>12</td>\n",
       "    </tr>\n",
       "  </tbody>\n",
       "</table>\n",
       "</div>"
      ],
      "text/plain": [
       "   id                                               text  target  \\\n",
       "0   1  Our Deeds are the Reason of this #earthquake M...       1   \n",
       "1   4             Forest fire near La Ronge Sask. Canada       1   \n",
       "2   5  All residents asked to 'shelter in place' are ...       1   \n",
       "3   6  13,000 people receive #wildfires evacuation or...       1   \n",
       "4   7  Just got sent this photo from Ruby #Alaska as ...       1   \n",
       "5   8  #RockyFire Update => California Hwy. 20 closed...       1   \n",
       "6  10  #flood #disaster Heavy rain causes flash flood...       1   \n",
       "7  13  I'm on top of the hill and I can see a fire in...       1   \n",
       "8  14  There's an emergency evacuation happening now ...       1   \n",
       "9  15  I'm afraid that the tornado is coming to our a...       1   \n",
       "\n",
       "   count_sentences  count_words  \n",
       "0                1           14  \n",
       "1                2            8  \n",
       "2                2           24  \n",
       "3                1            9  \n",
       "4                1           18  \n",
       "5                2           23  \n",
       "6                1           17  \n",
       "7                1           17  \n",
       "8                1           13  \n",
       "9                1           12  "
      ]
     },
     "execution_count": 14,
     "metadata": {},
     "output_type": "execute_result"
    }
   ],
   "source": [
    "train['count_sentences'] = train['text'].apply(lambda x : len(sent_tokenize(x)))\n",
    "train['count_words'] = train['text'].apply(lambda x : len(word_tokenize(x)))\n",
    "train.head(10)"
   ]
  },
  {
   "cell_type": "code",
   "execution_count": 15,
   "id": "d4b7c78e-43c7-4740-9d59-35c80f3578a6",
   "metadata": {},
   "outputs": [
    {
     "data": {
      "text/plain": [
       "<seaborn.axisgrid.FacetGrid at 0x294284190>"
      ]
     },
     "execution_count": 15,
     "metadata": {},
     "output_type": "execute_result"
    },
    {
     "data": {
      "image/png": "[encoded data removed]",
      "text/plain": [
       "<Figure size 576x288 with 2 Axes>"
      ]
     },
     "metadata": {
      "needs_background": "light"
     },
     "output_type": "display_data"
    }
   ],
   "source": [
    "g = sns.FacetGrid(train, col='target', height=4)\n",
    "g.map(sns.histplot,'count_sentences', bins=12, stat='percent')"
   ]
  },
  {
   "cell_type": "code",
   "execution_count": 16,
   "id": "d0b06d66-de36-43d5-8fde-1b2a2ad86336",
   "metadata": {},
   "outputs": [
    {
     "data": {
      "text/plain": [
       "<seaborn.axisgrid.FacetGrid at 0x2b9d34e50>"
      ]
     },
     "execution_count": 16,
     "metadata": {},
     "output_type": "execute_result"
    },
    {
     "data": {
      "image/png": "[encoded data removed]",
      "text/plain": [
       "<Figure size 576x288 with 2 Axes>"
      ]
     },
     "metadata": {
      "needs_background": "light"
     },
     "output_type": "display_data"
    }
   ],
   "source": [
    "g = sns.FacetGrid(train, col='target', height=4)\n",
    "g.map(sns.histplot,'count_words', stat='percent')"
   ]
  },
  {
   "cell_type": "code",
   "execution_count": 17,
   "id": "3bd20f3b-16b0-46de-b446-907cebf76513",
   "metadata": {},
   "outputs": [
    {
     "name": "stdout",
     "output_type": "stream",
     "text": [
      "For distaster tweets:\n",
      "The mean number of sentences is 1.4 and the median is 1.0\n",
      "The mean number of words is 19.26 and the median is 20.0\n",
      "For non distaster tweets:\n",
      "The mean number of sentences is 1.6 and the median is 1.0\n",
      "The mean number of words is 18.66 and the median is 19.0\n"
     ]
    }
   ],
   "source": [
    "train_disasters = train[train['target'] == 1]\n",
    "train_not_disasters = train[train['target'] == 0]\n",
    "\n",
    "print('For distaster tweets:')\n",
    "print(f'The mean number of sentences is {round(train_disasters[\"count_sentences\"].mean(),2)} and the median is {train_disasters[\"count_sentences\"].median()}')\n",
    "print(f'The mean number of words is {round(train_disasters[\"count_words\"].mean(),2)} and the median is {train_disasters[\"count_words\"].median()}')\n",
    "\n",
    "print('For non distaster tweets:')\n",
    "print(f'The mean number of sentences is {round(train_not_disasters[\"count_sentences\"].mean(),2)} and the median is {train_not_disasters[\"count_sentences\"].median()}')\n",
    "print(f'The mean number of words is {round(train_not_disasters[\"count_words\"].mean(),2)} and the median is {train_not_disasters[\"count_words\"].median()}')"
   ]
  },
  {
   "cell_type": "markdown",
   "id": "56fe0839-6958-46a9-a7cd-316dd3727172",
   "metadata": {},
   "source": [
    "Disaster tweets are slightly longer"
   ]
  },
  {
   "cell_type": "markdown",
   "id": "02880959-ac02-402b-8c3e-a90944163d15",
   "metadata": {},
   "source": [
    "# Preprocessing\n",
    "The first preprocessing step will :\n",
    "- Remove URLs\n",
    "- Remove user mention @username\n",
    "- Remove non alphanumeric characters\n",
    "- Lowercase\n",
    "- Remove extra whitespace\n",
    "- Remove stop words\n",
    "- Keep only the lemma of the words"
   ]
  },
  {
   "cell_type": "code",
   "execution_count": 4,
   "id": "472c6169-9b3d-46d1-9f7d-7bdccdbef9eb",
   "metadata": {},
   "outputs": [],
   "source": [
    "import en_core_web_sm\n",
    "nlp = en_core_web_sm.load()\n",
    "from spacy.lang.en.stop_words import STOP_WORDS\n",
    "from nltk.tokenize import TweetTokenizer"
   ]
  },
  {
   "cell_type": "code",
   "execution_count": 5,
   "id": "45cbdc38-eed3-4fa3-89f3-5f0e4fb37fae",
   "metadata": {},
   "outputs": [],
   "source": [
    "def preprocess(text):\n",
    "    text = re.sub('(http|https|ftp)\\:\\/\\/[a-zA-Z0-9\\-\\.]+\\.[a-zA-Z]{2,3}(\\/\\S*)?', '', text)\n",
    "    text = re.sub(\"@[A-Za-z0-9_]+\",\"\", text)\n",
    "    text = ''.join(ch for ch in text if ch.isalnum() or ch==' ')\n",
    "    text = text.lower().strip()\n",
    "    text = ' '.join([token.lemma_ for token in nlp(text) if (token.lemma_ not in STOP_WORDS) and (token.text not in STOP_WORDS)])\n",
    "    return text"
   ]
  },
  {
   "cell_type": "code",
   "execution_count": 207,
   "id": "754d46ee-c8e7-4f72-8b89-cde8742b8bc2",
   "metadata": {},
   "outputs": [
    {
     "data": {
      "text/html": [
       "<div>\n",
       "<style scoped>\n",
       "    .dataframe tbody tr th:only-of-type {\n",
       "        vertical-align: middle;\n",
       "    }\n",
       "\n",
       "    .dataframe tbody tr th {\n",
       "        vertical-align: top;\n",
       "    }\n",
       "\n",
       "    .dataframe thead th {\n",
       "        text-align: right;\n",
       "    }\n",
       "</style>\n",
       "<table border=\"1\" class=\"dataframe\">\n",
       "  <thead>\n",
       "    <tr style=\"text-align: right;\">\n",
       "      <th></th>\n",
       "      <th>keyword</th>\n",
       "      <th>text</th>\n",
       "      <th>target</th>\n",
       "    </tr>\n",
       "  </thead>\n",
       "  <tbody>\n",
       "    <tr>\n",
       "      <th>0</th>\n",
       "      <td>NaN</td>\n",
       "      <td>Our Deeds are the Reason of this #earthquake M...</td>\n",
       "      <td>1</td>\n",
       "    </tr>\n",
       "    <tr>\n",
       "      <th>1</th>\n",
       "      <td>NaN</td>\n",
       "      <td>Forest fire near La Ronge Sask. Canada</td>\n",
       "      <td>1</td>\n",
       "    </tr>\n",
       "    <tr>\n",
       "      <th>2</th>\n",
       "      <td>NaN</td>\n",
       "      <td>All residents asked to 'shelter in place' are ...</td>\n",
       "      <td>1</td>\n",
       "    </tr>\n",
       "    <tr>\n",
       "      <th>3</th>\n",
       "      <td>NaN</td>\n",
       "      <td>13,000 people receive #wildfires evacuation or...</td>\n",
       "      <td>1</td>\n",
       "    </tr>\n",
       "    <tr>\n",
       "      <th>4</th>\n",
       "      <td>NaN</td>\n",
       "      <td>Just got sent this photo from Ruby #Alaska as ...</td>\n",
       "      <td>1</td>\n",
       "    </tr>\n",
       "    <tr>\n",
       "      <th>...</th>\n",
       "      <td>...</td>\n",
       "      <td>...</td>\n",
       "      <td>...</td>\n",
       "    </tr>\n",
       "    <tr>\n",
       "      <th>7608</th>\n",
       "      <td>NaN</td>\n",
       "      <td>Two giant cranes holding a bridge collapse int...</td>\n",
       "      <td>1</td>\n",
       "    </tr>\n",
       "    <tr>\n",
       "      <th>7609</th>\n",
       "      <td>NaN</td>\n",
       "      <td>@aria_ahrary @TheTawniest The out of control w...</td>\n",
       "      <td>1</td>\n",
       "    </tr>\n",
       "    <tr>\n",
       "      <th>7610</th>\n",
       "      <td>NaN</td>\n",
       "      <td>M1.94 [01:04 UTC]?5km S of Volcano Hawaii. htt...</td>\n",
       "      <td>1</td>\n",
       "    </tr>\n",
       "    <tr>\n",
       "      <th>7611</th>\n",
       "      <td>NaN</td>\n",
       "      <td>Police investigating after an e-bike collided ...</td>\n",
       "      <td>1</td>\n",
       "    </tr>\n",
       "    <tr>\n",
       "      <th>7612</th>\n",
       "      <td>NaN</td>\n",
       "      <td>The Latest: More Homes Razed by Northern Calif...</td>\n",
       "      <td>1</td>\n",
       "    </tr>\n",
       "  </tbody>\n",
       "</table>\n",
       "<p>7613 rows × 3 columns</p>\n",
       "</div>"
      ],
      "text/plain": [
       "     keyword                                               text  target\n",
       "0        NaN  Our Deeds are the Reason of this #earthquake M...       1\n",
       "1        NaN             Forest fire near La Ronge Sask. Canada       1\n",
       "2        NaN  All residents asked to 'shelter in place' are ...       1\n",
       "3        NaN  13,000 people receive #wildfires evacuation or...       1\n",
       "4        NaN  Just got sent this photo from Ruby #Alaska as ...       1\n",
       "...      ...                                                ...     ...\n",
       "7608     NaN  Two giant cranes holding a bridge collapse int...       1\n",
       "7609     NaN  @aria_ahrary @TheTawniest The out of control w...       1\n",
       "7610     NaN  M1.94 [01:04 UTC]?5km S of Volcano Hawaii. htt...       1\n",
       "7611     NaN  Police investigating after an e-bike collided ...       1\n",
       "7612     NaN  The Latest: More Homes Razed by Northern Calif...       1\n",
       "\n",
       "[7613 rows x 3 columns]"
      ]
     },
     "execution_count": 207,
     "metadata": {},
     "output_type": "execute_result"
    }
   ],
   "source": [
    "train"
   ]
  },
  {
   "cell_type": "code",
   "execution_count": 6,
   "id": "ebaab8a4-8007-4fa0-b23a-25890d16f730",
   "metadata": {},
   "outputs": [],
   "source": [
    "train['text_clean'] = train['text'].apply(lambda x: preprocess(x))\n",
    "test['text_clean'] = test['text'].apply(lambda x: preprocess(x))"
   ]
  },
  {
   "cell_type": "markdown",
   "id": "18822d31-2940-4031-a6d6-ac290bc02303",
   "metadata": {},
   "source": [
    "The second preprocessing step will :\n",
    "- Tokenize the tweets and only keep the 1000 most commons word\n",
    "- Convert to sequence\n",
    "- Padding = Add 0 at the end of a sequence to make the input vectors the same size\n",
    "- Convert to tensor slice\n",
    "- Split train and validation test"
   ]
  },
  {
   "cell_type": "code",
   "execution_count": 7,
   "id": "1a159a05-6178-4529-9eaa-48306f8b0289",
   "metadata": {},
   "outputs": [],
   "source": [
    "tokenizer = tf.keras.preprocessing.text.Tokenizer(num_words=1000) # instanciate the tokenizer\n",
    "tokenizer.fit_on_texts(train['text_clean'])\n",
    "train['text_encoded'] = tokenizer.texts_to_sequences(train['text_clean'])\n",
    "test['text_encoded'] = tokenizer.texts_to_sequences(test['text_clean'])\n",
    "train['len_text'] = train['text_encoded'].apply(lambda x: len(x))\n",
    "train = train[train['len_text']!=0]"
   ]
  },
  {
   "cell_type": "code",
   "execution_count": 8,
   "id": "d9e2ac29-8084-4938-99b7-a5060f1583e6",
   "metadata": {},
   "outputs": [
    {
     "data": {
      "text/plain": [
       "array([[408, 169,   0, ...,   0,   0,   0],\n",
       "       [117,   2, 159, ...,   0,   0,   0],\n",
       "       [441, 320, 290, ...,   0,   0,   0],\n",
       "       ...,\n",
       "       [437,   5, 389, ...,   0,   0,   0],\n",
       "       [ 23, 734,  88, ...,   0,   0,   0],\n",
       "       [107,  25, 357, ...,   0,   0,   0]], dtype=int32)"
      ]
     },
     "execution_count": 8,
     "metadata": {},
     "output_type": "execute_result"
    }
   ],
   "source": [
    "text_pad = tf.keras.preprocessing.sequence.pad_sequences(train['text_encoded'], padding=\"post\")\n",
    "text_pad"
   ]
  },
  {
   "cell_type": "code",
   "execution_count": 9,
   "id": "55711b00-6c86-4cef-90e5-49ea09bd6844",
   "metadata": {},
   "outputs": [
    {
     "name": "stdout",
     "output_type": "stream",
     "text": [
      "Metal device set to: Apple M1\n"
     ]
    },
    {
     "name": "stderr",
     "output_type": "stream",
     "text": [
      "2022-11-17 14:42:44.289144: I tensorflow/core/common_runtime/pluggable_device/pluggable_device_factory.cc:305] Could not identify NUMA node of platform GPU ID 0, defaulting to 0. Your kernel may not have been built with NUMA support.\n",
      "2022-11-17 14:42:44.289232: I tensorflow/core/common_runtime/pluggable_device/pluggable_device_factory.cc:271] Created TensorFlow device (/job:localhost/replica:0/task:0/device:GPU:0 with 0 MB memory) -> physical PluggableDevice (device: 0, name: METAL, pci bus id: <undefined>)\n"
     ]
    }
   ],
   "source": [
    "full_ds = tf.data.Dataset.from_tensor_slices((text_pad, train['target']))"
   ]
  },
  {
   "cell_type": "code",
   "execution_count": 55,
   "id": "3a958046-cc74-4f2c-a46a-0d1a00bffefa",
   "metadata": {},
   "outputs": [],
   "source": [
    "# Train Test Split\n",
    "TAKE_SIZE = int(0.7*train.shape[0])\n",
    "\n",
    "train_data = full_ds.take(TAKE_SIZE).shuffle(TAKE_SIZE)\n",
    "train_data = train_data.batch(100)\n",
    "\n",
    "val_data = full_ds.skip(TAKE_SIZE)\n",
    "val_data = val_data.batch(100)"
   ]
  },
  {
   "cell_type": "code",
   "execution_count": 35,
   "id": "90423b1b-9222-4ec1-ba1e-b1f01c49ebed",
   "metadata": {},
   "outputs": [
    {
     "name": "stdout",
     "output_type": "stream",
     "text": [
      "tf.Tensor(\n",
      "[[  5 412  84 ...   0   0   0]\n",
      " [430  63  28 ...   0   0   0]\n",
      " [ 82   2 234 ...   0   0   0]\n",
      " ...\n",
      " [828  51 489 ...   0   0   0]\n",
      " [429 456 468 ...   0   0   0]\n",
      " [577 609  31 ...   0   0   0]], shape=(100, 18), dtype=int32) tf.Tensor(\n",
      "[1 0 1 0 1 0 0 1 0 0 1 1 1 1 0 1 0 0 0 0 0 1 0 0 0 0 0 1 0 1 0 1 1 0 1 1 0\n",
      " 1 1 1 1 1 0 0 1 1 0 1 0 0 1 1 1 0 1 1 0 1 0 1 0 0 0 1 0 1 1 1 0 0 0 0 0 0\n",
      " 0 0 1 1 0 1 0 0 1 1 1 0 1 0 0 0 1 0 1 0 0 0 0 1 0 0], shape=(100,), dtype=int64)\n"
     ]
    }
   ],
   "source": [
    "for tweet, target in train_data_batch.take(1):\n",
    "    print(tweet, target)"
   ]
  },
  {
   "cell_type": "markdown",
   "id": "b60d0a6b-5db6-43f9-9d53-d648aaace911",
   "metadata": {},
   "source": [
    "# Model selection\n",
    "We will start by creating the simpleRNN model that will be used as a baseline. Then we will try to see if GRU and LSTM work better on our dataset. From that, we will select the best model and try to improve it by tuning the hyperparameters and changing the network architecture"
   ]
  },
  {
   "cell_type": "markdown",
   "id": "64aec3b3-b9cf-4961-bd83-b0e1e31f23bb",
   "metadata": {},
   "source": [
    "## Baseline - SimpleRNN \n",
    "### Model"
   ]
  },
  {
   "cell_type": "code",
   "execution_count": 12,
   "id": "b69d275c-7f35-465d-a7f5-2ac3cc47a5e3",
   "metadata": {},
   "outputs": [],
   "source": [
    "vocab_size = tokenizer.num_words "
   ]
  },
  {
   "cell_type": "code",
   "execution_count": 335,
   "id": "0a8945b5-5437-4786-b8be-f1ea6bc4caaa",
   "metadata": {},
   "outputs": [],
   "source": [
    "model_srnn_baseline = tf.keras.Sequential([       \n",
    "                  Embedding(vocab_size, 32, input_shape=[tweet.shape[1],],name=\"embedding\"),\n",
    "                  SimpleRNN(units=16, return_sequences=False), # returns the last output\n",
    "                  Dropout(0.3),\n",
    "                  Dense(1, activation=\"sigmoid\")\n",
    "])"
   ]
  },
  {
   "cell_type": "code",
   "execution_count": 336,
   "id": "30e9de10-1b29-4817-bd3a-b83e6989a6b9",
   "metadata": {},
   "outputs": [
    {
     "name": "stdout",
     "output_type": "stream",
     "text": [
      "Model: \"sequential_40\"\n",
      "_________________________________________________________________\n",
      " Layer (type)                Output Shape              Param #   \n",
      "=================================================================\n",
      " embedding (Embedding)       (None, 18, 32)            32000     \n",
      "                                                                 \n",
      " simple_rnn_48 (SimpleRNN)   (None, 16)                784       \n",
      "                                                                 \n",
      " dropout_33 (Dropout)        (None, 16)                0         \n",
      "                                                                 \n",
      " dense_75 (Dense)            (None, 1)                 17        \n",
      "                                                                 \n",
      "=================================================================\n",
      "Total params: 32,801\n",
      "Trainable params: 32,801\n",
      "Non-trainable params: 0\n",
      "_________________________________________________________________\n"
     ]
    }
   ],
   "source": [
    "model_srnn_baseline.summary()"
   ]
  },
  {
   "cell_type": "code",
   "execution_count": 337,
   "id": "03f2a847-092e-4737-9882-86060e260311",
   "metadata": {},
   "outputs": [],
   "source": [
    "optimizer= tf.keras.optimizers.Adam(0.0001)\n",
    "\n",
    "model_srnn_baseline.compile(optimizer=optimizer,\n",
    "              loss=tf.keras.losses.BinaryCrossentropy(),\n",
    "              metrics=['accuracy'])"
   ]
  },
  {
   "cell_type": "code",
   "execution_count": 13,
   "id": "9926d8c8-ff05-4cb1-8826-f83d7dfa73a1",
   "metadata": {},
   "outputs": [
    {
     "data": {
      "text/plain": [
       "{0: 0.8789890519450269, 1: 1.1596496619545174}"
      ]
     },
     "execution_count": 13,
     "metadata": {},
     "output_type": "execute_result"
    }
   ],
   "source": [
    "weights = 1/(train['target']).value_counts()\n",
    "weights = weights * len(train)/2\n",
    "weights = {index : values for index , values in zip(weights.index,weights.values)}\n",
    "weights"
   ]
  },
  {
   "cell_type": "code",
   "execution_count": 339,
   "id": "b029ae40-6c55-4534-b748-56501e219160",
   "metadata": {},
   "outputs": [
    {
     "name": "stdout",
     "output_type": "stream",
     "text": [
      "Epoch 1/20\n"
     ]
    },
    {
     "name": "stderr",
     "output_type": "stream",
     "text": [
      "2022-11-16 16:19:22.573331: I tensorflow/core/grappler/optimizers/custom_graph_optimizer_registry.cc:113] Plugin optimizer for device_type GPU is enabled.\n"
     ]
    },
    {
     "name": "stdout",
     "output_type": "stream",
     "text": [
      "53/53 [==============================] - ETA: 0s - loss: 0.6946 - accuracy: 0.5409"
     ]
    },
    {
     "name": "stderr",
     "output_type": "stream",
     "text": [
      "2022-11-16 16:19:39.950744: I tensorflow/core/grappler/optimizers/custom_graph_optimizer_registry.cc:113] Plugin optimizer for device_type GPU is enabled.\n"
     ]
    },
    {
     "name": "stdout",
     "output_type": "stream",
     "text": [
      "53/53 [==============================] - 20s 335ms/step - loss: 0.6946 - accuracy: 0.5409 - val_loss: 0.6894 - val_accuracy: 0.5656\n",
      "Epoch 2/20\n",
      "53/53 [==============================] - 12s 226ms/step - loss: 0.6856 - accuracy: 0.5693 - val_loss: 0.6860 - val_accuracy: 0.5753\n",
      "Epoch 3/20\n",
      "53/53 [==============================] - 12s 219ms/step - loss: 0.6787 - accuracy: 0.6030 - val_loss: 0.6837 - val_accuracy: 0.5801\n",
      "Epoch 4/20\n",
      "53/53 [==============================] - 12s 220ms/step - loss: 0.6650 - accuracy: 0.6454 - val_loss: 0.6711 - val_accuracy: 0.6057\n",
      "Epoch 5/20\n",
      "53/53 [==============================] - 11s 212ms/step - loss: 0.6349 - accuracy: 0.6924 - val_loss: 0.6491 - val_accuracy: 0.6402\n",
      "Epoch 6/20\n",
      "53/53 [==============================] - 12s 221ms/step - loss: 0.5849 - accuracy: 0.7336 - val_loss: 0.6247 - val_accuracy: 0.6658\n",
      "Epoch 7/20\n",
      "53/53 [==============================] - 12s 221ms/step - loss: 0.5293 - accuracy: 0.7741 - val_loss: 0.6132 - val_accuracy: 0.6706\n",
      "Epoch 8/20\n",
      "53/53 [==============================] - 11s 211ms/step - loss: 0.4865 - accuracy: 0.8039 - val_loss: 0.6071 - val_accuracy: 0.6808\n",
      "Epoch 9/20\n",
      "53/53 [==============================] - 11s 208ms/step - loss: 0.4589 - accuracy: 0.8217 - val_loss: 0.6091 - val_accuracy: 0.6843\n",
      "Epoch 10/20\n",
      "53/53 [==============================] - 11s 210ms/step - loss: 0.4355 - accuracy: 0.8357 - val_loss: 0.6140 - val_accuracy: 0.6821\n",
      "Epoch 11/20\n",
      "53/53 [==============================] - 11s 216ms/step - loss: 0.4190 - accuracy: 0.8457 - val_loss: 0.6308 - val_accuracy: 0.6720\n"
     ]
    },
    {
     "data": {
      "text/plain": [
       "<keras.callbacks.History at 0x706d2a760>"
      ]
     },
     "execution_count": 339,
     "metadata": {},
     "output_type": "execute_result"
    }
   ],
   "source": [
    "es_callback = tf.keras.callbacks.EarlyStopping(monitor='val_loss', patience=3)\n",
    "model_srnn_baseline.fit(train_data_batch, epochs=20, validation_data=val_data_batch, callbacks=[es_callback], class_weight=weights)"
   ]
  },
  {
   "cell_type": "code",
   "execution_count": 341,
   "id": "90eb6419-2b9e-4788-982e-d2d97f91cc61",
   "metadata": {},
   "outputs": [],
   "source": [
    "model_srnn_baseline.save('models/model_simpleRNN_baseline.h5')\n",
    "json.dump(model_srnn_baseline.history.history, open('models/simpleRNN_baseline_history.json', 'w'))"
   ]
  },
  {
   "cell_type": "markdown",
   "id": "442cb980-e221-4187-a0d5-b5ffa5c2673f",
   "metadata": {},
   "source": [
    "### Evaluation\n",
    "\n",
    "As we can see, the simpleRNN model does not seem to do a very good job. The accuracy on the validation set is only 0.68 after 10 epochs while the accuracy on the train set is 0.84. The plots above shows that the model starts overfitting from the 3rd epoch. "
   ]
  },
  {
   "cell_type": "code",
   "execution_count": 342,
   "id": "992e2baf-bfde-41a5-aa74-e385a79020ae",
   "metadata": {},
   "outputs": [],
   "source": [
    "simpleRNN_baseline_history = json.load(open('models/simpleRNN_baseline_history.json', 'r'))"
   ]
  },
  {
   "cell_type": "code",
   "execution_count": 14,
   "id": "3586e7a2-15e8-4a12-9b7a-a83fa29988d2",
   "metadata": {},
   "outputs": [],
   "source": [
    "def plot_history(history):\n",
    "\n",
    "    fig, axes = plt.subplots(1, 2, figsize=(20, 5))\n",
    "\n",
    "    x_lim = len(history['loss']) + 1\n",
    "\n",
    "    # legend \n",
    "    train_line = mlines.Line2D([], [], color='blue', label='Train set')\n",
    "    val_line = mlines.Line2D([], [], color='red', label='Validation set')\n",
    "\n",
    "    # Loss\n",
    "    sns.lineplot(x = range(1,x_lim), y=history['loss'], ax=axes[0], color='blue')\n",
    "    sns.lineplot(x = range(1,x_lim), y=history['val_loss'], ax=axes[0], color='red')\n",
    "    axes[0].legend(handles=[train_line, val_line], loc='upper left')\n",
    "    axes[0].set(xlabel='Epochs', title='Loss')\n",
    "    axes[0].set_xticks(range(x_lim), labels=range(0,x_lim))\n",
    "\n",
    "    # Accuracy\n",
    "    sns.lineplot(x = range(1,x_lim), y=history['accuracy'], ax=axes[1], color='blue')\n",
    "    sns.lineplot(x = range(1,x_lim), y=history['val_accuracy'], ax=axes[1], color='red')\n",
    "    axes[1].legend(handles=[train_line, val_line], loc='upper left')\n",
    "    axes[1].set(xlabel='Epochs', title='Accuracy')\n",
    "    axes[1].set_xticks(range(x_lim), labels=range(0,x_lim));\n"
   ]
  },
  {
   "cell_type": "code",
   "execution_count": 344,
   "id": "cc81f77d-b470-4829-91d0-4c20b3fae2e6",
   "metadata": {},
   "outputs": [
    {
     "data": {
      "image/png": "[encoded data removed]",
      "text/plain": [
       "<Figure size 1440x360 with 2 Axes>"
      ]
     },
     "metadata": {},
     "output_type": "display_data"
    }
   ],
   "source": [
    "plot_history(simpleRNN_baseline_history)"
   ]
  },
  {
   "cell_type": "markdown",
   "id": "c9a0a241-25fd-45f9-9036-93f2e20d913b",
   "metadata": {},
   "source": [
    "## GRU\n",
    "### Model"
   ]
  },
  {
   "cell_type": "code",
   "execution_count": 348,
   "id": "7ab69f84-0b37-43b3-99c3-fdc981d2ef9d",
   "metadata": {},
   "outputs": [],
   "source": [
    "model_gru = tf.keras.Sequential([\n",
    "                  Embedding(vocab_size, 32, input_shape=[tweet.shape[1],],name=\"embedding\"),\n",
    "                  GRU(units=16, return_sequences=False), # returns the last output\n",
    "                  Dropout(0.3),\n",
    "                  Dense(1, activation=\"sigmoid\")\n",
    "])"
   ]
  },
  {
   "cell_type": "code",
   "execution_count": 349,
   "id": "7ddb72c8-64db-4a6c-b96e-bbdb3dc9d558",
   "metadata": {},
   "outputs": [
    {
     "name": "stdout",
     "output_type": "stream",
     "text": [
      "Model: \"sequential_42\"\n",
      "_________________________________________________________________\n",
      " Layer (type)                Output Shape              Param #   \n",
      "=================================================================\n",
      " embedding (Embedding)       (None, 18, 32)            32000     \n",
      "                                                                 \n",
      " gru_5 (GRU)                 (None, 16)                2400      \n",
      "                                                                 \n",
      " dropout_35 (Dropout)        (None, 16)                0         \n",
      "                                                                 \n",
      " dense_77 (Dense)            (None, 1)                 17        \n",
      "                                                                 \n",
      "=================================================================\n",
      "Total params: 34,417\n",
      "Trainable params: 34,417\n",
      "Non-trainable params: 0\n",
      "_________________________________________________________________\n"
     ]
    }
   ],
   "source": [
    "model_gru.summary()"
   ]
  },
  {
   "cell_type": "code",
   "execution_count": 355,
   "id": "9f57575b-3be6-4b14-b8b1-aefe19edbf1f",
   "metadata": {},
   "outputs": [],
   "source": [
    "optimizer= tf.keras.optimizers.Adam(0.0001)\n",
    "\n",
    "model_gru.compile(optimizer=optimizer,\n",
    "              loss=tf.keras.losses.BinaryCrossentropy(),\n",
    "              metrics=['accuracy'])"
   ]
  },
  {
   "cell_type": "code",
   "execution_count": 356,
   "id": "d3f6d983-1942-475d-900a-701ac607d9ab",
   "metadata": {},
   "outputs": [
    {
     "name": "stdout",
     "output_type": "stream",
     "text": [
      "Epoch 1/20\n"
     ]
    },
    {
     "name": "stderr",
     "output_type": "stream",
     "text": [
      "2022-11-16 20:58:03.865299: I tensorflow/core/grappler/optimizers/custom_graph_optimizer_registry.cc:113] Plugin optimizer for device_type GPU is enabled.\n",
      "2022-11-16 20:58:04.145904: I tensorflow/core/grappler/optimizers/custom_graph_optimizer_registry.cc:113] Plugin optimizer for device_type GPU is enabled.\n",
      "2022-11-16 20:58:05.351110: I tensorflow/core/grappler/optimizers/custom_graph_optimizer_registry.cc:113] Plugin optimizer for device_type GPU is enabled.\n"
     ]
    },
    {
     "name": "stdout",
     "output_type": "stream",
     "text": [
      "53/53 [==============================] - ETA: 0s - loss: 0.3801 - accuracy: 0.8444"
     ]
    },
    {
     "name": "stderr",
     "output_type": "stream",
     "text": [
      "2022-11-16 20:58:12.087063: I tensorflow/core/grappler/optimizers/custom_graph_optimizer_registry.cc:113] Plugin optimizer for device_type GPU is enabled.\n",
      "2022-11-16 20:58:12.209017: I tensorflow/core/grappler/optimizers/custom_graph_optimizer_registry.cc:113] Plugin optimizer for device_type GPU is enabled.\n"
     ]
    },
    {
     "name": "stdout",
     "output_type": "stream",
     "text": [
      "53/53 [==============================] - 10s 145ms/step - loss: 0.3801 - accuracy: 0.8444 - val_loss: 0.5643 - val_accuracy: 0.7214\n",
      "Epoch 2/20\n",
      "53/53 [==============================] - 4s 66ms/step - loss: 0.3750 - accuracy: 0.8482 - val_loss: 0.5751 - val_accuracy: 0.7135\n",
      "Epoch 3/20\n",
      "53/53 [==============================] - 3s 49ms/step - loss: 0.3733 - accuracy: 0.8501 - val_loss: 0.5775 - val_accuracy: 0.7152\n",
      "Epoch 4/20\n",
      "53/53 [==============================] - 2s 38ms/step - loss: 0.3717 - accuracy: 0.8478 - val_loss: 0.5747 - val_accuracy: 0.7188\n"
     ]
    },
    {
     "data": {
      "text/plain": [
       "<keras.callbacks.History at 0x64fb287f0>"
      ]
     },
     "execution_count": 356,
     "metadata": {},
     "output_type": "execute_result"
    }
   ],
   "source": [
    "es_callback = tf.keras.callbacks.EarlyStopping(monitor='val_loss', patience=3)\n",
    "model_gru.fit(train_data, epochs=20, validation_data=val_data, callbacks=[es_callback], class_weight=weights)"
   ]
  },
  {
   "cell_type": "code",
   "execution_count": 359,
   "id": "c0a2ce4a-39bd-43f8-891f-3910c8bf1804",
   "metadata": {},
   "outputs": [],
   "source": [
    "model_gru.save('models/model_GRU.h5')\n",
    "json.dump(model_gru.history.history, open('models/GRU_history.json', 'w'))"
   ]
  },
  {
   "cell_type": "markdown",
   "id": "3d703d8b-8dfe-4b0c-99ca-4cf61c046077",
   "metadata": {},
   "source": [
    "### Evaluation\n",
    "\n",
    "GRU does not work better than SimpleRNN"
   ]
  },
  {
   "cell_type": "code",
   "execution_count": 361,
   "id": "04185658-9a78-4575-8e9e-a1bfd51091ab",
   "metadata": {},
   "outputs": [
    {
     "data": {
      "image/png": "[encoded data removed]",
      "text/plain": [
       "<Figure size 1440x360 with 2 Axes>"
      ]
     },
     "metadata": {},
     "output_type": "display_data"
    }
   ],
   "source": [
    "GRU_history = json.load(open('models/GRU_history.json', 'r'))\n",
    "plot_history(GRU_history)"
   ]
  },
  {
   "cell_type": "markdown",
   "id": "2fe1606a-3cc2-4d87-a2f5-81c94da20221",
   "metadata": {},
   "source": [
    "## LSTM\n",
    "### Model"
   ]
  },
  {
   "cell_type": "code",
   "execution_count": 15,
   "id": "e95e98e0-db30-4451-99e5-35027b296c1f",
   "metadata": {},
   "outputs": [],
   "source": [
    "model_lstm = tf.keras.Sequential([\n",
    "                  Embedding(vocab_size, 32, input_shape=[tweet.shape[1],],name=\"embedding\"),\n",
    "                  LSTM(units=16, return_sequences=False), # returns the last output\n",
    "                  Dropout(0.3),\n",
    "                  Dense(1, activation=\"sigmoid\")\n",
    "])"
   ]
  },
  {
   "cell_type": "code",
   "execution_count": 16,
   "id": "2a6d3b79-0cf7-4a3b-8b1f-873cae9f8b1e",
   "metadata": {},
   "outputs": [
    {
     "name": "stdout",
     "output_type": "stream",
     "text": [
      "Model: \"sequential\"\n",
      "_________________________________________________________________\n",
      " Layer (type)                Output Shape              Param #   \n",
      "=================================================================\n",
      " embedding (Embedding)       (None, 18, 32)            32000     \n",
      "                                                                 \n",
      " lstm (LSTM)                 (None, 16)                3136      \n",
      "                                                                 \n",
      " dropout (Dropout)           (None, 16)                0         \n",
      "                                                                 \n",
      " dense (Dense)               (None, 1)                 17        \n",
      "                                                                 \n",
      "=================================================================\n",
      "Total params: 35,153\n",
      "Trainable params: 35,153\n",
      "Non-trainable params: 0\n",
      "_________________________________________________________________\n"
     ]
    }
   ],
   "source": [
    "model_lstm.summary()"
   ]
  },
  {
   "cell_type": "code",
   "execution_count": 17,
   "id": "20044c1e-d87f-460a-9fdc-729b291b5621",
   "metadata": {},
   "outputs": [],
   "source": [
    "optimizer= tf.keras.optimizers.Adam(0.0001)\n",
    "\n",
    "model_lstm.compile(optimizer=optimizer,\n",
    "              loss=tf.keras.losses.BinaryCrossentropy(),\n",
    "              metrics=['accuracy'])"
   ]
  },
  {
   "cell_type": "code",
   "execution_count": 18,
   "id": "53527dfe-fc5a-4fad-8aff-ccf3933aafd0",
   "metadata": {},
   "outputs": [
    {
     "name": "stdout",
     "output_type": "stream",
     "text": [
      "Epoch 1/20\n"
     ]
    },
    {
     "name": "stderr",
     "output_type": "stream",
     "text": [
      "2022-11-17 14:07:21.975079: W tensorflow/core/platform/profile_utils/cpu_utils.cc:128] Failed to get CPU frequency: 0 Hz\n",
      "2022-11-17 14:07:22.744060: I tensorflow/core/grappler/optimizers/custom_graph_optimizer_registry.cc:113] Plugin optimizer for device_type GPU is enabled.\n",
      "2022-11-17 14:07:22.877504: I tensorflow/core/grappler/optimizers/custom_graph_optimizer_registry.cc:113] Plugin optimizer for device_type GPU is enabled.\n"
     ]
    },
    {
     "name": "stdout",
     "output_type": "stream",
     "text": [
      " 4/53 [=>............................] - ETA: 1s - loss: 0.6952 - accuracy: 0.5425  "
     ]
    },
    {
     "name": "stderr",
     "output_type": "stream",
     "text": [
      "2022-11-17 14:07:23.040178: I tensorflow/core/grappler/optimizers/custom_graph_optimizer_registry.cc:113] Plugin optimizer for device_type GPU is enabled.\n"
     ]
    },
    {
     "name": "stdout",
     "output_type": "stream",
     "text": [
      "53/53 [==============================] - ETA: 0s - loss: 0.6920 - accuracy: 0.5470"
     ]
    },
    {
     "name": "stderr",
     "output_type": "stream",
     "text": [
      "2022-11-17 14:07:24.369797: I tensorflow/core/grappler/optimizers/custom_graph_optimizer_registry.cc:113] Plugin optimizer for device_type GPU is enabled.\n",
      "2022-11-17 14:07:24.418304: I tensorflow/core/grappler/optimizers/custom_graph_optimizer_registry.cc:113] Plugin optimizer for device_type GPU is enabled.\n"
     ]
    },
    {
     "name": "stdout",
     "output_type": "stream",
     "text": [
      "53/53 [==============================] - 3s 28ms/step - loss: 0.6920 - accuracy: 0.5470 - val_loss: 0.6921 - val_accuracy: 0.5558\n",
      "Epoch 2/20\n",
      "53/53 [==============================] - 1s 18ms/step - loss: 0.6918 - accuracy: 0.5685 - val_loss: 0.6914 - val_accuracy: 0.5563\n",
      "Epoch 3/20\n",
      "53/53 [==============================] - 1s 18ms/step - loss: 0.6915 - accuracy: 0.5736 - val_loss: 0.6906 - val_accuracy: 0.5563\n",
      "Epoch 4/20\n",
      "53/53 [==============================] - 1s 18ms/step - loss: 0.6908 - accuracy: 0.5801 - val_loss: 0.6899 - val_accuracy: 0.5567\n",
      "Epoch 5/20\n",
      "53/53 [==============================] - 1s 18ms/step - loss: 0.6896 - accuracy: 0.6000 - val_loss: 0.6879 - val_accuracy: 0.5620\n",
      "Epoch 6/20\n",
      "53/53 [==============================] - 1s 17ms/step - loss: 0.6861 - accuracy: 0.6231 - val_loss: 0.6824 - val_accuracy: 0.6177\n",
      "Epoch 7/20\n",
      "53/53 [==============================] - 1s 17ms/step - loss: 0.6712 - accuracy: 0.7100 - val_loss: 0.6611 - val_accuracy: 0.7241\n",
      "Epoch 8/20\n",
      "53/53 [==============================] - 1s 17ms/step - loss: 0.6086 - accuracy: 0.7874 - val_loss: 0.5845 - val_accuracy: 0.7488\n",
      "Epoch 9/20\n",
      "53/53 [==============================] - 1s 17ms/step - loss: 0.5026 - accuracy: 0.8027 - val_loss: 0.5236 - val_accuracy: 0.7589\n",
      "Epoch 10/20\n",
      "53/53 [==============================] - 1s 17ms/step - loss: 0.4571 - accuracy: 0.8124 - val_loss: 0.5090 - val_accuracy: 0.7479\n",
      "Epoch 11/20\n",
      "53/53 [==============================] - 1s 17ms/step - loss: 0.4379 - accuracy: 0.8241 - val_loss: 0.5178 - val_accuracy: 0.7457\n",
      "Epoch 12/20\n",
      "53/53 [==============================] - 1s 17ms/step - loss: 0.4313 - accuracy: 0.8300 - val_loss: 0.5105 - val_accuracy: 0.7519\n",
      "Epoch 13/20\n",
      "53/53 [==============================] - 1s 17ms/step - loss: 0.4215 - accuracy: 0.8379 - val_loss: 0.5115 - val_accuracy: 0.7554\n"
     ]
    },
    {
     "data": {
      "text/plain": [
       "<keras.callbacks.History at 0x28d4b8790>"
      ]
     },
     "execution_count": 18,
     "metadata": {},
     "output_type": "execute_result"
    }
   ],
   "source": [
    "es_callback = tf.keras.callbacks.EarlyStopping(monitor='val_loss', patience=3)\n",
    "model_lstm.fit(train_data, epochs=20, validation_data=val_data, callbacks=[es_callback], class_weight=weights)"
   ]
  },
  {
   "cell_type": "code",
   "execution_count": 19,
   "id": "65433b82-2144-4470-a89c-50ba95288981",
   "metadata": {},
   "outputs": [],
   "source": [
    "model_lstm.save('models/model_LSTM.h5')\n",
    "json.dump(model_lstm.history.history, open('models/LSTM_history.json', 'w'))"
   ]
  },
  {
   "cell_type": "markdown",
   "id": "c6303e85-bca7-4a6e-98c1-fa92818ab4c8",
   "metadata": {},
   "source": [
    "### Evaluation\n",
    "\n",
    "LSTM is much better. The accuracy on the validation set is close to 0.75 on the validation set. However the model still overfits from the epoch 8. "
   ]
  },
  {
   "cell_type": "code",
   "execution_count": 22,
   "id": "f48928c1-c7f1-492e-8ecd-45a9620eaf2d",
   "metadata": {},
   "outputs": [
    {
     "data": {
      "image/png": "[encoded data removed]",
      "text/plain": [
       "<Figure size 1440x360 with 2 Axes>"
      ]
     },
     "metadata": {
      "needs_background": "light"
     },
     "output_type": "display_data"
    }
   ],
   "source": [
    "LSTM_history = json.load(open('models/LSTM_history.json', 'r'))\n",
    "plot_history(LSTM_history)"
   ]
  },
  {
   "cell_type": "markdown",
   "id": "9fbab924-d361-4f3f-95e4-d96eaf2b06a6",
   "metadata": {},
   "source": [
    "LSTM"
   ]
  },
  {
   "cell_type": "markdown",
   "id": "26e9b9cc-f823-483a-aa18-6d1288ec4c01",
   "metadata": {},
   "source": [
    "# LSTM enhancement\n",
    "## Model"
   ]
  },
  {
   "cell_type": "code",
   "execution_count": 211,
   "id": "cc8b8ce8-e98c-4440-b377-8c9e56aa0bc1",
   "metadata": {},
   "outputs": [],
   "source": [
    "model_lstm_2 = tf.keras.Sequential([\n",
    "                  Embedding(vocab_size, 32, input_shape=[tweet.shape[1],],name=\"embedding\"),\n",
    "                  SpatialDropout1D(0.3),\n",
    "                  Bidirectional(LSTM(units=16, return_sequences=False, dropout=0.3)), # returns the last output\n",
    "                  Dense(8, activation='relu'),\n",
    "                  Dense(1, activation=\"sigmoid\")\n",
    "])"
   ]
  },
  {
   "cell_type": "code",
   "execution_count": 212,
   "id": "a91228cb-4af3-4576-8138-225537d49a8a",
   "metadata": {},
   "outputs": [
    {
     "name": "stdout",
     "output_type": "stream",
     "text": [
      "Model: \"sequential_4\"\n",
      "_________________________________________________________________\n",
      " Layer (type)                Output Shape              Param #   \n",
      "=================================================================\n",
      " embedding (Embedding)       (None, 18, 32)            32000     \n",
      "                                                                 \n",
      " spatial_dropout1d_4 (Spatia  (None, 18, 32)           0         \n",
      " lDropout1D)                                                     \n",
      "                                                                 \n",
      " bidirectional_3 (Bidirectio  (None, 32)               6272      \n",
      " nal)                                                            \n",
      "                                                                 \n",
      " dense_8 (Dense)             (None, 8)                 264       \n",
      "                                                                 \n",
      " dense_9 (Dense)             (None, 1)                 9         \n",
      "                                                                 \n",
      "=================================================================\n",
      "Total params: 38,545\n",
      "Trainable params: 38,545\n",
      "Non-trainable params: 0\n",
      "_________________________________________________________________\n"
     ]
    }
   ],
   "source": [
    "model_lstm_2.summary()"
   ]
  },
  {
   "cell_type": "code",
   "execution_count": 25,
   "id": "4bbae2e0-0159-4dcc-b188-f91fce37f110",
   "metadata": {},
   "outputs": [
    {
     "name": "stdout",
     "output_type": "stream",
     "text": [
      "Epoch 1/20\n"
     ]
    },
    {
     "name": "stderr",
     "output_type": "stream",
     "text": [
      "2022-11-17 14:56:21.843524: I tensorflow/core/grappler/optimizers/custom_graph_optimizer_registry.cc:113] Plugin optimizer for device_type GPU is enabled.\n",
      "2022-11-17 14:56:22.092897: I tensorflow/core/grappler/optimizers/custom_graph_optimizer_registry.cc:113] Plugin optimizer for device_type GPU is enabled.\n",
      "2022-11-17 14:56:22.103196: I tensorflow/core/grappler/optimizers/custom_graph_optimizer_registry.cc:113] Plugin optimizer for device_type GPU is enabled.\n",
      "2022-11-17 14:56:22.250714: I tensorflow/core/grappler/optimizers/custom_graph_optimizer_registry.cc:113] Plugin optimizer for device_type GPU is enabled.\n",
      "2022-11-17 14:56:22.265640: I tensorflow/core/grappler/optimizers/custom_graph_optimizer_registry.cc:113] Plugin optimizer for device_type GPU is enabled.\n"
     ]
    },
    {
     "name": "stdout",
     "output_type": "stream",
     "text": [
      "53/53 [==============================] - ETA: 0s - loss: 0.6934 - accuracy: 0.4284"
     ]
    },
    {
     "name": "stderr",
     "output_type": "stream",
     "text": [
      "2022-11-17 14:56:24.581593: I tensorflow/core/grappler/optimizers/custom_graph_optimizer_registry.cc:113] Plugin optimizer for device_type GPU is enabled.\n",
      "2022-11-17 14:56:24.661826: I tensorflow/core/grappler/optimizers/custom_graph_optimizer_registry.cc:113] Plugin optimizer for device_type GPU is enabled.\n",
      "2022-11-17 14:56:24.669132: I tensorflow/core/grappler/optimizers/custom_graph_optimizer_registry.cc:113] Plugin optimizer for device_type GPU is enabled.\n"
     ]
    },
    {
     "name": "stdout",
     "output_type": "stream",
     "text": [
      "53/53 [==============================] - 4s 51ms/step - loss: 0.6934 - accuracy: 0.4284 - val_loss: 0.6945 - val_accuracy: 0.4371\n",
      "Epoch 2/20\n",
      "53/53 [==============================] - 1s 28ms/step - loss: 0.6916 - accuracy: 0.5008 - val_loss: 0.6927 - val_accuracy: 0.5258\n",
      "Epoch 3/20\n",
      "53/53 [==============================] - 1s 26ms/step - loss: 0.6902 - accuracy: 0.5674 - val_loss: 0.6907 - val_accuracy: 0.6238\n",
      "Epoch 4/20\n",
      "53/53 [==============================] - 1s 26ms/step - loss: 0.6874 - accuracy: 0.6378 - val_loss: 0.6879 - val_accuracy: 0.6499\n",
      "Epoch 5/20\n",
      "53/53 [==============================] - 1s 26ms/step - loss: 0.6833 - accuracy: 0.6747 - val_loss: 0.6831 - val_accuracy: 0.6834\n",
      "Epoch 6/20\n",
      "53/53 [==============================] - 1s 26ms/step - loss: 0.6765 - accuracy: 0.7120 - val_loss: 0.6759 - val_accuracy: 0.6945\n",
      "Epoch 7/20\n",
      "53/53 [==============================] - 1s 25ms/step - loss: 0.6667 - accuracy: 0.7160 - val_loss: 0.6658 - val_accuracy: 0.7046\n",
      "Epoch 8/20\n",
      "53/53 [==============================] - 1s 26ms/step - loss: 0.6522 - accuracy: 0.7315 - val_loss: 0.6515 - val_accuracy: 0.7099\n",
      "Epoch 9/20\n",
      "53/53 [==============================] - 1s 25ms/step - loss: 0.6297 - accuracy: 0.7418 - val_loss: 0.6311 - val_accuracy: 0.7135\n",
      "Epoch 10/20\n",
      "53/53 [==============================] - 1s 25ms/step - loss: 0.6054 - accuracy: 0.7560 - val_loss: 0.6138 - val_accuracy: 0.7148\n",
      "Epoch 11/20\n",
      "53/53 [==============================] - 1s 25ms/step - loss: 0.5718 - accuracy: 0.7580 - val_loss: 0.5824 - val_accuracy: 0.7263\n",
      "Epoch 12/20\n",
      "53/53 [==============================] - 1s 25ms/step - loss: 0.5321 - accuracy: 0.7660 - val_loss: 0.5633 - val_accuracy: 0.7179\n",
      "Epoch 13/20\n",
      "53/53 [==============================] - 1s 26ms/step - loss: 0.4912 - accuracy: 0.7840 - val_loss: 0.5286 - val_accuracy: 0.7395\n",
      "Epoch 14/20\n",
      "53/53 [==============================] - 1s 26ms/step - loss: 0.4600 - accuracy: 0.7899 - val_loss: 0.5143 - val_accuracy: 0.7448\n",
      "Epoch 15/20\n",
      "53/53 [==============================] - 1s 25ms/step - loss: 0.4437 - accuracy: 0.8052 - val_loss: 0.5013 - val_accuracy: 0.7611\n",
      "Epoch 16/20\n",
      "53/53 [==============================] - 1s 25ms/step - loss: 0.4349 - accuracy: 0.8084 - val_loss: 0.5142 - val_accuracy: 0.7475\n",
      "Epoch 17/20\n",
      "53/53 [==============================] - 1s 25ms/step - loss: 0.4279 - accuracy: 0.8133 - val_loss: 0.5043 - val_accuracy: 0.7567\n",
      "Epoch 18/20\n",
      "53/53 [==============================] - 1s 25ms/step - loss: 0.4208 - accuracy: 0.8215 - val_loss: 0.5029 - val_accuracy: 0.7598\n"
     ]
    },
    {
     "data": {
      "text/plain": [
       "<keras.callbacks.History at 0x295c1db80>"
      ]
     },
     "execution_count": 25,
     "metadata": {},
     "output_type": "execute_result"
    }
   ],
   "source": [
    "optimizer= tf.keras.optimizers.Adam(0.0001)\n",
    "\n",
    "model_lstm_2.compile(optimizer=optimizer,\n",
    "              loss=tf.keras.losses.BinaryCrossentropy(),\n",
    "              metrics=['accuracy'])\n",
    "\n",
    "es_callback = tf.keras.callbacks.EarlyStopping(monitor='val_loss', patience=3)\n",
    "model_lstm_2.fit(train_data, epochs=20, validation_data=val_data, callbacks=[es_callback], class_weight=weights)"
   ]
  },
  {
   "cell_type": "code",
   "execution_count": 31,
   "id": "ec80a959-d242-4aea-a908-a8737685e4f5",
   "metadata": {},
   "outputs": [],
   "source": [
    "model_lstm_2.save('models/model_LSTM_final.h5')\n",
    "json.dump(model_lstm_2.history.history, open('models/LSTM_final_history.json', 'w'))"
   ]
  },
  {
   "cell_type": "markdown",
   "id": "2e69e67f-408c-44cf-9d6f-f3a0e2eb6eed",
   "metadata": {},
   "source": [
    "## Evaluation\n",
    "\n",
    "Tweeaking our model allowed us to slighty fight the overfitting of our model. It is still not perfect but it is better. The strategy was:\n",
    "- Adding a SpatialDropOut before the LSTM layer. It is a regularization method that dropouts entire feature maps from the convolutional layer\n",
    "- Using a bidirectional LSTM layer. \"It involves duplicating the first recurrent layer in the network so that there are now two layers side-by-side, then providing the input sequence as-is as input to the first layer and providing a reversed copy of the input sequence to the second.\" [source](https://machinelearningmastery.com/develop-bidirectional-lstm-sequence-classification-python-keras/)\n",
    "\n",
    "### Loss and accuracy"
   ]
  },
  {
   "cell_type": "code",
   "execution_count": 28,
   "id": "a69daa4d-b106-43fb-a58a-c0f6f1b98c13",
   "metadata": {},
   "outputs": [
    {
     "data": {
      "image/png": "[encoded data removed]",
      "text/plain": [
       "<Figure size 1440x360 with 2 Axes>"
      ]
     },
     "metadata": {
      "needs_background": "light"
     },
     "output_type": "display_data"
    }
   ],
   "source": [
    "LSTM_history = json.load(open('models/LSTM_final_history.json', 'r'))\n",
    "plot_history(LSTM_history)"
   ]
  },
  {
   "cell_type": "markdown",
   "id": "2b9b540b-7a00-4bd2-8f86-d4dd6ea55b3f",
   "metadata": {},
   "source": [
    "### Confusion matrix\n",
    "\n",
    "The confusion matrix shows us that our model performs equally on both classes. It does not make better prediction on one of the classe."
   ]
  },
  {
   "cell_type": "code",
   "execution_count": 60,
   "id": "35459126-2e0c-468c-8456-0323701e7644",
   "metadata": {},
   "outputs": [],
   "source": [
    "model = tf.keras.models.load_model('models/model_LSTM_final.h5')"
   ]
  },
  {
   "cell_type": "code",
   "execution_count": 102,
   "id": "87245b6a-12e0-411e-9a54-8add550c8b9f",
   "metadata": {},
   "outputs": [],
   "source": [
    "X_val = np.array([list(data.numpy()) for data, _ in val_data_batch.unbatch()])\n",
    "y_val = [target.numpy() for _, target in val_data_batch.unbatch()]"
   ]
  },
  {
   "cell_type": "code",
   "execution_count": 120,
   "id": "b0d3c76c-ac2e-4da3-962c-07a6fc971fe1",
   "metadata": {},
   "outputs": [
    {
     "name": "stdout",
     "output_type": "stream",
     "text": [
      "71/71 [==============================] - 1s 7ms/step\n"
     ]
    }
   ],
   "source": [
    "y_pred_proba = model.predict(X_val)\n",
    "y_pred = [1 if proba>0.5 else 0 for proba in y_pred_proba]"
   ]
  },
  {
   "cell_type": "code",
   "execution_count": 134,
   "id": "a671d7cd-a525-40e2-a9d8-0bc243c4178d",
   "metadata": {},
   "outputs": [
    {
     "data": {
      "image/png": "[encoded data removed]",
      "text/plain": [
       "<Figure size 432x288 with 2 Axes>"
      ]
     },
     "metadata": {
      "needs_background": "light"
     },
     "output_type": "display_data"
    }
   ],
   "source": [
    "ax = sns.heatmap(confusion_matrix(y_val, y_pred), annot=True, fmt=\"d\", cmap = 'GnBu')\n",
    "ax.set(title='Confusion matrix', xlabel='Correct classes', ylabel='Predicted classes');"
   ]
  },
  {
   "cell_type": "markdown",
   "id": "bac6efa3-38e8-4097-a5d9-ab5d4fd1adcf",
   "metadata": {},
   "source": [
    "# Prediction"
   ]
  },
  {
   "cell_type": "code",
   "execution_count": 138,
   "id": "2badfc24-ef27-4bf9-9318-903b1a361049",
   "metadata": {},
   "outputs": [
    {
     "name": "stdout",
     "output_type": "stream",
     "text": [
      "102/102 [==============================] - 1s 7ms/step\n"
     ]
    }
   ],
   "source": [
    "text_pad_test = tf.keras.preprocessing.sequence.pad_sequences(test['text_encoded'], padding=\"post\", maxlen=tweet.shape[1])\n",
    "test['prediction'] = model.predict(text_pad_test)\n",
    "test['target'] = test['prediction'].apply(lambda x: 1 if x>0.5 else 0)"
   ]
  },
  {
   "cell_type": "code",
   "execution_count": 141,
   "id": "b33c4c09-3f62-46c1-8185-fb6379b5a096",
   "metadata": {},
   "outputs": [
    {
     "data": {
      "text/html": [
       "<div>\n",
       "<style scoped>\n",
       "    .dataframe tbody tr th:only-of-type {\n",
       "        vertical-align: middle;\n",
       "    }\n",
       "\n",
       "    .dataframe tbody tr th {\n",
       "        vertical-align: top;\n",
       "    }\n",
       "\n",
       "    .dataframe thead th {\n",
       "        text-align: right;\n",
       "    }\n",
       "</style>\n",
       "<table border=\"1\" class=\"dataframe\">\n",
       "  <thead>\n",
       "    <tr style=\"text-align: right;\">\n",
       "      <th></th>\n",
       "      <th>id</th>\n",
       "      <th>keyword</th>\n",
       "      <th>location</th>\n",
       "      <th>text</th>\n",
       "      <th>text_clean</th>\n",
       "      <th>text_encoded</th>\n",
       "      <th>prediction</th>\n",
       "      <th>target</th>\n",
       "    </tr>\n",
       "  </thead>\n",
       "  <tbody>\n",
       "    <tr>\n",
       "      <th>0</th>\n",
       "      <td>0</td>\n",
       "      <td>NaN</td>\n",
       "      <td>NaN</td>\n",
       "      <td>Just happened a terrible car crash</td>\n",
       "      <td>happen terrible car crash</td>\n",
       "      <td>[171, 45, 14]</td>\n",
       "      <td>0.804732</td>\n",
       "      <td>1</td>\n",
       "    </tr>\n",
       "    <tr>\n",
       "      <th>1</th>\n",
       "      <td>2</td>\n",
       "      <td>NaN</td>\n",
       "      <td>NaN</td>\n",
       "      <td>Heard about #earthquake is different cities, s...</td>\n",
       "      <td>hear earthquake different city stay safe</td>\n",
       "      <td>[127, 169, 935, 119, 367]</td>\n",
       "      <td>0.930391</td>\n",
       "      <td>1</td>\n",
       "    </tr>\n",
       "    <tr>\n",
       "      <th>2</th>\n",
       "      <td>3</td>\n",
       "      <td>NaN</td>\n",
       "      <td>NaN</td>\n",
       "      <td>there is a forest fire at spot pond, geese are...</td>\n",
       "      <td>forest fire spot pond geese flee street save</td>\n",
       "      <td>[117, 2, 520, 379, 95]</td>\n",
       "      <td>0.897840</td>\n",
       "      <td>1</td>\n",
       "    </tr>\n",
       "    <tr>\n",
       "      <th>3</th>\n",
       "      <td>9</td>\n",
       "      <td>NaN</td>\n",
       "      <td>NaN</td>\n",
       "      <td>Apocalypse lighting. #Spokane #wildfires</td>\n",
       "      <td>apocalypse lighting spokane wildfire</td>\n",
       "      <td>[385, 69]</td>\n",
       "      <td>0.576727</td>\n",
       "      <td>1</td>\n",
       "    </tr>\n",
       "    <tr>\n",
       "      <th>4</th>\n",
       "      <td>11</td>\n",
       "      <td>NaN</td>\n",
       "      <td>NaN</td>\n",
       "      <td>Typhoon Soudelor kills 28 in China and Taiwan</td>\n",
       "      <td>typhoon soudelor kill 28 china taiwan</td>\n",
       "      <td>[391, 522, 11, 337, 939]</td>\n",
       "      <td>0.943969</td>\n",
       "      <td>1</td>\n",
       "    </tr>\n",
       "  </tbody>\n",
       "</table>\n",
       "</div>"
      ],
      "text/plain": [
       "   id keyword location                                               text  \\\n",
       "0   0     NaN      NaN                 Just happened a terrible car crash   \n",
       "1   2     NaN      NaN  Heard about #earthquake is different cities, s...   \n",
       "2   3     NaN      NaN  there is a forest fire at spot pond, geese are...   \n",
       "3   9     NaN      NaN           Apocalypse lighting. #Spokane #wildfires   \n",
       "4  11     NaN      NaN      Typhoon Soudelor kills 28 in China and Taiwan   \n",
       "\n",
       "                                     text_clean               text_encoded  \\\n",
       "0                     happen terrible car crash              [171, 45, 14]   \n",
       "1      hear earthquake different city stay safe  [127, 169, 935, 119, 367]   \n",
       "2  forest fire spot pond geese flee street save     [117, 2, 520, 379, 95]   \n",
       "3          apocalypse lighting spokane wildfire                  [385, 69]   \n",
       "4         typhoon soudelor kill 28 china taiwan   [391, 522, 11, 337, 939]   \n",
       "\n",
       "   prediction  target  \n",
       "0    0.804732       1  \n",
       "1    0.930391       1  \n",
       "2    0.897840       1  \n",
       "3    0.576727       1  \n",
       "4    0.943969       1  "
      ]
     },
     "execution_count": 141,
     "metadata": {},
     "output_type": "execute_result"
    }
   ],
   "source": [
    "test.head()"
   ]
  },
  {
   "cell_type": "code",
   "execution_count": 144,
   "id": "226c7e0f-846e-44b9-86a8-a3b799617efd",
   "metadata": {},
   "outputs": [],
   "source": [
    "test[['id', 'target']].to_csv('submission/submission.csv', index=False)"
   ]
  },
  {
   "cell_type": "code",
   "execution_count": null,
   "id": "52c7f386-2682-4e3d-84e9-3d13f9f935ad",
   "metadata": {},
   "outputs": [],
   "source": []
  }
 ],
 "metadata": {
  "kernelspec": {
   "display_name": "Python 3 (ipykernel)",
   "language": "python",
   "name": "python3"
  },
  "language_info": {
   "codemirror_mode": {
    "name": "ipython",
    "version": 3
   },
   "file_extension": ".py",
   "mimetype": "text/x-python",
   "name": "python",
   "nbconvert_exporter": "python",
   "pygments_lexer": "ipython3",
   "version": "3.9.13"
  },
  "toc-autonumbering": true
 },
 "nbformat": 4,
 "nbformat_minor": 5
}
