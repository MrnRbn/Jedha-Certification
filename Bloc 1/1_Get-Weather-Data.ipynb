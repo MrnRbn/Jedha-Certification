{
 "cells": [
  {
   "cell_type": "code",
   "execution_count": 6,
   "id": "6c9e8611-90d0-497d-9e19-0aa8cb8babcb",
   "metadata": {},
   "outputs": [],
   "source": [
    "import pandas as pd\n",
    "import requests\n",
    "import numpy as np\n",
    "import time"
   ]
  },
  {
   "cell_type": "markdown",
   "id": "4d1755cd-2e1b-44e2-9d58-0820eff11050",
   "metadata": {},
   "source": [
    "# Get cities coordinates\n",
    "\n",
    "We will retrieve the coordinates of the top 35 cities using the Nominatim API"
   ]
  },
  {
   "cell_type": "code",
   "execution_count": 27,
   "id": "dccfabfd-80ac-46ba-b2d9-a3008d2551d9",
   "metadata": {},
   "outputs": [],
   "source": [
    "cities = pd.read_csv('input/top35-cities.csv', header=None, names=['city', 'lat', 'lon'])"
   ]
  },
  {
   "cell_type": "code",
   "execution_count": null,
   "id": "dea0281d-03c0-422b-b3fb-d2dd06d96623",
   "metadata": {},
   "outputs": [],
   "source": [
    "# Get location and data\n",
    "for index, row in cities.iterrows():\n",
    "    try :\n",
    "        response = requests.get(f'https://nominatim.openstreetmap.org/search?q={row[\"city\"]}&country=france&format=json')\n",
    "        first_result = response.json()[0]\n",
    "        lat = first_result['lat']\n",
    "        lon = first_result['lon']\n",
    "\n",
    "    except:\n",
    "        lat = None\n",
    "        lon = None\n",
    "        print(f'Could not find coordinates for {row[\"city\"]}')\n",
    "    \n",
    "    cities.loc[index, 'lat'] = lat\n",
    "    cities.loc[index, 'lon'] = lon"
   ]
  },
  {
   "cell_type": "code",
   "execution_count": 29,
   "id": "fdb379d3-1756-4ec6-a7c8-8f188403948c",
   "metadata": {},
   "outputs": [
    {
     "data": {
      "text/html": [
       "<div>\n",
       "<style scoped>\n",
       "    .dataframe tbody tr th:only-of-type {\n",
       "        vertical-align: middle;\n",
       "    }\n",
       "\n",
       "    .dataframe tbody tr th {\n",
       "        vertical-align: top;\n",
       "    }\n",
       "\n",
       "    .dataframe thead th {\n",
       "        text-align: right;\n",
       "    }\n",
       "</style>\n",
       "<table border=\"1\" class=\"dataframe\">\n",
       "  <thead>\n",
       "    <tr style=\"text-align: right;\">\n",
       "      <th></th>\n",
       "      <th>city</th>\n",
       "      <th>lat</th>\n",
       "      <th>lon</th>\n",
       "    </tr>\n",
       "  </thead>\n",
       "  <tbody>\n",
       "    <tr>\n",
       "      <th>0</th>\n",
       "      <td>Mont Saint Michel</td>\n",
       "      <td>48.6359541</td>\n",
       "      <td>-1.511459954959514</td>\n",
       "    </tr>\n",
       "    <tr>\n",
       "      <th>1</th>\n",
       "      <td>St Malo</td>\n",
       "      <td>48.649518</td>\n",
       "      <td>-2.0260409</td>\n",
       "    </tr>\n",
       "    <tr>\n",
       "      <th>2</th>\n",
       "      <td>Bayeux</td>\n",
       "      <td>49.2764624</td>\n",
       "      <td>-0.7024738</td>\n",
       "    </tr>\n",
       "    <tr>\n",
       "      <th>3</th>\n",
       "      <td>Le Havre</td>\n",
       "      <td>49.4938975</td>\n",
       "      <td>0.1079732</td>\n",
       "    </tr>\n",
       "    <tr>\n",
       "      <th>4</th>\n",
       "      <td>Rouen</td>\n",
       "      <td>49.4404591</td>\n",
       "      <td>1.0939658</td>\n",
       "    </tr>\n",
       "  </tbody>\n",
       "</table>\n",
       "</div>"
      ],
      "text/plain": [
       "                city         lat                 lon\n",
       "0  Mont Saint Michel  48.6359541  -1.511459954959514\n",
       "1            St Malo   48.649518          -2.0260409\n",
       "2             Bayeux  49.2764624          -0.7024738\n",
       "3           Le Havre  49.4938975           0.1079732\n",
       "4              Rouen  49.4404591           1.0939658"
      ]
     },
     "execution_count": 29,
     "metadata": {},
     "output_type": "execute_result"
    }
   ],
   "source": [
    "cities.head()"
   ]
  },
  {
   "cell_type": "markdown",
   "id": "56e3053d-bd40-4efc-bcd6-e3190888155c",
   "metadata": {},
   "source": [
    "# Collect weather data\n",
    "We will retrieve the weather data of the top 35 cities for the next 7 days using the Openweather API."
   ]
  },
  {
   "cell_type": "code",
   "execution_count": 30,
   "id": "900750a8-4775-4e5f-950f-90fd60b3c5bc",
   "metadata": {},
   "outputs": [],
   "source": [
    "# Openweathers API key\n",
    "openweather_apikey = 'YOUR_KEY'"
   ]
  },
  {
   "cell_type": "code",
   "execution_count": 31,
   "id": "d4fa93c0-e1da-4298-ad09-c08a234c9a35",
   "metadata": {},
   "outputs": [],
   "source": [
    "# Create the weather columns\n",
    "for column in ['mean_feels_like', 'mean_pop']:\n",
    "    cities[column]= None\n",
    "    #cities[column] = cities[column].astype('object')"
   ]
  },
  {
   "cell_type": "code",
   "execution_count": 54,
   "id": "e2677ece-1dd5-4c62-ab0c-0007a8bb1b37",
   "metadata": {},
   "outputs": [],
   "source": [
    "for index, row in cities.iterrows():\n",
    "    try:\n",
    "        # API call\n",
    "        response = requests.get(f'https://api.openweathermap.org/data/2.5/onecall?lat={row[\"lat\"]}&lon={row[\"lon\"]}&exclude=current,hourly,minutely&units=metric&appid={openweather_apikey}')\n",
    "        weather = response.json()\n",
    "\n",
    "        # Extract interesting data \n",
    "        ## Round the temperature to the closest integer\n",
    "        mean_feels_like = round(np.mean([day['feels_like']['day'] for day in weather['daily']]))\n",
    "        \n",
    "        ## Round the probability of precipitations to the nearest 0.5\n",
    "        mean_pop = round(np.mean([day['pop'] for day in weather['daily']]) * 2 ) / 2\n",
    "        \n",
    "    \n",
    "    except:\n",
    "        mean_feels_like = []\n",
    "        mean_pop = []\n",
    "        print(f'Could not find weather data for {row[\"city\"]}')\n",
    "    \n",
    "    # Insert into the dataframe\n",
    "    cities.at[index,'mean_feels_like'] = mean_feels_like\n",
    "    cities.at[index,'mean_pop'] = mean_pop\n"
   ]
  },
  {
   "cell_type": "code",
   "execution_count": 62,
   "id": "a332a50a-1642-4bec-96ce-25337dc25065",
   "metadata": {},
   "outputs": [],
   "source": [
    "cities.sort_values(by=['mean_pop', 'mean_feels_like'], ascending=[True, False], inplace=True, ignore_index=True)"
   ]
  },
  {
   "cell_type": "code",
   "execution_count": 64,
   "id": "1fe85e4a-7397-4310-844c-851d7d596ee4",
   "metadata": {},
   "outputs": [],
   "source": [
    "# Export data for later use\n",
    "cities.to_csv('results/cities.csv', header=True, index=True, index_label='city_id')"
   ]
  },
  {
   "cell_type": "code",
   "execution_count": null,
   "id": "d7ba7a07-9efd-4b7a-94d9-5e845a48a15f",
   "metadata": {},
   "outputs": [],
   "source": []
  },
  {
   "cell_type": "code",
   "execution_count": null,
   "id": "bbfb66e8-70fd-4f5a-8936-61884a7f502a",
   "metadata": {},
   "outputs": [],
   "source": []
  }
 ],
 "metadata": {
  "kernelspec": {
   "display_name": "Python 3 (ipykernel)",
   "language": "python",
   "name": "python3"
  },
  "language_info": {
   "codemirror_mode": {
    "name": "ipython",
    "version": 3
   },
   "file_extension": ".py",
   "mimetype": "text/x-python",
   "name": "python",
   "nbconvert_exporter": "python",
   "pygments_lexer": "ipython3",
   "version": "3.7.15"
  },
  "vscode": {
   "interpreter": {
    "hash": "b0fa6594d8f4cbf19f97940f81e996739fb7646882a419484c72d19e05852a7e"
   }
  }
 },
 "nbformat": 4,
 "nbformat_minor": 5
}
