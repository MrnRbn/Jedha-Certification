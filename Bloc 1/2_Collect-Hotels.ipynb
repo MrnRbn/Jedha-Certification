{
 "cells": [
  {
   "cell_type": "code",
   "execution_count": 1,
   "id": "7cc01a07-fbe9-4379-ba18-bf2eefbcf1d6",
   "metadata": {},
   "outputs": [],
   "source": [
    "import pandas as pd\n",
    "import requests\n",
    "import numpy as np\n",
    "import boto3\n",
    "import time\n",
    "import botocore\n",
    "import os\n",
    "import logging\n",
    "import scrapy\n",
    "from scrapy.crawler import CrawlerProcess\n",
    "from sqlalchemy.orm import declarative_base, relationship\n",
    "from sqlalchemy import create_engine, MetaData, Table, Column, Integer, String, Float, ForeignKey, text"
   ]
  },
  {
   "cell_type": "markdown",
   "id": "b0bb9682-b28f-4b49-9b20-1f296780018a",
   "metadata": {},
   "source": [
    "# Collect hotels data\n",
    "The goal is the collect to 20 best hotels from the 5 cities with the best weather in the next 7 days.\n",
    "It will be done using Scrapy on the Booking.com website"
   ]
  },
  {
   "cell_type": "code",
   "execution_count": 87,
   "id": "c4e6fcd5-d90c-4861-9710-f3a8d03059f8",
   "metadata": {},
   "outputs": [
    {
     "data": {
      "text/html": [
       "<div>\n",
       "<style scoped>\n",
       "    .dataframe tbody tr th:only-of-type {\n",
       "        vertical-align: middle;\n",
       "    }\n",
       "\n",
       "    .dataframe tbody tr th {\n",
       "        vertical-align: top;\n",
       "    }\n",
       "\n",
       "    .dataframe thead th {\n",
       "        text-align: right;\n",
       "    }\n",
       "</style>\n",
       "<table border=\"1\" class=\"dataframe\">\n",
       "  <thead>\n",
       "    <tr style=\"text-align: right;\">\n",
       "      <th></th>\n",
       "      <th>city_id</th>\n",
       "      <th>city</th>\n",
       "      <th>lat</th>\n",
       "      <th>lon</th>\n",
       "      <th>mean_feels_like</th>\n",
       "      <th>mean_pop</th>\n",
       "    </tr>\n",
       "  </thead>\n",
       "  <tbody>\n",
       "    <tr>\n",
       "      <th>0</th>\n",
       "      <td>0</td>\n",
       "      <td>Cassis</td>\n",
       "      <td>43.214036</td>\n",
       "      <td>5.539632</td>\n",
       "      <td>19</td>\n",
       "      <td>0.0</td>\n",
       "    </tr>\n",
       "    <tr>\n",
       "      <th>1</th>\n",
       "      <td>1</td>\n",
       "      <td>Collioure</td>\n",
       "      <td>42.525050</td>\n",
       "      <td>3.083155</td>\n",
       "      <td>19</td>\n",
       "      <td>0.0</td>\n",
       "    </tr>\n",
       "    <tr>\n",
       "      <th>2</th>\n",
       "      <td>2</td>\n",
       "      <td>Carcassonne</td>\n",
       "      <td>43.213036</td>\n",
       "      <td>2.349107</td>\n",
       "      <td>19</td>\n",
       "      <td>0.0</td>\n",
       "    </tr>\n",
       "    <tr>\n",
       "      <th>3</th>\n",
       "      <td>3</td>\n",
       "      <td>Marseille</td>\n",
       "      <td>43.296174</td>\n",
       "      <td>5.369953</td>\n",
       "      <td>18</td>\n",
       "      <td>0.0</td>\n",
       "    </tr>\n",
       "    <tr>\n",
       "      <th>4</th>\n",
       "      <td>4</td>\n",
       "      <td>Aix en Provence</td>\n",
       "      <td>43.529842</td>\n",
       "      <td>5.447474</td>\n",
       "      <td>18</td>\n",
       "      <td>0.0</td>\n",
       "    </tr>\n",
       "  </tbody>\n",
       "</table>\n",
       "</div>"
      ],
      "text/plain": [
       "   city_id             city        lat       lon  mean_feels_like  mean_pop\n",
       "0        0           Cassis  43.214036  5.539632               19       0.0\n",
       "1        1        Collioure  42.525050  3.083155               19       0.0\n",
       "2        2      Carcassonne  43.213036  2.349107               19       0.0\n",
       "3        3        Marseille  43.296174  5.369953               18       0.0\n",
       "4        4  Aix en Provence  43.529842  5.447474               18       0.0"
      ]
     },
     "execution_count": 87,
     "metadata": {},
     "output_type": "execute_result"
    }
   ],
   "source": [
    "# Reading only the first cities as the file is already ordered\n",
    "cities = pd.read_csv('results/cities.csv', nrows=5)\n",
    "cities.head()"
   ]
  },
  {
   "cell_type": "code",
   "execution_count": 4,
   "id": "ba9bbee1-b606-424e-b8d9-e33e8dd53e3d",
   "metadata": {},
   "outputs": [],
   "source": [
    "# Create an HotelItem class\n",
    "class HotelItem(scrapy.Item):\n",
    "    name = scrapy.Field()\n",
    "    url = scrapy.Field()\n",
    "    description = scrapy.Field()\n",
    "    address = scrapy.Field()\n",
    "    city_id = scrapy.Field()\n",
    "    lat = scrapy.Field()\n",
    "    lon = scrapy.Field()\n",
    "    score = scrapy.Field()\n",
    "    rating = scrapy.Field()"
   ]
  },
  {
   "cell_type": "code",
   "execution_count": 5,
   "id": "b8200c37-9b99-47b8-951a-913fb949d43f",
   "metadata": {},
   "outputs": [],
   "source": [
    "# List of urls the Spider will have the scrap\n",
    "urls = [(row['city_id'], f'https://www.booking.com/searchresults.fr.html?ss={row[\"city\"]}&order=score') for index, row in cities.iterrows()]"
   ]
  },
  {
   "cell_type": "code",
   "execution_count": 6,
   "id": "e1975855-ad37-4e85-a273-55f784e681db",
   "metadata": {},
   "outputs": [],
   "source": [
    "class BookingSpider(scrapy.Spider):\n",
    "    # Name of your spider\n",
    "    name = \"bookingspider\"\n",
    "\n",
    "    def start_requests(self): \n",
    "        for city_id, url in urls :\n",
    "            yield scrapy.Request(url, meta={'city_id': city_id})\n",
    "\n",
    "\n",
    "    def parse(self, response):\n",
    "        # We only use the first 20 hotels which mean we don't need to scrap more than 1 page per city \n",
    "        for link in response.css('a[data-testid=\"title-link\"]')[:20]:\n",
    "            yield scrapy.Request(link.attrib['href'], callback=self.parse_hotel_details, meta={'city_id': response.meta.get('city_id')})\n",
    "            \n",
    "              \n",
    "    def parse_hotel_details(self, response):\n",
    "        \n",
    "        # Itinialise the item container\n",
    "        items = HotelItem()\n",
    "        \n",
    "        # Generic details\n",
    "        items['name'] = response.css('h2.pp-header__title::text').get()\n",
    "        items['url'] = response.url.split('?')[0]\n",
    "        items['description'] = ''.join(response.css('div#property_description_content>p::text').getall())\n",
    "        \n",
    "        # Location\n",
    "        items['address'] = response.css('span.hp_address_subtitle::text').get().strip()\n",
    "        coordinates = response.css('a#hotel_address').attrib['data-atlas-latlng'].split(',')\n",
    "        items['lat'] = coordinates[0]\n",
    "        items['lon'] = coordinates[1]\n",
    "        items['city_id'] = response.meta.get('city_id')\n",
    "        \n",
    "        # Score and ratings\n",
    "        try:\n",
    "            items['score'] = float(response.css('div[data-testid=\"review-score-right-component\"]>div.b5cd09854e::text').get().replace(',','.'))\n",
    "        except: \n",
    "            items['score'] = None\n",
    "        stars_rating = len(response.css('span[data-testid=\"rating-stars\"]>span').getall())\n",
    "        squares_rating = len(response.css('span[data-testid=\"rating-squares\"]>span').getall())\n",
    "        items['rating'] = max(stars_rating, squares_rating)\n",
    "        \n",
    "        # Return\n",
    "        yield items\n",
    "        "
   ]
  },
  {
   "cell_type": "code",
   "execution_count": 7,
   "id": "a7e7c6d4-cbbf-4eb4-b295-d4221369140b",
   "metadata": {},
   "outputs": [
    {
     "name": "stderr",
     "output_type": "stream",
     "text": [
      "2022-11-09 11:29:51 [scrapy.utils.log] INFO: Scrapy 2.7.1 started (bot: scrapybot)\n",
      "2022-11-09 11:29:51 [scrapy.utils.log] INFO: Versions: lxml 4.9.1.0, libxml2 2.9.14, cssselect 1.2.0, parsel 1.7.0, w3lib 2.0.1, Twisted 22.10.0, Python 3.7.15 (default, Oct 25 2022, 06:25:35) - [GCC 8.3.0], pyOpenSSL 22.1.0 (OpenSSL 3.0.7 1 Nov 2022), cryptography 38.0.3, Platform Linux-5.10.124-linuxkit-x86_64-with-debian-10.13\n",
      "2022-11-09 11:29:51 [scrapy.crawler] INFO: Overridden settings:\n",
      "{'AUTOTHROTTLE_ENABLED': True,\n",
      " 'LOG_LEVEL': 20,\n",
      " 'USER_AGENT': 'Mozilla/5.0 (Windows NT 10.0; Win64; x64) AppleWebKit/537.36 '\n",
      "               '(KHTML, like Gecko) Chrome/93.0.4577.82 Safari/537.36'}\n",
      "2022-11-09 11:29:51 [py.warnings] WARNING: /usr/local/lib/python3.7/site-packages/scrapy/utils/request.py:231: ScrapyDeprecationWarning: '2.6' is a deprecated value for the 'REQUEST_FINGERPRINTER_IMPLEMENTATION' setting.\n",
      "\n",
      "It is also the default value. In other words, it is normal to get this warning if you have not defined a value for the 'REQUEST_FINGERPRINTER_IMPLEMENTATION' setting. This is so for backward compatibility reasons, but it will change in a future version of Scrapy.\n",
      "\n",
      "See the documentation of the 'REQUEST_FINGERPRINTER_IMPLEMENTATION' setting for information on how to handle this deprecation.\n",
      "  return cls(crawler)\n",
      "\n",
      "2022-11-09 11:29:51 [scrapy.extensions.telnet] INFO: Telnet Password: c47168b6f64829f5\n",
      "2022-11-09 11:29:51 [scrapy.middleware] INFO: Enabled extensions:\n",
      "['scrapy.extensions.corestats.CoreStats',\n",
      " 'scrapy.extensions.telnet.TelnetConsole',\n",
      " 'scrapy.extensions.memusage.MemoryUsage',\n",
      " 'scrapy.extensions.feedexport.FeedExporter',\n",
      " 'scrapy.extensions.logstats.LogStats',\n",
      " 'scrapy.extensions.throttle.AutoThrottle']\n",
      "2022-11-09 11:29:51 [scrapy.middleware] INFO: Enabled downloader middlewares:\n",
      "['scrapy.downloadermiddlewares.httpauth.HttpAuthMiddleware',\n",
      " 'scrapy.downloadermiddlewares.downloadtimeout.DownloadTimeoutMiddleware',\n",
      " 'scrapy.downloadermiddlewares.defaultheaders.DefaultHeadersMiddleware',\n",
      " 'scrapy.downloadermiddlewares.useragent.UserAgentMiddleware',\n",
      " 'scrapy.downloadermiddlewares.retry.RetryMiddleware',\n",
      " 'scrapy.downloadermiddlewares.redirect.MetaRefreshMiddleware',\n",
      " 'scrapy.downloadermiddlewares.httpcompression.HttpCompressionMiddleware',\n",
      " 'scrapy.downloadermiddlewares.redirect.RedirectMiddleware',\n",
      " 'scrapy.downloadermiddlewares.cookies.CookiesMiddleware',\n",
      " 'scrapy.downloadermiddlewares.httpproxy.HttpProxyMiddleware',\n",
      " 'scrapy.downloadermiddlewares.stats.DownloaderStats']\n",
      "2022-11-09 11:29:52 [scrapy.middleware] INFO: Enabled spider middlewares:\n",
      "['scrapy.spidermiddlewares.httperror.HttpErrorMiddleware',\n",
      " 'scrapy.spidermiddlewares.offsite.OffsiteMiddleware',\n",
      " 'scrapy.spidermiddlewares.referer.RefererMiddleware',\n",
      " 'scrapy.spidermiddlewares.urllength.UrlLengthMiddleware',\n",
      " 'scrapy.spidermiddlewares.depth.DepthMiddleware']\n",
      "2022-11-09 11:29:52 [scrapy.middleware] INFO: Enabled item pipelines:\n",
      "[]\n",
      "2022-11-09 11:29:52 [scrapy.core.engine] INFO: Spider opened\n",
      "2022-11-09 11:29:52 [scrapy.extensions.logstats] INFO: Crawled 0 pages (at 0 pages/min), scraped 0 items (at 0 items/min)\n",
      "2022-11-09 11:29:52 [scrapy.extensions.telnet] INFO: Telnet console listening on 127.0.0.1:6023\n",
      "2022-11-09 11:30:52 [scrapy.extensions.logstats] INFO: Crawled 39 pages (at 39 pages/min), scraped 34 items (at 34 items/min)\n",
      "2022-11-09 11:31:53 [scrapy.extensions.logstats] INFO: Crawled 86 pages (at 47 pages/min), scraped 81 items (at 47 items/min)\n",
      "2022-11-09 11:32:14 [scrapy.core.engine] INFO: Closing spider (finished)\n",
      "2022-11-09 11:32:14 [scrapy.extensions.feedexport] INFO: Stored json feed (100 items) in: results/top20-hotels.json\n",
      "2022-11-09 11:32:14 [scrapy.statscollectors] INFO: Dumping Scrapy stats:\n",
      "{'downloader/request_bytes': 134154,\n",
      " 'downloader/request_count': 105,\n",
      " 'downloader/request_method_count/GET': 105,\n",
      " 'downloader/response_bytes': 31036557,\n",
      " 'downloader/response_count': 105,\n",
      " 'downloader/response_status_count/200': 105,\n",
      " 'elapsed_time_seconds': 141.758021,\n",
      " 'feedexport/success_count/FileFeedStorage': 1,\n",
      " 'finish_reason': 'finished',\n",
      " 'finish_time': datetime.datetime(2022, 11, 9, 11, 32, 14, 598703),\n",
      " 'httpcompression/response_bytes': 137911116,\n",
      " 'httpcompression/response_count': 105,\n",
      " 'item_scraped_count': 100,\n",
      " 'log_count/INFO': 13,\n",
      " 'log_count/WARNING': 1,\n",
      " 'memusage/max': 490311680,\n",
      " 'memusage/startup': 260456448,\n",
      " 'request_depth_max': 1,\n",
      " 'response_received_count': 105,\n",
      " 'scheduler/dequeued': 105,\n",
      " 'scheduler/dequeued/memory': 105,\n",
      " 'scheduler/enqueued': 105,\n",
      " 'scheduler/enqueued/memory': 105,\n",
      " 'start_time': datetime.datetime(2022, 11, 9, 11, 29, 52, 840682)}\n",
      "2022-11-09 11:32:14 [scrapy.core.engine] INFO: Spider closed (finished)\n"
     ]
    }
   ],
   "source": [
    "# Name of the file where the results will be saved\n",
    "filename = \"top20-hotels.json\"\n",
    "\n",
    "# If file already exists, delete it before crawling (because Scrapy will concatenate the last and new results otherwise)\n",
    "if filename in os.listdir('results/'):\n",
    "        os.remove('results/' + filename)\n",
    "\n",
    "# Declare a new CrawlerProcess with some settings\n",
    "process = CrawlerProcess(settings = {\n",
    "    'USER_AGENT': 'Mozilla/5.0 (Windows NT 10.0; Win64; x64) AppleWebKit/537.36 (KHTML, like Gecko) Chrome/93.0.4577.82 Safari/537.36',\n",
    "    'LOG_LEVEL': logging.INFO,\n",
    "    \"AUTOTHROTTLE_ENABLED\": True,\n",
    "    \"FEEDS\": {\n",
    "        'results/' + filename : {\"format\": \"json\"},\n",
    "    }\n",
    "})\n",
    "\n",
    "# Start the crawling using the spider you defined above\n",
    "process.crawl(BookingSpider)\n",
    "process.start()"
   ]
  },
  {
   "cell_type": "markdown",
   "id": "1b80f003-2f7e-4160-a5c5-c8b40ed9842d",
   "metadata": {},
   "source": [
    "# Store to s3\n",
    "Save all the results to a S3 bucket"
   ]
  },
  {
   "cell_type": "code",
   "execution_count": 8,
   "id": "6608a24d-f26c-4071-9db1-2953e25ee0c9",
   "metadata": {},
   "outputs": [],
   "source": [
    "AWS_ACCESS_KEY=\"YOUR_KEY\"\n",
    "AWS_SECRET_ACCESS_KEY=\"YOUR_SECRET_KEY\""
   ]
  },
  {
   "cell_type": "code",
   "execution_count": 9,
   "id": "c8fbbdf0-20e3-45a5-a9b3-75ebdd3efd02",
   "metadata": {},
   "outputs": [],
   "source": [
    "session = boto3.Session(aws_access_key_id=AWS_ACCESS_KEY, aws_secret_access_key=AWS_SECRET_ACCESS_KEY)\n",
    "s3 = session.client(\"s3\")\n",
    "\n",
    "bucket = s3.create_bucket(Bucket=\"kayak-project-jedha-marion\",\n",
    "                 CreateBucketConfiguration={'LocationConstraint' : 'eu-west-3'})"
   ]
  },
  {
   "cell_type": "code",
   "execution_count": 14,
   "id": "bb50fc51-0687-4777-a4a6-40557537e6ee",
   "metadata": {},
   "outputs": [
    {
     "data": {
      "text/plain": [
       "{'ResponseMetadata': {'RequestId': '5YFSKX2RKF3Z8MRA',\n",
       "  'HostId': 'gc9uo3hO5OazxRSuMPJocMldGoAb3gx8Wq6grdF9MW2D7Lz0GwiqZBN9Igz6O7QB93UqM9kYdSWCVjzqJ3eAaw==',\n",
       "  'HTTPStatusCode': 200,\n",
       "  'HTTPHeaders': {'x-amz-id-2': 'gc9uo3hO5OazxRSuMPJocMldGoAb3gx8Wq6grdF9MW2D7Lz0GwiqZBN9Igz6O7QB93UqM9kYdSWCVjzqJ3eAaw==',\n",
       "   'x-amz-request-id': '5YFSKX2RKF3Z8MRA',\n",
       "   'date': 'Wed, 09 Nov 2022 12:31:29 GMT',\n",
       "   'etag': '\"157a77f6bf2fc67f4380a2e9f64bf7d8\"',\n",
       "   'server': 'AmazonS3',\n",
       "   'content-length': '0'},\n",
       "  'RetryAttempts': 0},\n",
       " 'ETag': '\"157a77f6bf2fc67f4380a2e9f64bf7d8\"'}"
      ]
     },
     "execution_count": 14,
     "metadata": {},
     "output_type": "execute_result"
    }
   ],
   "source": [
    "s3.put_object(\n",
    "            Body=cities.to_csv(index=False),\n",
    "            Bucket='kayak-project-jedha-marion',\n",
    "            Key='cities_weather.csv',\n",
    ")"
   ]
  },
  {
   "cell_type": "code",
   "execution_count": 29,
   "id": "5e2a5dd0-7cef-4e84-9792-406324a2ba38",
   "metadata": {},
   "outputs": [
    {
     "data": {
      "text/plain": [
       "{'ResponseMetadata': {'RequestId': 'GH3HRD3VBXWHSYZE',\n",
       "  'HostId': 'ZRoTmokz97NIfeAdffmxpNaFOy6cjPhzfOjgMD1wE/UbHUc3Y2RLpOt+CG8RFNdorRJuQH7TxTg=',\n",
       "  'HTTPStatusCode': 200,\n",
       "  'HTTPHeaders': {'x-amz-id-2': 'ZRoTmokz97NIfeAdffmxpNaFOy6cjPhzfOjgMD1wE/UbHUc3Y2RLpOt+CG8RFNdorRJuQH7TxTg=',\n",
       "   'x-amz-request-id': 'GH3HRD3VBXWHSYZE',\n",
       "   'date': 'Wed, 09 Nov 2022 12:42:42 GMT',\n",
       "   'etag': '\"716ef6a0088894c6f432c2fc9ae02269\"',\n",
       "   'server': 'AmazonS3',\n",
       "   'content-length': '0'},\n",
       "  'RetryAttempts': 0},\n",
       " 'ETag': '\"716ef6a0088894c6f432c2fc9ae02269\"'}"
      ]
     },
     "execution_count": 29,
     "metadata": {},
     "output_type": "execute_result"
    }
   ],
   "source": [
    "hotels = pd.read_json('results/top20-hotels.json')\n",
    "\n",
    "s3.put_object(\n",
    "            Body=hotels.to_csv(index=False),\n",
    "            Bucket='kayak-project-jedha-marion',\n",
    "            Key='top20-hotels.csv',\n",
    ")"
   ]
  },
  {
   "cell_type": "markdown",
   "id": "debca7d5-430d-4679-8781-63f0128695d6",
   "metadata": {},
   "source": [
    "# Load to RDS\n",
    "Get the data from the S3 bucket and add them to a Postgresql database using Sqlachemy"
   ]
  },
  {
   "cell_type": "code",
   "execution_count": 44,
   "id": "930c3bf1-f826-425f-9309-9c8d1a6d9df5",
   "metadata": {},
   "outputs": [],
   "source": [
    "# Load the weather data\n",
    "s3_client = session.client('s3')\n",
    "response = s3_client.get_object(Bucket='kayak-project-jedha-marion', Key='cities_weather.csv')\n",
    "cities_weather = pd.read_csv(io.BytesIO(response.get('Body').read()))"
   ]
  },
  {
   "cell_type": "code",
   "execution_count": 45,
   "id": "84acebbc-0183-42e6-b80f-b03f899abed2",
   "metadata": {},
   "outputs": [],
   "source": [
    "# Load the hotels\n",
    "response = s3_client.get_object(Bucket='kayak-project-jedha-marion', Key='top20-hotels.csv')\n",
    "hotels = pd.read_csv(io.BytesIO(response.get('Body').read()))\n",
    "hotels['hotel_id'] = hotels.index"
   ]
  },
  {
   "cell_type": "code",
   "execution_count": 55,
   "id": "abe8ade3-df59-43ee-bfbf-77571a9d76bb",
   "metadata": {},
   "outputs": [],
   "source": [
    "# Create the database connection\n",
    "USER_NAME = 'YOUR_USER_NAME'\n",
    "PASSWORD = 'YOUR_PASSWORD'\n",
    "HOSTNAME = 'YOUR_HOSTNAME'\n",
    "DB_NAME = 'YOUR_DB_NAME'\n",
    "\n",
    "engine = create_engine(f'postgresql+psycopg2://{USER_NAME}:{PASSWORD}@{HOSTNAME}/{DB_NAME}', echo=True)"
   ]
  },
  {
   "cell_type": "code",
   "execution_count": 80,
   "id": "6f700139-9306-4d18-90ae-dbb78c7aa750",
   "metadata": {},
   "outputs": [
    {
     "name": "stdout",
     "output_type": "stream",
     "text": [
      "2022-11-09 13:33:01,843 INFO sqlalchemy.engine.Engine BEGIN (implicit)\n"
     ]
    },
    {
     "name": "stderr",
     "output_type": "stream",
     "text": [
      "2022-11-09 13:33:01 [sqlalchemy.engine.Engine] INFO: BEGIN (implicit)\n"
     ]
    },
    {
     "name": "stdout",
     "output_type": "stream",
     "text": [
      "2022-11-09 13:33:01,854 INFO sqlalchemy.engine.Engine select relname from pg_class c join pg_namespace n on n.oid=c.relnamespace where pg_catalog.pg_table_is_visible(c.oid) and relname=%(name)s\n"
     ]
    },
    {
     "name": "stderr",
     "output_type": "stream",
     "text": [
      "2022-11-09 13:33:01 [sqlalchemy.engine.Engine] INFO: select relname from pg_class c join pg_namespace n on n.oid=c.relnamespace where pg_catalog.pg_table_is_visible(c.oid) and relname=%(name)s\n"
     ]
    },
    {
     "name": "stdout",
     "output_type": "stream",
     "text": [
      "2022-11-09 13:33:01,860 INFO sqlalchemy.engine.Engine [cached since 1439s ago] {'name': 'cities_weather'}\n"
     ]
    },
    {
     "name": "stderr",
     "output_type": "stream",
     "text": [
      "2022-11-09 13:33:01 [sqlalchemy.engine.Engine] INFO: [cached since 1439s ago] {'name': 'cities_weather'}\n"
     ]
    },
    {
     "name": "stdout",
     "output_type": "stream",
     "text": [
      "2022-11-09 13:33:01,904 INFO sqlalchemy.engine.Engine \n",
      "CREATE TABLE cities_weather (\n",
      "\tcity_id SERIAL NOT NULL, \n",
      "\tcity VARCHAR, \n",
      "\tlat FLOAT, \n",
      "\tlon FLOAT, \n",
      "\tmean_feels_like INTEGER, \n",
      "\tmean_pop FLOAT, \n",
      "\tPRIMARY KEY (city_id)\n",
      ")\n",
      "\n",
      "\n"
     ]
    },
    {
     "name": "stderr",
     "output_type": "stream",
     "text": [
      "2022-11-09 13:33:01 [sqlalchemy.engine.Engine] INFO: \n",
      "CREATE TABLE cities_weather (\n",
      "\tcity_id SERIAL NOT NULL, \n",
      "\tcity VARCHAR, \n",
      "\tlat FLOAT, \n",
      "\tlon FLOAT, \n",
      "\tmean_feels_like INTEGER, \n",
      "\tmean_pop FLOAT, \n",
      "\tPRIMARY KEY (city_id)\n",
      ")\n",
      "\n",
      "\n"
     ]
    },
    {
     "name": "stdout",
     "output_type": "stream",
     "text": [
      "2022-11-09 13:33:01,911 INFO sqlalchemy.engine.Engine [no key 0.00775s] {}\n"
     ]
    },
    {
     "name": "stderr",
     "output_type": "stream",
     "text": [
      "2022-11-09 13:33:01 [sqlalchemy.engine.Engine] INFO: [no key 0.00775s] {}\n"
     ]
    },
    {
     "name": "stdout",
     "output_type": "stream",
     "text": [
      "2022-11-09 13:33:01,936 INFO sqlalchemy.engine.Engine COMMIT\n"
     ]
    },
    {
     "name": "stderr",
     "output_type": "stream",
     "text": [
      "2022-11-09 13:33:01 [sqlalchemy.engine.Engine] INFO: COMMIT\n"
     ]
    }
   ],
   "source": [
    "# Create the cities_weather table\n",
    "Base = declarative_base()\n",
    "\n",
    "class CitiesWeather(Base):\n",
    "    __tablename__ = \"cities_weather\"\n",
    "\n",
    "    city_id = Column(Integer, primary_key=True)\n",
    "    city = Column(String)\n",
    "    lat = Column(Float)\n",
    "    lon = Column(Float)\n",
    "    mean_feels_like = Column(Integer)\n",
    "    mean_pop = Column(Float)\n",
    "    hotels = relationship('Hotels', back_populates='city')\n",
    "\n",
    "Base.metadata.create_all(engine)\n"
   ]
  },
  {
   "cell_type": "code",
   "execution_count": 81,
   "id": "88057d14-81e5-4d56-a6c2-37944d921fa9",
   "metadata": {},
   "outputs": [
    {
     "name": "stdout",
     "output_type": "stream",
     "text": [
      "2022-11-09 13:33:06,715 INFO sqlalchemy.engine.Engine BEGIN (implicit)\n"
     ]
    },
    {
     "name": "stderr",
     "output_type": "stream",
     "text": [
      "2022-11-09 13:33:06 [sqlalchemy.engine.Engine] INFO: BEGIN (implicit)\n"
     ]
    },
    {
     "name": "stdout",
     "output_type": "stream",
     "text": [
      "2022-11-09 13:33:06,721 INFO sqlalchemy.engine.Engine select relname from pg_class c join pg_namespace n on n.oid=c.relnamespace where pg_catalog.pg_table_is_visible(c.oid) and relname=%(name)s\n"
     ]
    },
    {
     "name": "stderr",
     "output_type": "stream",
     "text": [
      "2022-11-09 13:33:06 [sqlalchemy.engine.Engine] INFO: select relname from pg_class c join pg_namespace n on n.oid=c.relnamespace where pg_catalog.pg_table_is_visible(c.oid) and relname=%(name)s\n"
     ]
    },
    {
     "name": "stdout",
     "output_type": "stream",
     "text": [
      "2022-11-09 13:33:06,732 INFO sqlalchemy.engine.Engine [cached since 1443s ago] {'name': 'cities_weather'}\n"
     ]
    },
    {
     "name": "stderr",
     "output_type": "stream",
     "text": [
      "2022-11-09 13:33:06 [sqlalchemy.engine.Engine] INFO: [cached since 1443s ago] {'name': 'cities_weather'}\n"
     ]
    },
    {
     "name": "stdout",
     "output_type": "stream",
     "text": [
      "2022-11-09 13:33:06,770 INFO sqlalchemy.engine.Engine select relname from pg_class c join pg_namespace n on n.oid=c.relnamespace where pg_catalog.pg_table_is_visible(c.oid) and relname=%(name)s\n"
     ]
    },
    {
     "name": "stderr",
     "output_type": "stream",
     "text": [
      "2022-11-09 13:33:06 [sqlalchemy.engine.Engine] INFO: select relname from pg_class c join pg_namespace n on n.oid=c.relnamespace where pg_catalog.pg_table_is_visible(c.oid) and relname=%(name)s\n"
     ]
    },
    {
     "name": "stdout",
     "output_type": "stream",
     "text": [
      "2022-11-09 13:33:06,777 INFO sqlalchemy.engine.Engine [cached since 1443s ago] {'name': 'hotels'}\n"
     ]
    },
    {
     "name": "stderr",
     "output_type": "stream",
     "text": [
      "2022-11-09 13:33:06 [sqlalchemy.engine.Engine] INFO: [cached since 1443s ago] {'name': 'hotels'}\n"
     ]
    },
    {
     "name": "stdout",
     "output_type": "stream",
     "text": [
      "2022-11-09 13:33:06,803 INFO sqlalchemy.engine.Engine \n",
      "CREATE TABLE hotels (\n",
      "\thotel_id SERIAL NOT NULL, \n",
      "\tname VARCHAR, \n",
      "\turl VARCHAR, \n",
      "\tdescription VARCHAR, \n",
      "\taddress VARCHAR, \n",
      "\tlat FLOAT, \n",
      "\tlon FLOAT, \n",
      "\tcity_id INTEGER, \n",
      "\tscore FLOAT, \n",
      "\trating FLOAT, \n",
      "\tPRIMARY KEY (hotel_id), \n",
      "\tFOREIGN KEY(city_id) REFERENCES cities_weather (city_id)\n",
      ")\n",
      "\n",
      "\n"
     ]
    },
    {
     "name": "stderr",
     "output_type": "stream",
     "text": [
      "2022-11-09 13:33:06 [sqlalchemy.engine.Engine] INFO: \n",
      "CREATE TABLE hotels (\n",
      "\thotel_id SERIAL NOT NULL, \n",
      "\tname VARCHAR, \n",
      "\turl VARCHAR, \n",
      "\tdescription VARCHAR, \n",
      "\taddress VARCHAR, \n",
      "\tlat FLOAT, \n",
      "\tlon FLOAT, \n",
      "\tcity_id INTEGER, \n",
      "\tscore FLOAT, \n",
      "\trating FLOAT, \n",
      "\tPRIMARY KEY (hotel_id), \n",
      "\tFOREIGN KEY(city_id) REFERENCES cities_weather (city_id)\n",
      ")\n",
      "\n",
      "\n"
     ]
    },
    {
     "name": "stdout",
     "output_type": "stream",
     "text": [
      "2022-11-09 13:33:06,810 INFO sqlalchemy.engine.Engine [no key 0.00673s] {}\n"
     ]
    },
    {
     "name": "stderr",
     "output_type": "stream",
     "text": [
      "2022-11-09 13:33:06 [sqlalchemy.engine.Engine] INFO: [no key 0.00673s] {}\n"
     ]
    },
    {
     "name": "stdout",
     "output_type": "stream",
     "text": [
      "2022-11-09 13:33:06,841 INFO sqlalchemy.engine.Engine COMMIT\n"
     ]
    },
    {
     "name": "stderr",
     "output_type": "stream",
     "text": [
      "2022-11-09 13:33:06 [sqlalchemy.engine.Engine] INFO: COMMIT\n"
     ]
    }
   ],
   "source": [
    "# Create the hotels table\n",
    "class Hotels(Base):\n",
    "    __tablename__ = \"hotels\"\n",
    "\n",
    "    hotel_id = Column(Integer, primary_key=True, autoincrement=True)\n",
    "    name = Column(String)\n",
    "    url = Column(String)\n",
    "    description = Column(String)\n",
    "    address = Column(String)\n",
    "    lat = Column(Float)\n",
    "    lon = Column(Float)\n",
    "    city_id = Column(Integer, ForeignKey('cities_weather.city_id'))\n",
    "    city = relationship('CitiesWeather', back_populates='hotels')\n",
    "    score = Column(Float)\n",
    "    rating = Column(Float)\n",
    "    \n",
    "Base.metadata.create_all(engine)"
   ]
  },
  {
   "cell_type": "code",
   "execution_count": 82,
   "id": "debda360-0194-47c7-878b-96b9ee906a34",
   "metadata": {},
   "outputs": [
    {
     "name": "stdout",
     "output_type": "stream",
     "text": [
      "2022-11-09 13:33:12,825 INFO sqlalchemy.engine.Engine select relname from pg_class c join pg_namespace n on n.oid=c.relnamespace where pg_catalog.pg_table_is_visible(c.oid) and relname=%(name)s\n"
     ]
    },
    {
     "name": "stderr",
     "output_type": "stream",
     "text": [
      "2022-11-09 13:33:12 [sqlalchemy.engine.Engine] INFO: select relname from pg_class c join pg_namespace n on n.oid=c.relnamespace where pg_catalog.pg_table_is_visible(c.oid) and relname=%(name)s\n"
     ]
    },
    {
     "name": "stdout",
     "output_type": "stream",
     "text": [
      "2022-11-09 13:33:12,837 INFO sqlalchemy.engine.Engine [cached since 1449s ago] {'name': 'cities_weather'}\n"
     ]
    },
    {
     "name": "stderr",
     "output_type": "stream",
     "text": [
      "2022-11-09 13:33:12 [sqlalchemy.engine.Engine] INFO: [cached since 1449s ago] {'name': 'cities_weather'}\n"
     ]
    },
    {
     "name": "stdout",
     "output_type": "stream",
     "text": [
      "2022-11-09 13:33:12,893 INFO sqlalchemy.engine.Engine BEGIN (implicit)\n"
     ]
    },
    {
     "name": "stderr",
     "output_type": "stream",
     "text": [
      "2022-11-09 13:33:12 [sqlalchemy.engine.Engine] INFO: BEGIN (implicit)\n"
     ]
    },
    {
     "name": "stdout",
     "output_type": "stream",
     "text": [
      "2022-11-09 13:33:12,903 INFO sqlalchemy.engine.Engine INSERT INTO cities_weather (city_id, city, lat, lon, mean_feels_like, mean_pop) VALUES (%(city_id)s, %(city)s, %(lat)s, %(lon)s, %(mean_feels_like)s, %(mean_pop)s)\n"
     ]
    },
    {
     "name": "stderr",
     "output_type": "stream",
     "text": [
      "2022-11-09 13:33:12 [sqlalchemy.engine.Engine] INFO: INSERT INTO cities_weather (city_id, city, lat, lon, mean_feels_like, mean_pop) VALUES (%(city_id)s, %(city)s, %(lat)s, %(lon)s, %(mean_feels_like)s, %(mean_pop)s)\n"
     ]
    },
    {
     "name": "stdout",
     "output_type": "stream",
     "text": [
      "2022-11-09 13:33:12,914 INFO sqlalchemy.engine.Engine [generated in 0.01166s] ({'city_id': 0, 'city': 'Cassis', 'lat': 43.2140359, 'lon': 5.5396318, 'mean_feels_like': 19, 'mean_pop': 0.0}, {'city_id': 1, 'city': 'Collioure', 'lat': 42.52505, 'lon': 3.0831554, 'mean_feels_like': 19, 'mean_pop': 0.0}, {'city_id': 2, 'city': 'Carcassonne', 'lat': 43.2130358, 'lon': 2.3491069, 'mean_feels_like': 19, 'mean_pop': 0.0}, {'city_id': 3, 'city': 'Marseille', 'lat': 43.2961743, 'lon': 5.3699525, 'mean_feels_like': 18, 'mean_pop': 0.0}, {'city_id': 4, 'city': 'Aix en Provence', 'lat': 43.5298424, 'lon': 5.4474738, 'mean_feels_like': 18, 'mean_pop': 0.0})\n"
     ]
    },
    {
     "name": "stderr",
     "output_type": "stream",
     "text": [
      "2022-11-09 13:33:12 [sqlalchemy.engine.Engine] INFO: [generated in 0.01166s] ({'city_id': 0, 'city': 'Cassis', 'lat': 43.2140359, 'lon': 5.5396318, 'mean_feels_like': 19, 'mean_pop': 0.0}, {'city_id': 1, 'city': 'Collioure', 'lat': 42.52505, 'lon': 3.0831554, 'mean_feels_like': 19, 'mean_pop': 0.0}, {'city_id': 2, 'city': 'Carcassonne', 'lat': 43.2130358, 'lon': 2.3491069, 'mean_feels_like': 19, 'mean_pop': 0.0}, {'city_id': 3, 'city': 'Marseille', 'lat': 43.2961743, 'lon': 5.3699525, 'mean_feels_like': 18, 'mean_pop': 0.0}, {'city_id': 4, 'city': 'Aix en Provence', 'lat': 43.5298424, 'lon': 5.4474738, 'mean_feels_like': 18, 'mean_pop': 0.0})\n"
     ]
    },
    {
     "name": "stdout",
     "output_type": "stream",
     "text": [
      "2022-11-09 13:33:12,947 INFO sqlalchemy.engine.Engine COMMIT\n"
     ]
    },
    {
     "name": "stderr",
     "output_type": "stream",
     "text": [
      "2022-11-09 13:33:12 [sqlalchemy.engine.Engine] INFO: COMMIT\n"
     ]
    }
   ],
   "source": [
    "# Add the data to their respective table\n",
    "cities_weather.to_sql(con=engine, name=CitiesWeather.__tablename__, if_exists='append', index=False)\n",
    "hotels.to_sql(con=engine, name=Hotels.__tablename__, if_exists='append', index=False)"
   ]
  },
  {
   "cell_type": "code",
   "execution_count": 86,
   "id": "f24360d3-9543-45e5-a1e1-d8c913b78003",
   "metadata": {},
   "outputs": [
    {
     "name": "stdout",
     "output_type": "stream",
     "text": [
      "2022-11-09 13:37:01,186 INFO sqlalchemy.engine.Engine select relname from pg_class c join pg_namespace n on n.oid=c.relnamespace where pg_catalog.pg_table_is_visible(c.oid) and relname=%(name)s\n"
     ]
    },
    {
     "name": "stderr",
     "output_type": "stream",
     "text": [
      "2022-11-09 13:37:01 [sqlalchemy.engine.Engine] INFO: select relname from pg_class c join pg_namespace n on n.oid=c.relnamespace where pg_catalog.pg_table_is_visible(c.oid) and relname=%(name)s\n"
     ]
    },
    {
     "name": "stdout",
     "output_type": "stream",
     "text": [
      "2022-11-09 13:37:01,202 INFO sqlalchemy.engine.Engine [cached since 1678s ago] {'name': 'SELECT * FROM cities_weather c INNER JOIN hotels h ON c.city_id=h.city_id'}\n"
     ]
    },
    {
     "name": "stderr",
     "output_type": "stream",
     "text": [
      "2022-11-09 13:37:01 [sqlalchemy.engine.Engine] INFO: [cached since 1678s ago] {'name': 'SELECT * FROM cities_weather c INNER JOIN hotels h ON c.city_id=h.city_id'}\n"
     ]
    },
    {
     "name": "stdout",
     "output_type": "stream",
     "text": [
      "2022-11-09 13:37:01,264 INFO sqlalchemy.engine.Engine SELECT * FROM cities_weather c INNER JOIN hotels h ON c.city_id=h.city_id\n"
     ]
    },
    {
     "name": "stderr",
     "output_type": "stream",
     "text": [
      "2022-11-09 13:37:01 [sqlalchemy.engine.Engine] INFO: SELECT * FROM cities_weather c INNER JOIN hotels h ON c.city_id=h.city_id\n"
     ]
    },
    {
     "name": "stdout",
     "output_type": "stream",
     "text": [
      "2022-11-09 13:37:01,269 INFO sqlalchemy.engine.Engine [generated in 0.00527s] {}\n"
     ]
    },
    {
     "name": "stderr",
     "output_type": "stream",
     "text": [
      "2022-11-09 13:37:01 [sqlalchemy.engine.Engine] INFO: [generated in 0.00527s] {}\n"
     ]
    },
    {
     "data": {
      "text/html": [
       "<div>\n",
       "<style scoped>\n",
       "    .dataframe tbody tr th:only-of-type {\n",
       "        vertical-align: middle;\n",
       "    }\n",
       "\n",
       "    .dataframe tbody tr th {\n",
       "        vertical-align: top;\n",
       "    }\n",
       "\n",
       "    .dataframe thead th {\n",
       "        text-align: right;\n",
       "    }\n",
       "</style>\n",
       "<table border=\"1\" class=\"dataframe\">\n",
       "  <thead>\n",
       "    <tr style=\"text-align: right;\">\n",
       "      <th></th>\n",
       "      <th>city_id</th>\n",
       "      <th>city</th>\n",
       "      <th>lat</th>\n",
       "      <th>lon</th>\n",
       "      <th>mean_feels_like</th>\n",
       "      <th>mean_pop</th>\n",
       "      <th>hotel_id</th>\n",
       "      <th>name</th>\n",
       "      <th>url</th>\n",
       "      <th>description</th>\n",
       "      <th>address</th>\n",
       "      <th>lat</th>\n",
       "      <th>lon</th>\n",
       "      <th>city_id</th>\n",
       "      <th>score</th>\n",
       "      <th>rating</th>\n",
       "    </tr>\n",
       "  </thead>\n",
       "  <tbody>\n",
       "    <tr>\n",
       "      <th>0</th>\n",
       "      <td>0</td>\n",
       "      <td>Cassis</td>\n",
       "      <td>43.214036</td>\n",
       "      <td>5.539632</td>\n",
       "      <td>19</td>\n",
       "      <td>0.0</td>\n",
       "      <td>0</td>\n",
       "      <td>Home Cassis - Maison Julou - Piscine chauffée</td>\n",
       "      <td>https://www.booking.com/hotel/fr/home-cassis-m...</td>\n",
       "      <td>Offrant une vue sur le jardin, le Home Cassis ...</td>\n",
       "      <td>23 Avenue de la Marne, 13260 Cassis, France</td>\n",
       "      <td>43.222080</td>\n",
       "      <td>5.537927</td>\n",
       "      <td>0</td>\n",
       "      <td>7.6</td>\n",
       "      <td>3.0</td>\n",
       "    </tr>\n",
       "    <tr>\n",
       "      <th>1</th>\n",
       "      <td>0</td>\n",
       "      <td>Cassis</td>\n",
       "      <td>43.214036</td>\n",
       "      <td>5.539632</td>\n",
       "      <td>19</td>\n",
       "      <td>0.0</td>\n",
       "      <td>1</td>\n",
       "      <td>LA FALAISE PARADIS Vue mer 180°</td>\n",
       "      <td>https://www.booking.com/hotel/fr/la-falaise-pa...</td>\n",
       "      <td>Vous pouvez bénéficier d'une réduction Genius ...</td>\n",
       "      <td>3 Avenue de Provence, 13260 Cassis, France</td>\n",
       "      <td>43.215295</td>\n",
       "      <td>5.546231</td>\n",
       "      <td>0</td>\n",
       "      <td>7.5</td>\n",
       "      <td>3.0</td>\n",
       "    </tr>\n",
       "    <tr>\n",
       "      <th>2</th>\n",
       "      <td>0</td>\n",
       "      <td>Cassis</td>\n",
       "      <td>43.214036</td>\n",
       "      <td>5.539632</td>\n",
       "      <td>19</td>\n",
       "      <td>0.0</td>\n",
       "      <td>2</td>\n",
       "      <td>Le Cleli</td>\n",
       "      <td>https://www.booking.com/hotel/fr/le-cleli.fr.html</td>\n",
       "      <td>Vous pouvez bénéficier d'une réduction Genius ...</td>\n",
       "      <td>11 Rue de la Ciotat, 13260 Cassis, France</td>\n",
       "      <td>43.215098</td>\n",
       "      <td>5.540487</td>\n",
       "      <td>0</td>\n",
       "      <td>8.1</td>\n",
       "      <td>3.0</td>\n",
       "    </tr>\n",
       "    <tr>\n",
       "      <th>3</th>\n",
       "      <td>0</td>\n",
       "      <td>Cassis</td>\n",
       "      <td>43.214036</td>\n",
       "      <td>5.539632</td>\n",
       "      <td>19</td>\n",
       "      <td>0.0</td>\n",
       "      <td>3</td>\n",
       "      <td>appartement cosy à 10 mètres du port de Cassis</td>\n",
       "      <td>https://www.booking.com/hotel/fr/appartement-c...</td>\n",
       "      <td>Vous pouvez bénéficier d'une réduction Genius ...</td>\n",
       "      <td>6 Rue Bremond, 13260 Cassis, France</td>\n",
       "      <td>43.215335</td>\n",
       "      <td>5.536861</td>\n",
       "      <td>0</td>\n",
       "      <td>8.3</td>\n",
       "      <td>3.0</td>\n",
       "    </tr>\n",
       "    <tr>\n",
       "      <th>4</th>\n",
       "      <td>0</td>\n",
       "      <td>Cassis</td>\n",
       "      <td>43.214036</td>\n",
       "      <td>5.539632</td>\n",
       "      <td>19</td>\n",
       "      <td>0.0</td>\n",
       "      <td>4</td>\n",
       "      <td>Cassis, le Grand Bleu, triplex vue mer, port p...</td>\n",
       "      <td>https://www.booking.com/hotel/fr/le-grand-bleu...</td>\n",
       "      <td>Vous pouvez bénéficier d'une réduction Genius ...</td>\n",
       "      <td>3 Avenue Auguste Favier, 13260 Cassis, France</td>\n",
       "      <td>43.220804</td>\n",
       "      <td>5.542296</td>\n",
       "      <td>0</td>\n",
       "      <td>9.0</td>\n",
       "      <td>4.0</td>\n",
       "    </tr>\n",
       "    <tr>\n",
       "      <th>...</th>\n",
       "      <td>...</td>\n",
       "      <td>...</td>\n",
       "      <td>...</td>\n",
       "      <td>...</td>\n",
       "      <td>...</td>\n",
       "      <td>...</td>\n",
       "      <td>...</td>\n",
       "      <td>...</td>\n",
       "      <td>...</td>\n",
       "      <td>...</td>\n",
       "      <td>...</td>\n",
       "      <td>...</td>\n",
       "      <td>...</td>\n",
       "      <td>...</td>\n",
       "      <td>...</td>\n",
       "      <td>...</td>\n",
       "    </tr>\n",
       "    <tr>\n",
       "      <th>95</th>\n",
       "      <td>0</td>\n",
       "      <td>Cassis</td>\n",
       "      <td>43.214036</td>\n",
       "      <td>5.539632</td>\n",
       "      <td>19</td>\n",
       "      <td>0.0</td>\n",
       "      <td>95</td>\n",
       "      <td>Le Duplex</td>\n",
       "      <td>https://www.booking.com/hotel/fr/le-duplex-cas...</td>\n",
       "      <td>Vous pouvez bénéficier d'une réduction Genius ...</td>\n",
       "      <td>11 Rue de la Ciotat, 13260 Cassis, France</td>\n",
       "      <td>43.215055</td>\n",
       "      <td>5.540573</td>\n",
       "      <td>0</td>\n",
       "      <td>8.2</td>\n",
       "      <td>3.0</td>\n",
       "    </tr>\n",
       "    <tr>\n",
       "      <th>96</th>\n",
       "      <td>0</td>\n",
       "      <td>Cassis</td>\n",
       "      <td>43.214036</td>\n",
       "      <td>5.539632</td>\n",
       "      <td>19</td>\n",
       "      <td>0.0</td>\n",
       "      <td>96</td>\n",
       "      <td>Cassis Ma Vie Là</td>\n",
       "      <td>https://www.booking.com/hotel/fr/cassis-ma-vie...</td>\n",
       "      <td>Vous pouvez bénéficier d'une réduction Genius ...</td>\n",
       "      <td>10 ter avenue Augustin Isnard, 13260 Cassis, F...</td>\n",
       "      <td>43.216905</td>\n",
       "      <td>5.541446</td>\n",
       "      <td>0</td>\n",
       "      <td>9.1</td>\n",
       "      <td>3.0</td>\n",
       "    </tr>\n",
       "    <tr>\n",
       "      <th>97</th>\n",
       "      <td>0</td>\n",
       "      <td>Cassis</td>\n",
       "      <td>43.214036</td>\n",
       "      <td>5.539632</td>\n",
       "      <td>19</td>\n",
       "      <td>0.0</td>\n",
       "      <td>97</td>\n",
       "      <td>appartement du pêcheur à Cassis à 10 mètres du...</td>\n",
       "      <td>https://www.booking.com/hotel/fr/appartement-d...</td>\n",
       "      <td>Vous pouvez bénéficier d'une réduction Genius ...</td>\n",
       "      <td>6 Rue Bremond, 13260 Cassis, France</td>\n",
       "      <td>43.215340</td>\n",
       "      <td>5.536858</td>\n",
       "      <td>0</td>\n",
       "      <td>8.6</td>\n",
       "      <td>3.0</td>\n",
       "    </tr>\n",
       "    <tr>\n",
       "      <th>98</th>\n",
       "      <td>0</td>\n",
       "      <td>Cassis</td>\n",
       "      <td>43.214036</td>\n",
       "      <td>5.539632</td>\n",
       "      <td>19</td>\n",
       "      <td>0.0</td>\n",
       "      <td>98</td>\n",
       "      <td>BALCON SUR MER vue mer</td>\n",
       "      <td>https://www.booking.com/hotel/fr/balcon-sur-me...</td>\n",
       "      <td>Vous pouvez bénéficier d'une réduction Genius ...</td>\n",
       "      <td>Résidence La Rade Bt C6 av Amiral Ganteaume 13...</td>\n",
       "      <td>43.215894</td>\n",
       "      <td>5.534763</td>\n",
       "      <td>0</td>\n",
       "      <td>8.0</td>\n",
       "      <td>4.0</td>\n",
       "    </tr>\n",
       "    <tr>\n",
       "      <th>99</th>\n",
       "      <td>0</td>\n",
       "      <td>Cassis</td>\n",
       "      <td>43.214036</td>\n",
       "      <td>5.539632</td>\n",
       "      <td>19</td>\n",
       "      <td>0.0</td>\n",
       "      <td>99</td>\n",
       "      <td>Appart Port Cassis Village Parking</td>\n",
       "      <td>https://www.booking.com/hotel/fr/appartement-p...</td>\n",
       "      <td>L'Appartement Port Cassis Village 6p. se situe...</td>\n",
       "      <td>1 RUE MICHEL ARNAUD, 13260 Cassis, France</td>\n",
       "      <td>43.214626</td>\n",
       "      <td>5.537844</td>\n",
       "      <td>0</td>\n",
       "      <td>8.9</td>\n",
       "      <td>3.0</td>\n",
       "    </tr>\n",
       "  </tbody>\n",
       "</table>\n",
       "<p>100 rows × 16 columns</p>\n",
       "</div>"
      ],
      "text/plain": [
       "    city_id    city        lat       lon  mean_feels_like  mean_pop  hotel_id  \\\n",
       "0         0  Cassis  43.214036  5.539632               19       0.0         0   \n",
       "1         0  Cassis  43.214036  5.539632               19       0.0         1   \n",
       "2         0  Cassis  43.214036  5.539632               19       0.0         2   \n",
       "3         0  Cassis  43.214036  5.539632               19       0.0         3   \n",
       "4         0  Cassis  43.214036  5.539632               19       0.0         4   \n",
       "..      ...     ...        ...       ...              ...       ...       ...   \n",
       "95        0  Cassis  43.214036  5.539632               19       0.0        95   \n",
       "96        0  Cassis  43.214036  5.539632               19       0.0        96   \n",
       "97        0  Cassis  43.214036  5.539632               19       0.0        97   \n",
       "98        0  Cassis  43.214036  5.539632               19       0.0        98   \n",
       "99        0  Cassis  43.214036  5.539632               19       0.0        99   \n",
       "\n",
       "                                                 name  \\\n",
       "0       Home Cassis - Maison Julou - Piscine chauffée   \n",
       "1                     LA FALAISE PARADIS Vue mer 180°   \n",
       "2                                            Le Cleli   \n",
       "3      appartement cosy à 10 mètres du port de Cassis   \n",
       "4   Cassis, le Grand Bleu, triplex vue mer, port p...   \n",
       "..                                                ...   \n",
       "95                                          Le Duplex   \n",
       "96                                   Cassis Ma Vie Là   \n",
       "97  appartement du pêcheur à Cassis à 10 mètres du...   \n",
       "98                             BALCON SUR MER vue mer   \n",
       "99                 Appart Port Cassis Village Parking   \n",
       "\n",
       "                                                  url  \\\n",
       "0   https://www.booking.com/hotel/fr/home-cassis-m...   \n",
       "1   https://www.booking.com/hotel/fr/la-falaise-pa...   \n",
       "2   https://www.booking.com/hotel/fr/le-cleli.fr.html   \n",
       "3   https://www.booking.com/hotel/fr/appartement-c...   \n",
       "4   https://www.booking.com/hotel/fr/le-grand-bleu...   \n",
       "..                                                ...   \n",
       "95  https://www.booking.com/hotel/fr/le-duplex-cas...   \n",
       "96  https://www.booking.com/hotel/fr/cassis-ma-vie...   \n",
       "97  https://www.booking.com/hotel/fr/appartement-d...   \n",
       "98  https://www.booking.com/hotel/fr/balcon-sur-me...   \n",
       "99  https://www.booking.com/hotel/fr/appartement-p...   \n",
       "\n",
       "                                          description  \\\n",
       "0   Offrant une vue sur le jardin, le Home Cassis ...   \n",
       "1   Vous pouvez bénéficier d'une réduction Genius ...   \n",
       "2   Vous pouvez bénéficier d'une réduction Genius ...   \n",
       "3   Vous pouvez bénéficier d'une réduction Genius ...   \n",
       "4   Vous pouvez bénéficier d'une réduction Genius ...   \n",
       "..                                                ...   \n",
       "95  Vous pouvez bénéficier d'une réduction Genius ...   \n",
       "96  Vous pouvez bénéficier d'une réduction Genius ...   \n",
       "97  Vous pouvez bénéficier d'une réduction Genius ...   \n",
       "98  Vous pouvez bénéficier d'une réduction Genius ...   \n",
       "99  L'Appartement Port Cassis Village 6p. se situe...   \n",
       "\n",
       "                                              address        lat       lon  \\\n",
       "0         23 Avenue de la Marne, 13260 Cassis, France  43.222080  5.537927   \n",
       "1          3 Avenue de Provence, 13260 Cassis, France  43.215295  5.546231   \n",
       "2           11 Rue de la Ciotat, 13260 Cassis, France  43.215098  5.540487   \n",
       "3                 6 Rue Bremond, 13260 Cassis, France  43.215335  5.536861   \n",
       "4       3 Avenue Auguste Favier, 13260 Cassis, France  43.220804  5.542296   \n",
       "..                                                ...        ...       ...   \n",
       "95          11 Rue de la Ciotat, 13260 Cassis, France  43.215055  5.540573   \n",
       "96  10 ter avenue Augustin Isnard, 13260 Cassis, F...  43.216905  5.541446   \n",
       "97                6 Rue Bremond, 13260 Cassis, France  43.215340  5.536858   \n",
       "98  Résidence La Rade Bt C6 av Amiral Ganteaume 13...  43.215894  5.534763   \n",
       "99          1 RUE MICHEL ARNAUD, 13260 Cassis, France  43.214626  5.537844   \n",
       "\n",
       "    city_id  score  rating  \n",
       "0         0    7.6     3.0  \n",
       "1         0    7.5     3.0  \n",
       "2         0    8.1     3.0  \n",
       "3         0    8.3     3.0  \n",
       "4         0    9.0     4.0  \n",
       "..      ...    ...     ...  \n",
       "95        0    8.2     3.0  \n",
       "96        0    9.1     3.0  \n",
       "97        0    8.6     3.0  \n",
       "98        0    8.0     4.0  \n",
       "99        0    8.9     3.0  \n",
       "\n",
       "[100 rows x 16 columns]"
      ]
     },
     "execution_count": 86,
     "metadata": {},
     "output_type": "execute_result"
    }
   ],
   "source": [
    "# Verify that everything is working fine !\n",
    "query = text('SELECT * FROM cities_weather c INNER JOIN hotels h ON c.city_id=h.city_id')\n",
    "pd.read_sql(query,engine)"
   ]
  },
  {
   "cell_type": "code",
   "execution_count": null,
   "id": "3ab47c72-ae1a-4eea-85e1-d97e923f35be",
   "metadata": {},
   "outputs": [],
   "source": []
  }
 ],
 "metadata": {
  "kernelspec": {
   "display_name": "Python 3 (ipykernel)",
   "language": "python",
   "name": "python3"
  },
  "language_info": {
   "codemirror_mode": {
    "name": "ipython",
    "version": 3
   },
   "file_extension": ".py",
   "mimetype": "text/x-python",
   "name": "python",
   "nbconvert_exporter": "python",
   "pygments_lexer": "ipython3",
   "version": "3.7.15"
  }
 },
 "nbformat": 4,
 "nbformat_minor": 5
}
